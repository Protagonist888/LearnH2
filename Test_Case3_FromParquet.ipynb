{
 "cells": [
  {
   "cell_type": "markdown",
   "id": "20cc6a13",
   "metadata": {},
   "source": [
    "# LangChain: Evaluation¶\n",
    "### Outline:\n",
    "* Example generation\n",
    "* Manual evaluation (and debuging)\n",
    "* LLM-assisted evaluation"
   ]
  },
  {
   "cell_type": "code",
   "execution_count": 10,
   "id": "12b2ded1",
   "metadata": {},
   "outputs": [
    {
     "name": "stdout",
     "output_type": "stream",
     "text": [
      "OpenAI API Key:········\n"
     ]
    }
   ],
   "source": [
    "import os\n",
    "import getpass\n",
    "import openai\n",
    "import time\n",
    "import markdown\n",
    "import pandas as pd\n",
    "import pyarrow as pa\n",
    "import pyarrow.parquet as pq\n",
    "import pickle\n",
    "import json\n",
    "from IPython.display import display, Markdown\n",
    "\n",
    "from dotenv import load_dotenv, find_dotenv\n",
    "_ = load_dotenv(find_dotenv()) # read local .env file\n",
    "\n",
    "os.environ['OPENAI_API_KEY'] = getpass.getpass('OpenAI API Key:')"
   ]
  },
  {
   "cell_type": "markdown",
   "id": "1358f8c3",
   "metadata": {},
   "source": [
    "# Create our QandA application"
   ]
  },
  {
   "cell_type": "code",
   "execution_count": 11,
   "id": "3a4beefd",
   "metadata": {},
   "outputs": [],
   "source": [
    "from langchain.chains import RetrievalQA\n",
    "from langchain.chat_models import ChatOpenAI\n",
    "from langchain.document_loaders import PyPDFLoader\n",
    "from langchain.indexes import VectorstoreIndexCreator\n",
    "from langchain.vectorstores import DocArrayInMemorySearch\n",
    "\n",
    "#PDF directory loader\n",
    "from langchain.document_loaders import PyPDFDirectoryLoader"
   ]
  },
  {
   "cell_type": "code",
   "execution_count": 12,
   "id": "769cc14a",
   "metadata": {},
   "outputs": [
    {
     "name": "stdout",
     "output_type": "stream",
     "text": [
      "300.3962752819061\n"
     ]
    }
   ],
   "source": [
    "# file = 'GlobalPowerPlantDB_USonly.csv'\n",
    "start_time = time.time()\n",
    "\n",
    "pdf_folder_path = \"/Users/markc/Hydrogen/\"\n",
    "loader = PyPDFDirectoryLoader(pdf_folder_path)\n",
    "data = loader.load_and_split()\n",
    "\n",
    "\n",
    "end_time = time.time()\n",
    "run_time = end_time-start_time\n",
    "print(run_time)\n",
    "\n",
    "# For 3900 pages...\n",
    "#loader.load() takes 137 sec. \n",
    "#loader.load_and_split() takes 129 sec.6800 pgs -> 300s"
   ]
  },
  {
   "cell_type": "code",
   "execution_count": 13,
   "id": "73c0ee9b",
   "metadata": {},
   "outputs": [
    {
     "name": "stdout",
     "output_type": "stream",
     "text": [
      "<class 'list'>\n"
     ]
    },
    {
     "data": {
      "text/plain": [
       "6864"
      ]
     },
     "execution_count": 13,
     "metadata": {},
     "output_type": "execute_result"
    }
   ],
   "source": [
    "print(type(data))\n",
    "data[111]\n",
    "len(data)"
   ]
  },
  {
   "cell_type": "code",
   "execution_count": 14,
   "id": "f1b7dde0",
   "metadata": {},
   "outputs": [
    {
     "data": {
      "text/plain": [
       "13728"
      ]
     },
     "execution_count": 14,
     "metadata": {},
     "output_type": "execute_result"
    }
   ],
   "source": [
    "df = pd.DataFrame(data)\n",
    "df.astype(str)\n",
    "df.rename(columns={0: 'input', 1: 'metadata'},inplace=True)\n",
    "df.size"
   ]
  },
  {
   "cell_type": "code",
   "execution_count": 18,
   "id": "88caff68",
   "metadata": {},
   "outputs": [
    {
     "name": "stdout",
     "output_type": "stream",
     "text": [
      "                                               input  \\\n",
      "0  ('page_content', '1 \\n \\nComparison of hydroge...   \n",
      "1  ('page_content', '2 \\n \\n \\n \\n1. Vehicle char...   \n",
      "2  ('page_content', '3 \\n \\n \\nThe energy consump...   \n",
      "3  ('page_content', \"4 \\n \\n2. Duty cycles  \\nThe...   \n",
      "4  ('page_content', \"5 \\n \\n \\n \\nVehicle costs  ...   \n",
      "5  ('page_content', \"6 \\n \\nGHG emissions). Depen...   \n",
      "6  ('page_content', '7 \\n \\n \\n \\n \\nElectricity ...   \n",
      "7  ('page_content', '8 \\n \\nhydrogen refuelling \\...   \n",
      "8  ('page_content', '9 \\n \\nService life  15 year...   \n",
      "9  ('page_content', \"10 \\n \\n3.4. Road charges  \\...   \n",
      "\n",
      "                                            metadata  \n",
      "0  ('metadata', {'source': '\\\\Users\\\\markc\\\\Hydro...  \n",
      "1  ('metadata', {'source': '\\\\Users\\\\markc\\\\Hydro...  \n",
      "2  ('metadata', {'source': '\\\\Users\\\\markc\\\\Hydro...  \n",
      "3  ('metadata', {'source': '\\\\Users\\\\markc\\\\Hydro...  \n",
      "4  ('metadata', {'source': '\\\\Users\\\\markc\\\\Hydro...  \n",
      "5  ('metadata', {'source': '\\\\Users\\\\markc\\\\Hydro...  \n",
      "6  ('metadata', {'source': '\\\\Users\\\\markc\\\\Hydro...  \n",
      "7  ('metadata', {'source': '\\\\Users\\\\markc\\\\Hydro...  \n",
      "8  ('metadata', {'source': '\\\\Users\\\\markc\\\\Hydro...  \n",
      "9  ('metadata', {'source': '\\\\Users\\\\markc\\\\Hydro...  \n"
     ]
    }
   ],
   "source": [
    "# Convert columns to string so to_parquet will work\n",
    "df[df.columns[0]]=df[df.columns[0]].astype(str)\n",
    "df[df.columns[1]]=df[df.columns[1]].astype(str)\n",
    "print(df.head(10))"
   ]
  },
  {
   "cell_type": "code",
   "execution_count": 23,
   "id": "d1601a9d",
   "metadata": {},
   "outputs": [],
   "source": [
    "# Jenny from Estuary notes Parquet is \"not easy to work with\" so will try JSON format. \n",
    "# df.to_parquet('data.parquet')\n",
    "\n",
    "#convert to dataframe to JSON file\n",
    "json_data = df.to_json(orient='records')\n"
   ]
  },
  {
   "cell_type": "code",
   "execution_count": 24,
   "id": "d5425418",
   "metadata": {},
   "outputs": [],
   "source": [
    "with open('data.json', 'w') as file:\n",
    "    file.write(json_data)"
   ]
  },
  {
   "cell_type": "code",
   "execution_count": 19,
   "id": "fbfd9abd",
   "metadata": {},
   "outputs": [
    {
     "name": "stderr",
     "output_type": "stream",
     "text": [
      "Retrying langchain.embeddings.openai.embed_with_retry.<locals>._embed_with_retry in 4.0 seconds as it raised RateLimitError: Rate limit reached for default-text-embedding-ada-002 in organization org-0QB3BCHxO2VYRI58a5rutnKr on tokens per min. Limit: 1000000 / min. Current: 834786 / min. Contact us through our help center at help.openai.com if you continue to have issues..\n",
      "Retrying langchain.embeddings.openai.embed_with_retry.<locals>._embed_with_retry in 4.0 seconds as it raised RateLimitError: Rate limit reached for default-text-embedding-ada-002 in organization org-0QB3BCHxO2VYRI58a5rutnKr on tokens per min. Limit: 1000000 / min. Current: 893220 / min. Contact us through our help center at help.openai.com if you continue to have issues..\n",
      "Retrying langchain.embeddings.openai.embed_with_retry.<locals>._embed_with_retry in 4.0 seconds as it raised RateLimitError: Rate limit reached for default-text-embedding-ada-002 in organization org-0QB3BCHxO2VYRI58a5rutnKr on tokens per min. Limit: 1000000 / min. Current: 903583 / min. Contact us through our help center at help.openai.com if you continue to have issues..\n",
      "Retrying langchain.embeddings.openai.embed_with_retry.<locals>._embed_with_retry in 4.0 seconds as it raised RateLimitError: Rate limit reached for default-text-embedding-ada-002 in organization org-0QB3BCHxO2VYRI58a5rutnKr on tokens per min. Limit: 1000000 / min. Current: 825215 / min. Contact us through our help center at help.openai.com if you continue to have issues..\n",
      "Retrying langchain.embeddings.openai.embed_with_retry.<locals>._embed_with_retry in 4.0 seconds as it raised RateLimitError: Rate limit reached for default-text-embedding-ada-002 in organization org-0QB3BCHxO2VYRI58a5rutnKr on tokens per min. Limit: 1000000 / min. Current: 894603 / min. Contact us through our help center at help.openai.com if you continue to have issues..\n",
      "Retrying langchain.embeddings.openai.embed_with_retry.<locals>._embed_with_retry in 4.0 seconds as it raised RateLimitError: Rate limit reached for default-text-embedding-ada-002 in organization org-0QB3BCHxO2VYRI58a5rutnKr on tokens per min. Limit: 1000000 / min. Current: 873306 / min. Contact us through our help center at help.openai.com if you continue to have issues..\n",
      "Retrying langchain.embeddings.openai.embed_with_retry.<locals>._embed_with_retry in 4.0 seconds as it raised RateLimitError: Rate limit reached for default-text-embedding-ada-002 in organization org-0QB3BCHxO2VYRI58a5rutnKr on tokens per min. Limit: 1000000 / min. Current: 796858 / min. Contact us through our help center at help.openai.com if you continue to have issues..\n",
      "Retrying langchain.embeddings.openai.embed_with_retry.<locals>._embed_with_retry in 4.0 seconds as it raised RateLimitError: Rate limit reached for default-text-embedding-ada-002 in organization org-0QB3BCHxO2VYRI58a5rutnKr on tokens per min. Limit: 1000000 / min. Current: 892506 / min. Contact us through our help center at help.openai.com if you continue to have issues..\n",
      "Retrying langchain.embeddings.openai.embed_with_retry.<locals>._embed_with_retry in 4.0 seconds as it raised RateLimitError: Rate limit reached for default-text-embedding-ada-002 in organization org-0QB3BCHxO2VYRI58a5rutnKr on tokens per min. Limit: 1000000 / min. Current: 816508 / min. Contact us through our help center at help.openai.com if you continue to have issues..\n",
      "Retrying langchain.embeddings.openai.embed_with_retry.<locals>._embed_with_retry in 4.0 seconds as it raised RateLimitError: Rate limit reached for default-text-embedding-ada-002 in organization org-0QB3BCHxO2VYRI58a5rutnKr on tokens per min. Limit: 1000000 / min. Current: 892481 / min. Contact us through our help center at help.openai.com if you continue to have issues..\n",
      "Retrying langchain.embeddings.openai.embed_with_retry.<locals>._embed_with_retry in 4.0 seconds as it raised RateLimitError: Rate limit reached for default-text-embedding-ada-002 in organization org-0QB3BCHxO2VYRI58a5rutnKr on tokens per min. Limit: 1000000 / min. Current: 813614 / min. Contact us through our help center at help.openai.com if you continue to have issues..\n",
      "Retrying langchain.embeddings.openai.embed_with_retry.<locals>._embed_with_retry in 4.0 seconds as it raised RateLimitError: Rate limit reached for default-text-embedding-ada-002 in organization org-0QB3BCHxO2VYRI58a5rutnKr on tokens per min. Limit: 1000000 / min. Current: 883261 / min. Contact us through our help center at help.openai.com if you continue to have issues..\n",
      "Retrying langchain.embeddings.openai.embed_with_retry.<locals>._embed_with_retry in 4.0 seconds as it raised RateLimitError: Rate limit reached for default-text-embedding-ada-002 in organization org-0QB3BCHxO2VYRI58a5rutnKr on tokens per min. Limit: 1000000 / min. Current: 808016 / min. Contact us through our help center at help.openai.com if you continue to have issues..\n",
      "Retrying langchain.embeddings.openai.embed_with_retry.<locals>._embed_with_retry in 4.0 seconds as it raised RateLimitError: Rate limit reached for default-text-embedding-ada-002 in organization org-0QB3BCHxO2VYRI58a5rutnKr on tokens per min. Limit: 1000000 / min. Current: 873557 / min. Contact us through our help center at help.openai.com if you continue to have issues..\n",
      "Retrying langchain.embeddings.openai.embed_with_retry.<locals>._embed_with_retry in 4.0 seconds as it raised RateLimitError: Rate limit reached for default-text-embedding-ada-002 in organization org-0QB3BCHxO2VYRI58a5rutnKr on tokens per min. Limit: 1000000 / min. Current: 797980 / min. Contact us through our help center at help.openai.com if you continue to have issues..\n",
      "Retrying langchain.embeddings.openai.embed_with_retry.<locals>._embed_with_retry in 4.0 seconds as it raised RateLimitError: Rate limit reached for default-text-embedding-ada-002 in organization org-0QB3BCHxO2VYRI58a5rutnKr on tokens per min. Limit: 1000000 / min. Current: 836634 / min. Contact us through our help center at help.openai.com if you continue to have issues..\n",
      "Retrying langchain.embeddings.openai.embed_with_retry.<locals>._embed_with_retry in 4.0 seconds as it raised RateLimitError: Rate limit reached for default-text-embedding-ada-002 in organization org-0QB3BCHxO2VYRI58a5rutnKr on tokens per min. Limit: 1000000 / min. Current: 902605 / min. Contact us through our help center at help.openai.com if you continue to have issues..\n",
      "Retrying langchain.embeddings.openai.embed_with_retry.<locals>._embed_with_retry in 4.0 seconds as it raised RateLimitError: Rate limit reached for default-text-embedding-ada-002 in organization org-0QB3BCHxO2VYRI58a5rutnKr on tokens per min. Limit: 1000000 / min. Current: 821093 / min. Contact us through our help center at help.openai.com if you continue to have issues..\n",
      "Retrying langchain.embeddings.openai.embed_with_retry.<locals>._embed_with_retry in 4.0 seconds as it raised RateLimitError: Rate limit reached for default-text-embedding-ada-002 in organization org-0QB3BCHxO2VYRI58a5rutnKr on tokens per min. Limit: 1000000 / min. Current: 878308 / min. Contact us through our help center at help.openai.com if you continue to have issues..\n",
      "Retrying langchain.embeddings.openai.embed_with_retry.<locals>._embed_with_retry in 4.0 seconds as it raised RateLimitError: Rate limit reached for default-text-embedding-ada-002 in organization org-0QB3BCHxO2VYRI58a5rutnKr on tokens per min. Limit: 1000000 / min. Current: 800446 / min. Contact us through our help center at help.openai.com if you continue to have issues..\n",
      "Retrying langchain.embeddings.openai.embed_with_retry.<locals>._embed_with_retry in 4.0 seconds as it raised RateLimitError: Rate limit reached for default-text-embedding-ada-002 in organization org-0QB3BCHxO2VYRI58a5rutnKr on tokens per min. Limit: 1000000 / min. Current: 836245 / min. Contact us through our help center at help.openai.com if you continue to have issues..\n",
      "Retrying langchain.embeddings.openai.embed_with_retry.<locals>._embed_with_retry in 4.0 seconds as it raised RateLimitError: Rate limit reached for default-text-embedding-ada-002 in organization org-0QB3BCHxO2VYRI58a5rutnKr on tokens per min. Limit: 1000000 / min. Current: 881172 / min. Contact us through our help center at help.openai.com if you continue to have issues..\n"
     ]
    },
    {
     "name": "stderr",
     "output_type": "stream",
     "text": [
      "Retrying langchain.embeddings.openai.embed_with_retry.<locals>._embed_with_retry in 4.0 seconds as it raised RateLimitError: Rate limit reached for default-text-embedding-ada-002 in organization org-0QB3BCHxO2VYRI58a5rutnKr on tokens per min. Limit: 1000000 / min. Current: 805270 / min. Contact us through our help center at help.openai.com if you continue to have issues..\n",
      "Retrying langchain.embeddings.openai.embed_with_retry.<locals>._embed_with_retry in 4.0 seconds as it raised RateLimitError: Rate limit reached for default-text-embedding-ada-002 in organization org-0QB3BCHxO2VYRI58a5rutnKr on tokens per min. Limit: 1000000 / min. Current: 859261 / min. Contact us through our help center at help.openai.com if you continue to have issues..\n"
     ]
    },
    {
     "name": "stdout",
     "output_type": "stream",
     "text": [
      "535.1819999217987\n"
     ]
    }
   ],
   "source": [
    "# Efficient vectorstor method?\n",
    "# Setting vector indices for data\n",
    "start_time = time.time()\n",
    "\n",
    "index = VectorstoreIndexCreator(\n",
    "    vectorstore_cls=DocArrayInMemorySearch\n",
    ").from_loaders([loader])\n",
    "\n",
    "end_time = time.time()\n",
    "run_time = end_time-start_time\n",
    "print(run_time)"
   ]
  },
  {
   "cell_type": "code",
   "execution_count": 25,
   "id": "02d00bff",
   "metadata": {},
   "outputs": [],
   "source": [
    "# Why does chain_type not accept map_reduce?\n",
    "llm = ChatOpenAI(temperature = 0.0)\n",
    "qa = RetrievalQA.from_chain_type(\n",
    "    llm=llm, \n",
    "    chain_type=\"stuff\", \n",
    "    retriever=index.vectorstore.as_retriever(), \n",
    "    verbose=True,\n",
    "    chain_type_kwargs = {\n",
    "        \"document_separator\": \"<<<<>>>>>\"\n",
    "    }\n",
    ")"
   ]
  },
  {
   "cell_type": "markdown",
   "id": "aa9f22e2",
   "metadata": {},
   "source": [
    "# Coming up with test datapoints"
   ]
  },
  {
   "cell_type": "code",
   "execution_count": 26,
   "id": "6230250a",
   "metadata": {},
   "outputs": [
    {
     "data": {
      "text/plain": [
       "Document(page_content='116 The effect on the lifecycle GHG emissions associated with LUC  for the corn ethanol (E85 CURRENT \\nTECHNOLOGY , HIGH VOLUME  case) , FAME, and HRD pathway s are discussed in Section  8.1. Since the \\ncost of avoided GHG emissions depend s on different assumptions made regarding LUC -associated GHG \\nemissions, a sensitivity analysis was conducted to characterize the impact of varying LUC  assumptions on \\nthe cost of avoided carbon m etric for the E85 pathway for the C URRENT TECHNOLOGY , HIGH VOLUME  \\ncase and the FAME (B20) and HRD pathways for the FUTURE  TECHNOLOGY , HIGH VOLUME  case. \\nFigure  39 shows the range of costs of avoided GHG emissions assuming no LUC  and high LUC, as well \\nas the base case results for these pathways.  \\nFor the E85 C URRENT TECHNOLOGY  case,  the no -LUC sensitivity has lifecycle emissions of 3 40 g \\nCO 2e/mi. EPA ( 2010c) represents the high estimate of LUC  that still yields GHG reductions (lifecycle \\nemissions of 434 g CO 2e/mi). For E85, Searchinger  et al.  (2008) estimates larger LUC -related emissions, \\nleading to lifecycle GHG emissions of 6 85 g CO 2e/mi. As this level of  emissions exceeds the emissions of \\na conventional gasoline ICEV, no emissions reductions are associated with E85 use when this level of \\nLUC -induced emissions are assumed, leading to an infinite cost of reduced avoided carbon emissions \\n(shown as a dotted l ine in the figure) . For the FAME (B20) and HRD (B100) F UTURE  TECHNOLOGY  \\npathways , LUC data from  Section 8.1  do not show a significant variance from the LUC -related emissions \\nthat are captured in GREET . For these pathways, a sensitivity analysis was conducted to understand the \\neffect if no LUC -related emissions are considered.  \\n \\n \\nFigure 39. Effect of different LUC assumptions on the cost of avoided GHG emissions for the E85 , FAME, \\nand HRD  pathway s', metadata={'source': '\\\\Users\\\\markc\\\\Hydrogen\\\\ANL_ESD-16dash7_LCAemissions.pdf', 'page': 142})"
      ]
     },
     "execution_count": 26,
     "metadata": {},
     "output_type": "execute_result"
    }
   ],
   "source": [
    "data[410]"
   ]
  },
  {
   "cell_type": "code",
   "execution_count": 27,
   "id": "38eecccc",
   "metadata": {},
   "outputs": [
    {
     "data": {
      "text/plain": [
       "6864"
      ]
     },
     "execution_count": 27,
     "metadata": {},
     "output_type": "execute_result"
    }
   ],
   "source": [
    "len(data)"
   ]
  },
  {
   "cell_type": "markdown",
   "id": "8661bc8a",
   "metadata": {},
   "source": [
    "# LLM-Generated examples"
   ]
  },
  {
   "cell_type": "code",
   "execution_count": 10,
   "id": "1ec7977c",
   "metadata": {},
   "outputs": [],
   "source": [
    "# Four boxes below generate Q&A pair to evaluate model\n",
    "from langchain.evaluation.qa import QAGenerateChain\n",
    "\n",
    "# Pass in OpenIA language model to interact with chain\n",
    "example_gen_chain = QAGenerateChain.from_llm(ChatOpenAI())"
   ]
  },
  {
   "cell_type": "code",
   "execution_count": 12,
   "id": "37eb538d",
   "metadata": {},
   "outputs": [
    {
     "ename": "ValueError",
     "evalue": "Could not parse output: QUESTION: What is the title of the document?\n\nANSWER: The title of the document is \"Comparison of hydrogen and battery electric trucks Methodology and underlying assumptions.\"",
     "output_type": "error",
     "traceback": [
      "\u001b[1;31m---------------------------------------------------------------------------\u001b[0m",
      "\u001b[1;31mValueError\u001b[0m                                Traceback (most recent call last)",
      "Cell \u001b[1;32mIn[12], line 3\u001b[0m\n\u001b[0;32m      1\u001b[0m \u001b[38;5;66;03m# Get back dictionary of question/answer pairs to evaluate\u001b[39;00m\n\u001b[0;32m      2\u001b[0m \u001b[38;5;66;03m#\u001b[39;00m\n\u001b[1;32m----> 3\u001b[0m new_examples \u001b[38;5;241m=\u001b[39m \u001b[43mexample_gen_chain\u001b[49m\u001b[38;5;241;43m.\u001b[39;49m\u001b[43mapply_and_parse\u001b[49m\u001b[43m(\u001b[49m\n\u001b[0;32m      4\u001b[0m \u001b[43m    \u001b[49m\u001b[43m[\u001b[49m\u001b[43m{\u001b[49m\u001b[38;5;124;43m\"\u001b[39;49m\u001b[38;5;124;43mdoc\u001b[39;49m\u001b[38;5;124;43m\"\u001b[39;49m\u001b[43m:\u001b[49m\u001b[43m \u001b[49m\u001b[43mt\u001b[49m\u001b[43m}\u001b[49m\u001b[43m \u001b[49m\u001b[38;5;28;43;01mfor\u001b[39;49;00m\u001b[43m \u001b[49m\u001b[43mt\u001b[49m\u001b[43m \u001b[49m\u001b[38;5;129;43;01min\u001b[39;49;00m\u001b[43m \u001b[49m\u001b[43mdata\u001b[49m\u001b[43m[\u001b[49m\u001b[43m:\u001b[49m\u001b[38;5;241;43m10\u001b[39;49m\u001b[43m]\u001b[49m\u001b[43m]\u001b[49m\n\u001b[0;32m      5\u001b[0m \u001b[43m)\u001b[49m\n",
      "File \u001b[1;32m~\\miniconda3\\lib\\site-packages\\langchain\\chains\\llm.py:257\u001b[0m, in \u001b[0;36mLLMChain.apply_and_parse\u001b[1;34m(self, input_list, callbacks)\u001b[0m\n\u001b[0;32m    255\u001b[0m \u001b[38;5;250m\u001b[39m\u001b[38;5;124;03m\"\"\"Call apply and then parse the results.\"\"\"\u001b[39;00m\n\u001b[0;32m    256\u001b[0m result \u001b[38;5;241m=\u001b[39m \u001b[38;5;28mself\u001b[39m\u001b[38;5;241m.\u001b[39mapply(input_list, callbacks\u001b[38;5;241m=\u001b[39mcallbacks)\n\u001b[1;32m--> 257\u001b[0m \u001b[38;5;28;01mreturn\u001b[39;00m \u001b[38;5;28;43mself\u001b[39;49m\u001b[38;5;241;43m.\u001b[39;49m\u001b[43m_parse_result\u001b[49m\u001b[43m(\u001b[49m\u001b[43mresult\u001b[49m\u001b[43m)\u001b[49m\n",
      "File \u001b[1;32m~\\miniconda3\\lib\\site-packages\\langchain\\chains\\llm.py:263\u001b[0m, in \u001b[0;36mLLMChain._parse_result\u001b[1;34m(self, result)\u001b[0m\n\u001b[0;32m    259\u001b[0m \u001b[38;5;28;01mdef\u001b[39;00m \u001b[38;5;21m_parse_result\u001b[39m(\n\u001b[0;32m    260\u001b[0m     \u001b[38;5;28mself\u001b[39m, result: List[Dict[\u001b[38;5;28mstr\u001b[39m, \u001b[38;5;28mstr\u001b[39m]]\n\u001b[0;32m    261\u001b[0m ) \u001b[38;5;241m-\u001b[39m\u001b[38;5;241m>\u001b[39m Sequence[Union[\u001b[38;5;28mstr\u001b[39m, List[\u001b[38;5;28mstr\u001b[39m], Dict[\u001b[38;5;28mstr\u001b[39m, \u001b[38;5;28mstr\u001b[39m]]]:\n\u001b[0;32m    262\u001b[0m     \u001b[38;5;28;01mif\u001b[39;00m \u001b[38;5;28mself\u001b[39m\u001b[38;5;241m.\u001b[39mprompt\u001b[38;5;241m.\u001b[39moutput_parser \u001b[38;5;129;01mis\u001b[39;00m \u001b[38;5;129;01mnot\u001b[39;00m \u001b[38;5;28;01mNone\u001b[39;00m:\n\u001b[1;32m--> 263\u001b[0m         \u001b[38;5;28;01mreturn\u001b[39;00m [\n\u001b[0;32m    264\u001b[0m             \u001b[38;5;28mself\u001b[39m\u001b[38;5;241m.\u001b[39mprompt\u001b[38;5;241m.\u001b[39moutput_parser\u001b[38;5;241m.\u001b[39mparse(res[\u001b[38;5;28mself\u001b[39m\u001b[38;5;241m.\u001b[39moutput_key]) \u001b[38;5;28;01mfor\u001b[39;00m res \u001b[38;5;129;01min\u001b[39;00m result\n\u001b[0;32m    265\u001b[0m         ]\n\u001b[0;32m    266\u001b[0m     \u001b[38;5;28;01melse\u001b[39;00m:\n\u001b[0;32m    267\u001b[0m         \u001b[38;5;28;01mreturn\u001b[39;00m result\n",
      "File \u001b[1;32m~\\miniconda3\\lib\\site-packages\\langchain\\chains\\llm.py:264\u001b[0m, in \u001b[0;36m<listcomp>\u001b[1;34m(.0)\u001b[0m\n\u001b[0;32m    259\u001b[0m \u001b[38;5;28;01mdef\u001b[39;00m \u001b[38;5;21m_parse_result\u001b[39m(\n\u001b[0;32m    260\u001b[0m     \u001b[38;5;28mself\u001b[39m, result: List[Dict[\u001b[38;5;28mstr\u001b[39m, \u001b[38;5;28mstr\u001b[39m]]\n\u001b[0;32m    261\u001b[0m ) \u001b[38;5;241m-\u001b[39m\u001b[38;5;241m>\u001b[39m Sequence[Union[\u001b[38;5;28mstr\u001b[39m, List[\u001b[38;5;28mstr\u001b[39m], Dict[\u001b[38;5;28mstr\u001b[39m, \u001b[38;5;28mstr\u001b[39m]]]:\n\u001b[0;32m    262\u001b[0m     \u001b[38;5;28;01mif\u001b[39;00m \u001b[38;5;28mself\u001b[39m\u001b[38;5;241m.\u001b[39mprompt\u001b[38;5;241m.\u001b[39moutput_parser \u001b[38;5;129;01mis\u001b[39;00m \u001b[38;5;129;01mnot\u001b[39;00m \u001b[38;5;28;01mNone\u001b[39;00m:\n\u001b[0;32m    263\u001b[0m         \u001b[38;5;28;01mreturn\u001b[39;00m [\n\u001b[1;32m--> 264\u001b[0m             \u001b[38;5;28;43mself\u001b[39;49m\u001b[38;5;241;43m.\u001b[39;49m\u001b[43mprompt\u001b[49m\u001b[38;5;241;43m.\u001b[39;49m\u001b[43moutput_parser\u001b[49m\u001b[38;5;241;43m.\u001b[39;49m\u001b[43mparse\u001b[49m\u001b[43m(\u001b[49m\u001b[43mres\u001b[49m\u001b[43m[\u001b[49m\u001b[38;5;28;43mself\u001b[39;49m\u001b[38;5;241;43m.\u001b[39;49m\u001b[43moutput_key\u001b[49m\u001b[43m]\u001b[49m\u001b[43m)\u001b[49m \u001b[38;5;28;01mfor\u001b[39;00m res \u001b[38;5;129;01min\u001b[39;00m result\n\u001b[0;32m    265\u001b[0m         ]\n\u001b[0;32m    266\u001b[0m     \u001b[38;5;28;01melse\u001b[39;00m:\n\u001b[0;32m    267\u001b[0m         \u001b[38;5;28;01mreturn\u001b[39;00m result\n",
      "File \u001b[1;32m~\\miniconda3\\lib\\site-packages\\langchain\\output_parsers\\regex.py:28\u001b[0m, in \u001b[0;36mRegexParser.parse\u001b[1;34m(self, text)\u001b[0m\n\u001b[0;32m     26\u001b[0m \u001b[38;5;28;01melse\u001b[39;00m:\n\u001b[0;32m     27\u001b[0m     \u001b[38;5;28;01mif\u001b[39;00m \u001b[38;5;28mself\u001b[39m\u001b[38;5;241m.\u001b[39mdefault_output_key \u001b[38;5;129;01mis\u001b[39;00m \u001b[38;5;28;01mNone\u001b[39;00m:\n\u001b[1;32m---> 28\u001b[0m         \u001b[38;5;28;01mraise\u001b[39;00m \u001b[38;5;167;01mValueError\u001b[39;00m(\u001b[38;5;124mf\u001b[39m\u001b[38;5;124m\"\u001b[39m\u001b[38;5;124mCould not parse output: \u001b[39m\u001b[38;5;132;01m{\u001b[39;00mtext\u001b[38;5;132;01m}\u001b[39;00m\u001b[38;5;124m\"\u001b[39m)\n\u001b[0;32m     29\u001b[0m     \u001b[38;5;28;01melse\u001b[39;00m:\n\u001b[0;32m     30\u001b[0m         \u001b[38;5;28;01mreturn\u001b[39;00m {\n\u001b[0;32m     31\u001b[0m             key: text \u001b[38;5;28;01mif\u001b[39;00m key \u001b[38;5;241m==\u001b[39m \u001b[38;5;28mself\u001b[39m\u001b[38;5;241m.\u001b[39mdefault_output_key \u001b[38;5;28;01melse\u001b[39;00m \u001b[38;5;124m\"\u001b[39m\u001b[38;5;124m\"\u001b[39m\n\u001b[0;32m     32\u001b[0m             \u001b[38;5;28;01mfor\u001b[39;00m key \u001b[38;5;129;01min\u001b[39;00m \u001b[38;5;28mself\u001b[39m\u001b[38;5;241m.\u001b[39moutput_keys\n\u001b[0;32m     33\u001b[0m         }\n",
      "\u001b[1;31mValueError\u001b[0m: Could not parse output: QUESTION: What is the title of the document?\n\nANSWER: The title of the document is \"Comparison of hydrogen and battery electric trucks Methodology and underlying assumptions.\""
     ]
    }
   ],
   "source": [
    "# Get back dictionary of question/answer pairs to evaluate\n",
    "#\n",
    "new_examples = example_gen_chain.apply_and_parse(\n",
    "    [{\"doc\": t} for t in data[:10]]\n",
    ")"
   ]
  },
  {
   "cell_type": "code",
   "execution_count": 11,
   "id": "3416dfe6",
   "metadata": {},
   "outputs": [
    {
     "name": "stdout",
     "output_type": "stream",
     "text": [
      "\n",
      "\n",
      "\u001b[1m> Entering new RetrievalQA chain...\u001b[0m\n",
      "\n",
      "\u001b[1m> Finished chain.\u001b[0m\n"
     ]
    },
    {
     "data": {
      "text/plain": [
       "\"Since the publication of the 2021 Annual Evaluation, there have been a total of 8 new Open-Retail hydrogen fueling stations added to California's network, 6 of which opened in 2022.\""
      ]
     },
     "execution_count": 11,
     "metadata": {},
     "output_type": "execute_result"
    }
   ],
   "source": [
    "# See example\n",
    "new_examples[9]\n",
    "\n",
    "examples = []\n",
    "examples += new_examples\n",
    "\n",
    "qa.run(examples[9][\"query\"])"
   ]
  },
  {
   "cell_type": "code",
   "execution_count": 15,
   "id": "69b17e87",
   "metadata": {},
   "outputs": [],
   "source": []
  },
  {
   "cell_type": "code",
   "execution_count": 16,
   "id": "3b51a07b",
   "metadata": {},
   "outputs": [
    {
     "name": "stdout",
     "output_type": "stream",
     "text": [
      "\n",
      "\n",
      "\u001b[1m> Entering new RetrievalQA chain...\u001b[0m\n",
      "\n",
      "\u001b[1m> Finished chain.\u001b[0m\n"
     ]
    },
    {
     "data": {
      "text/plain": [
       "\"Since the 2021 Annual Evaluation was published, a total of 8 new Open-Retail hydrogen fueling stations have been added to California's network, 6 of which opened in 2022.\""
      ]
     },
     "execution_count": 16,
     "metadata": {},
     "output_type": "execute_result"
    }
   ],
   "source": []
  },
  {
   "cell_type": "markdown",
   "id": "289ecafa",
   "metadata": {},
   "source": [
    "# Manual Evaluation"
   ]
  },
  {
   "cell_type": "code",
   "execution_count": 12,
   "id": "40993c30",
   "metadata": {},
   "outputs": [],
   "source": [
    "import langchain\n",
    "langchain.debug = True"
   ]
  },
  {
   "cell_type": "code",
   "execution_count": 13,
   "id": "638d5879",
   "metadata": {},
   "outputs": [
    {
     "name": "stdout",
     "output_type": "stream",
     "text": [
      "\u001b[32;1m\u001b[1;3m[chain/start]\u001b[0m \u001b[1m[1:chain:RetrievalQA] Entering Chain run with input:\n",
      "\u001b[0m{\n",
      "  \"query\": \"Where was the source of the document located?\"\n",
      "}\n",
      "\u001b[32;1m\u001b[1;3m[chain/start]\u001b[0m \u001b[1m[1:chain:RetrievalQA > 2:chain:StuffDocumentsChain] Entering Chain run with input:\n",
      "\u001b[0m[inputs]\n",
      "\u001b[32;1m\u001b[1;3m[chain/start]\u001b[0m \u001b[1m[1:chain:RetrievalQA > 2:chain:StuffDocumentsChain > 3:chain:LLMChain] Entering Chain run with input:\n",
      "\u001b[0m{\n",
      "  \"question\": \"Where was the source of the document located?\",\n",
      "  \"context\": \"by-product sources.<<<<>>>>>information. Web posting. Summaries. \\nVerDate Sep 11 2014 12:25 Dec 28, 2021 Jkt 029139 PO 00058 Frm 00314 Fmt 6580 Sfmt 6581 E:\\\\PUBLAW\\\\PUBL058.117 PUBL058whamilton on LAPJF8D0R2PROD with PUBLAW<<<<>>>>>note. Records. Estimate. \\nVerDate Sep 11 2014 12:25 Dec 28, 2021 Jkt 029139 PO 00058 Frm 00345 Fmt 6580 Sfmt 6581 E:\\\\PUBLAW\\\\PUBL058.117 PUBL058whamilton on LAPJF8D0R2PROD with PUBLAW<<<<>>>>>1992 -UC-38; Pacific Northwest Laborator y: Richland, W A; 1976 .\"\n",
      "}\n",
      "\u001b[32;1m\u001b[1;3m[llm/start]\u001b[0m \u001b[1m[1:chain:RetrievalQA > 2:chain:StuffDocumentsChain > 3:chain:LLMChain > 4:llm:ChatOpenAI] Entering LLM run with input:\n",
      "\u001b[0m{\n",
      "  \"prompts\": [\n",
      "    \"System: Use the following pieces of context to answer the users question. \\nIf you don't know the answer, just say that you don't know, don't try to make up an answer.\\n----------------\\nby-product sources.<<<<>>>>>information. Web posting. Summaries. \\nVerDate Sep 11 2014 12:25 Dec 28, 2021 Jkt 029139 PO 00058 Frm 00314 Fmt 6580 Sfmt 6581 E:\\\\PUBLAW\\\\PUBL058.117 PUBL058whamilton on LAPJF8D0R2PROD with PUBLAW<<<<>>>>>note. Records. Estimate. \\nVerDate Sep 11 2014 12:25 Dec 28, 2021 Jkt 029139 PO 00058 Frm 00345 Fmt 6580 Sfmt 6581 E:\\\\PUBLAW\\\\PUBL058.117 PUBL058whamilton on LAPJF8D0R2PROD with PUBLAW<<<<>>>>>1992 -UC-38; Pacific Northwest Laborator y: Richland, W A; 1976 .\\nHuman: Where was the source of the document located?\"\n",
      "  ]\n",
      "}\n",
      "\u001b[36;1m\u001b[1;3m[llm/end]\u001b[0m \u001b[1m[1:chain:RetrievalQA > 2:chain:StuffDocumentsChain > 3:chain:LLMChain > 4:llm:ChatOpenAI] [2.33s] Exiting LLM run with output:\n",
      "\u001b[0m{\n",
      "  \"generations\": [\n",
      "    [\n",
      "      {\n",
      "        \"text\": \"The source of the document is not specified.\",\n",
      "        \"generation_info\": null,\n",
      "        \"message\": {\n",
      "          \"content\": \"The source of the document is not specified.\",\n",
      "          \"additional_kwargs\": {},\n",
      "          \"example\": false\n",
      "        }\n",
      "      }\n",
      "    ]\n",
      "  ],\n",
      "  \"llm_output\": {\n",
      "    \"token_usage\": {\n",
      "      \"prompt_tokens\": 260,\n",
      "      \"completion_tokens\": 9,\n",
      "      \"total_tokens\": 269\n",
      "    },\n",
      "    \"model_name\": \"gpt-3.5-turbo\"\n",
      "  },\n",
      "  \"run\": null\n",
      "}\n",
      "\u001b[36;1m\u001b[1;3m[chain/end]\u001b[0m \u001b[1m[1:chain:RetrievalQA > 2:chain:StuffDocumentsChain > 3:chain:LLMChain] [2.33s] Exiting Chain run with output:\n",
      "\u001b[0m{\n",
      "  \"text\": \"The source of the document is not specified.\"\n",
      "}\n",
      "\u001b[36;1m\u001b[1;3m[chain/end]\u001b[0m \u001b[1m[1:chain:RetrievalQA > 2:chain:StuffDocumentsChain] [2.33s] Exiting Chain run with output:\n",
      "\u001b[0m{\n",
      "  \"output_text\": \"The source of the document is not specified.\"\n",
      "}\n",
      "\u001b[36;1m\u001b[1;3m[chain/end]\u001b[0m \u001b[1m[1:chain:RetrievalQA] [2.96s] Exiting Chain run with output:\n",
      "\u001b[0m{\n",
      "  \"result\": \"The source of the document is not specified.\"\n",
      "}\n"
     ]
    },
    {
     "data": {
      "text/plain": [
       "'The source of the document is not specified.'"
      ]
     },
     "execution_count": 13,
     "metadata": {},
     "output_type": "execute_result"
    }
   ],
   "source": [
    "qa.run(examples[4][\"query\"])"
   ]
  },
  {
   "cell_type": "code",
   "execution_count": 18,
   "id": "f86eb6c8",
   "metadata": {},
   "outputs": [],
   "source": [
    "langchain.debug = False"
   ]
  },
  {
   "cell_type": "code",
   "execution_count": 19,
   "id": "24c92c18",
   "metadata": {},
   "outputs": [
    {
     "name": "stdout",
     "output_type": "stream",
     "text": [
      "\n",
      "\n",
      "\u001b[1m> Entering new RetrievalQA chain...\u001b[0m\n",
      "\n",
      "\u001b[1m> Finished chain.\u001b[0m\n",
      "\n",
      "\n",
      "\u001b[1m> Entering new RetrievalQA chain...\u001b[0m\n",
      "\n",
      "\u001b[1m> Finished chain.\u001b[0m\n",
      "\n",
      "\n",
      "\u001b[1m> Entering new RetrievalQA chain...\u001b[0m\n",
      "\n",
      "\u001b[1m> Finished chain.\u001b[0m\n",
      "\n",
      "\n",
      "\u001b[1m> Entering new RetrievalQA chain...\u001b[0m\n",
      "\n",
      "\u001b[1m> Finished chain.\u001b[0m\n",
      "\n",
      "\n",
      "\u001b[1m> Entering new RetrievalQA chain...\u001b[0m\n",
      "\n",
      "\u001b[1m> Finished chain.\u001b[0m\n",
      "\n",
      "\n",
      "\u001b[1m> Entering new RetrievalQA chain...\u001b[0m\n",
      "\n",
      "\u001b[1m> Finished chain.\u001b[0m\n",
      "\n",
      "\n",
      "\u001b[1m> Entering new RetrievalQA chain...\u001b[0m\n",
      "\n",
      "\u001b[1m> Finished chain.\u001b[0m\n",
      "\n",
      "\n",
      "\u001b[1m> Entering new RetrievalQA chain...\u001b[0m\n",
      "\n",
      "\u001b[1m> Finished chain.\u001b[0m\n",
      "\n",
      "\n",
      "\u001b[1m> Entering new RetrievalQA chain...\u001b[0m\n",
      "\n",
      "\u001b[1m> Finished chain.\u001b[0m\n",
      "\n",
      "\n",
      "\u001b[1m> Entering new RetrievalQA chain...\u001b[0m\n",
      "\n",
      "\u001b[1m> Finished chain.\u001b[0m\n"
     ]
    }
   ],
   "source": [
    "predictions = qa.apply(examples)"
   ]
  },
  {
   "cell_type": "code",
   "execution_count": 20,
   "id": "e67f1ee8",
   "metadata": {},
   "outputs": [],
   "source": [
    "# QAEvalChain evaluates question answer pairs\n",
    "from langchain.evaluation.qa import QAEvalChain"
   ]
  },
  {
   "cell_type": "code",
   "execution_count": 21,
   "id": "5176ada8",
   "metadata": {},
   "outputs": [],
   "source": [
    "# Create above chain with language model. LLM will help do evaluation\n",
    "llm = ChatOpenAI(temperature=0)\n",
    "eval_chain = QAEvalChain.from_llm(llm)"
   ]
  },
  {
   "cell_type": "code",
   "execution_count": 22,
   "id": "062691fd",
   "metadata": {},
   "outputs": [],
   "source": [
    "# Get back graded outputs\n",
    "graded_outputs = eval_chain.evaluate(examples, predictions)"
   ]
  },
  {
   "cell_type": "code",
   "execution_count": 23,
   "id": "74e0bee0",
   "metadata": {
    "scrolled": true
   },
   "outputs": [
    {
     "name": "stdout",
     "output_type": "stream",
     "text": [
      "Example 0:\n",
      "Question: What is the title of the report and what legislation is it pursuant to?\n",
      "Real Answer: The title of the report is \"2022 Annual Evaluation of Fuel Cell Electric Vehicle Deployment and Hydrogen Fuel Station Network Development\" and it is pursuant to Assembly Bill 8, also known as Perea, Chapter 401, Statutes of 2013.\n",
      "Predicted Answer: The context does not provide a clear answer to this question. However, it mentions several reports that the Secretary and Chiefs are required to submit to Congress, including a report with recommendations to Congress relating to the Program, a report describing methods, and additional reports for fiscal years 2022 and 2023. The legislation that these reports are pursuant to is also not specified in the context.\n",
      "Predicted Grade: INCORRECT\n",
      "\n",
      "Example 1:\n",
      "Question: Who reviewed and approved the report for publication?\n",
      "Real Answer: The staff of the California Air Resources Board (CARB) reviewed and approved the report for publication.\n",
      "Predicted Answer: The report was reviewed by a panel of expert peer reviewers, including Professor Jack Brouwer, Professor Michael Kuby, Dr. Marc Melaina, Professor Joan Ogden, and Michael Penev, MBA, as well as several other reviewers listed in the context. However, it is not specified who approved the report for publication.\n",
      "Predicted Grade: INCORRECT\n",
      "\n",
      "Example 2:\n",
      "Question: What is CARB's mission statement?\n",
      "Real Answer: CARB's mission is to promote and protect public health, welfare, and ecological resources through effective reduction of air pollutants while recognizing and considering effects on the economy.\n",
      "Predicted Answer: CARB's mission is to promote and protect public health, welfare, and ecological resources through effective reduction of air pollutants while recognizing and considering effects on the economy. CARB is the lead agency for climate change programs and oversees all air pollution control efforts in California to attain and maintain health-based air quality standards.\n",
      "Predicted Grade: CORRECT\n",
      "\n",
      "Example 3:\n",
      "Question: What is the purpose of the document mentioned in the metadata?\n",
      "Real Answer: The purpose of the document mentioned in the metadata is to provide information and analysis on the progress, provisions, and developments related to hydrogen fueling infrastructure in California.\n",
      "Predicted Answer: I'm sorry, but I cannot determine the document you are referring to as there is no mention of a specific document in the metadata provided. The metadata only includes snippets of text from different sections of different documents, making it difficult to determine the purpose of any specific document. Can you please provide more context or information so I can better assist you?\n",
      "Predicted Grade: CORRECT\n",
      "\n",
      "Example 4:\n",
      "Question: Where was the source of the document located?\n",
      "Real Answer: The source of the document was located in the file path '\\\\Users\\\\markc\\\\Hydrogen\\\\AB-8-Report-2022_CARB.pdf'.\n",
      "Predicted Answer: The source of the document is not specified.\n",
      "Predicted Grade: INCORRECT\n",
      "\n",
      "Example 5:\n",
      "Question: What does the acronym \"LCFS\" stand for?\n",
      "Real Answer: \"LCFS\" stands for \"Low Carbon Fuel Standard\".\n",
      "Predicted Answer: The acronym \"LCFS\" stands for \"Low Carbon Fuel Standard\".\n",
      "Predicted Grade: CORRECT\n",
      "\n",
      "Example 6:\n",
      "Question: What is the source of the document and on which page is the content located?\n",
      "Real Answer: The source of the document is '\\\\Users\\\\markc\\\\Hydrogen\\\\AB-8-Report-2022_CARB.pdf' and the content is located on page 6.\n",
      "Predicted Answer: The source of the document is not specified and there is no content located on the page as it is intentionally left blank.\n",
      "Predicted Grade: INCORRECT\n",
      "\n",
      "Example 7:\n",
      "Question: What is the goal of the Advanced Clean Cars II (ACC II) regulation proposed by the California Air Resources Board (CARB)?\n",
      "Real Answer: The goal of the Advanced Clean Cars II (ACC II) regulation proposed by the California Air Resources Board (CARB) is to achieve 100 percent zero-emission vehicle (ZEV) sales of new light-duty vehicles in California by 2035, as outlined in Governor Newsom’s Executive Order (EO) N-79-20.\n",
      "Predicted Answer: The goal of the Advanced Clean Cars II (ACC II) regulation proposed by the California Air Resources Board (CARB) is to achieve 100 percent zero-emission vehicle (ZEV) sales of new light-duty vehicles in California by 2035, as outlined by Governor Newsom's Executive Order (EO) N-79-20. This regulation aims to enable a transition to zero-emission transportation across all transportation sectors in California, including light-duty, medium-duty, heavy-duty, on-road, and off-road vehicles.\n",
      "Predicted Grade: CORRECT\n",
      "\n",
      "Example 8:\n",
      "Question: What is the purpose of California's Assembly Bill 8?\n",
      "Real Answer: California's Assembly Bill 8 (AB 8) provides the Energy Commission with up to $20 million annually through the end of 2023 to co-fund the development of hydrogen fueling stations in California. The goal is to address the hurdle of fueling infrastructure and ensure that FCEV use expands and becomes a viable ZEV option for an increasing number of Californians in the future. AB 8 requires that reports provide analysis of current and projected future FCEV deployment and hydrogen fueling station development and identify needs for further hydrogen station network development.\n",
      "Predicted Answer: The purpose of California's Assembly Bill 8 is to provide a financial resource to several programs through a fee applied to vehicle and vessel registrations, and to support the development and deployment of advanced transportation and fuel technologies, including supporting infrastructure for both hydrogen-fueled fuel cell electric vehicles (FCEVs) and electrically charged battery electric vehicles. The program was extended in 2013 with new provisions to co-fund the development of public hydrogen fueling stations.\n",
      "Predicted Grade: CORRECT\n",
      "\n",
      "Example 9:\n",
      "Question: How many new hydrogen fueling stations achieved Open-Retail status in California since the publication of the 2021 Annual Evaluation?\n",
      "Real Answer: Eight new hydrogen fueling stations achieved Open-Retail status in California since the publication of the 2021 Annual Evaluation.\n",
      "Predicted Answer: Since the publication of the 2021 Annual Evaluation, there have been a total of 8 new Open-Retail hydrogen fueling stations added to California's network, 6 of which opened in 2022.\n",
      "Predicted Grade: CORRECT\n",
      "\n"
     ]
    }
   ],
   "source": [
    "# All below are output by the language mdoel\n",
    "for i, eg in enumerate(examples):\n",
    "    print(f\"Example {i}:\")\n",
    "    print(\"Question: \" + predictions[i]['query'])\n",
    "    print(\"Real Answer: \" + predictions[i]['answer'])\n",
    "    print(\"Predicted Answer: \" + predictions[i]['result'])\n",
    "    print(\"Predicted Grade: \" + graded_outputs[i]['text'])\n",
    "    print()"
   ]
  },
  {
   "cell_type": "markdown",
   "id": "c0544ae3",
   "metadata": {},
   "source": [
    "## Key Questions/Concerns for Dev"
   ]
  },
  {
   "cell_type": "code",
   "execution_count": 69,
   "id": "175e4298",
   "metadata": {},
   "outputs": [],
   "source": [
    "# What to do if predicted answers incorrect?\n",
    "# QAEvalChain spit out the same question multiple times\n",
    "# Try to access the UI that tracks what is going on \n",
    "#  under the hood (from langchain plus)\n",
    "# --generate flywheel of datapoints to learn from!!!!\n",
    "\n"
   ]
  },
  {
   "cell_type": "markdown",
   "id": "c5dbfce8",
   "metadata": {},
   "source": [
    "### Try to query this new vectorstor database"
   ]
  },
  {
   "cell_type": "code",
   "execution_count": 29,
   "id": "5680fa5c",
   "metadata": {},
   "outputs": [],
   "source": [
    "query = \"What system design results in the lowest hydrogen breakeven cost? \\\n",
    "What is that cost in USD/kg? Is this with or without subsidies? Use markdown to describe.\"\n",
    "\n",
    "# Decent answer. High level, but limited by propmt."
   ]
  },
  {
   "cell_type": "code",
   "execution_count": 27,
   "id": "860a705b",
   "metadata": {},
   "outputs": [],
   "source": [
    "query2 = \"What are the major challenges to deploying hydrogen and how can they become overcome?. \\\n",
    "Use bulleted markdown list to describe.\"\n",
    "\n",
    "# Decent answer. Relatively high level."
   ]
  },
  {
   "cell_type": "code",
   "execution_count": 33,
   "id": "7f797b4e",
   "metadata": {},
   "outputs": [],
   "source": [
    "query3 = \"I wish to deploy hydrogen production in California. What technology should I use, where shoult it be placed,  \\\n",
    "what commercial models are suggested, and what federal or state incentives are applicable? Use markdown to describe.\"\n",
    "\n",
    "# Not a good answer. Very generic."
   ]
  },
  {
   "cell_type": "code",
   "execution_count": 35,
   "id": "f568fd40",
   "metadata": {},
   "outputs": [],
   "source": [
    "query4 = \"What federal incentives exist for hydrogen production? \\\n",
    "Use markdown to describe.\"\n",
    "\n",
    "# Not specific enough answer"
   ]
  },
  {
   "cell_type": "code",
   "execution_count": 37,
   "id": "b561445a",
   "metadata": {},
   "outputs": [],
   "source": [
    "query5 = \"What are ideal conditions for hydrogen in use as long duration storage? \\\n",
    "Use markdown to describe in fewer than 800 words in bulleted list and list hydrogen's top competitors.\"\n",
    "\n",
    "# Good answer."
   ]
  },
  {
   "cell_type": "code",
   "execution_count": 76,
   "id": "83e6eb5d",
   "metadata": {},
   "outputs": [],
   "source": [
    "query6 = \"You are an investor. What are ideal conditions and locations for hydrogen for use as long duration storage? \\\n",
    "Use markdown to describe in fewer than 800 words.\""
   ]
  },
  {
   "cell_type": "code",
   "execution_count": 46,
   "id": "763e34d5",
   "metadata": {},
   "outputs": [],
   "source": [
    "query7 = \"Please describe how a PEM electrolyzer, alkaline electrolyzer, and solid oxide electrolyzer work. What are advantages and disadvantages for each? \\\n",
    "What is the average levelized cost of hydrogen production (in USD/kg) for each? Use markdown to describe in fewer than 1000 words.\"\n",
    "\n",
    "# Good answer"
   ]
  },
  {
   "cell_type": "code",
   "execution_count": 48,
   "id": "9f463bde",
   "metadata": {},
   "outputs": [],
   "source": [
    "# Trying to gauge breadth and depth of model's knowledge\n",
    "\n",
    "query8 = \"Please tell me the most cost-effective, scalable ways to decarbonize with hydrogen and \\\n",
    "the applications which hydrogen is most competitive in  decarbonizing. Do this in markdown in a bulleted list.\"\n",
    "\n",
    "# Decent answer. Lacks a bit of detail."
   ]
  },
  {
   "cell_type": "code",
   "execution_count": 109,
   "id": "87d4f73a",
   "metadata": {},
   "outputs": [],
   "source": [
    "query9 = \"Please list the highest TRL hydrogen production methods and the range of their levelized cost of production in USD/kg. \\\n",
    "Do this in markdown in a bulleted list.\"\n",
    "\n",
    "#Good response"
   ]
  },
  {
   "cell_type": "code",
   "execution_count": 24,
   "id": "c21ab7af",
   "metadata": {},
   "outputs": [],
   "source": [
    "query10 = \"What clean energy technologies are most competitive with hydrogen? \\\n",
    "What technologies are complementary to hydrogen? Display results in markdown in a table.\"\n",
    "\n",
    "#Poor response - probably due to knowledge base"
   ]
  },
  {
   "cell_type": "code",
   "execution_count": 31,
   "id": "b82d98aa",
   "metadata": {},
   "outputs": [],
   "source": [
    "query11 = \"What are the main hydrogen provisions in the Clean Hydrogen Act? \\\n",
    "Create a bulleted list with short description. Display results in markdown in a table.\"\n",
    "\n",
    "#Poor response - probably due to knowledge base"
   ]
  },
  {
   "cell_type": "markdown",
   "id": "d796d08b",
   "metadata": {},
   "source": [
    "### Added questions with larger database"
   ]
  },
  {
   "cell_type": "code",
   "execution_count": 28,
   "id": "33253d5d",
   "metadata": {},
   "outputs": [],
   "source": [
    "query12 = \"Describe in details what the optimal path is to decarbonize California's grid. \\\n",
    "provide detail in no more than 1000 words and use a bulleted list in markdown to describe. \\\n",
    "What are the main renewable technologies California plans to use?\"\n",
    "\n",
    "# Decent answer, but very high level. Might be a result of information"
   ]
  },
  {
   "cell_type": "code",
   "execution_count": 29,
   "id": "16afa30f",
   "metadata": {},
   "outputs": [],
   "source": [
    "query13 = \"What are the major challenges in using hydrogen in existing existing oil & gas infrastructure? \\\n",
    " Provide a response in fewer than 1500 words using markdown.\"\n",
    "\n",
    "# Great answer"
   ]
  },
  {
   "cell_type": "code",
   "execution_count": 30,
   "id": "6cbddfb3",
   "metadata": {},
   "outputs": [],
   "source": [
    "query14 = \"Describe hydrogen's main physical characteristics such as flammability range, energy density, ignition energy, etc. \\\n",
    "Include the top 10 most cited physical characteristics and output in markdwon table.\"\n",
    "\n",
    "# Wow! Great answer"
   ]
  },
  {
   "cell_type": "code",
   "execution_count": 31,
   "id": "d69335ae",
   "metadata": {},
   "outputs": [],
   "source": [
    "query15 = \"How does the cost of producing hydrogen from electrolysis compare with SMR w/CCS? \\\n",
    "Are there any particular regions in the US where electrolytic hydrogen is more cost effective? What makes that so? \\\n",
    "Provide an answer in bulleted list form in markdown. \"\n",
    "\n",
    "# Not a great answer. I feel prompt may be too generic."
   ]
  },
  {
   "cell_type": "code",
   "execution_count": 32,
   "id": "3c203c82",
   "metadata": {},
   "outputs": [],
   "source": [
    "query16 = \"How should I think about deploying cost-effective electrolytic hydrogen? What are the major considerations? \\\n",
    "Provide an answer in bulleted list form in markdown. \"\n",
    "\n",
    "# Good answer"
   ]
  },
  {
   "cell_type": "code",
   "execution_count": 33,
   "id": "c1919d35",
   "metadata": {},
   "outputs": [],
   "source": [
    "query17 = \"What are some ways to invest in the hydrogen market? Briefly describe each opportunity \\\n",
    "Provide an answer in bulleted list form in markdown in fewer than 1000 words. \"\n",
    "\n",
    "# Good answer"
   ]
  },
  {
   "cell_type": "code",
   "execution_count": 34,
   "id": "90b18ceb",
   "metadata": {},
   "outputs": [],
   "source": [
    "query18 = \"Describe how CCS and CCUS work. What is the approximate cost of each technology? How do they pair with  \\\n",
    "hydrogen technologies? Provide an answer in bulleted list form in markdown in fewer than 1000 words. \"\n",
    "\n",
    "# Good answer"
   ]
  },
  {
   "cell_type": "code",
   "execution_count": 35,
   "id": "4ad041fc",
   "metadata": {},
   "outputs": [],
   "source": [
    "query19 = \"Describe the key differences between SMR and ATR. What are they? Which process is more efficient? \\\n",
    "Which technology is more cost effective? Provide an answer in bulleted list form in markdown in fewer than 1000 words. \"\n",
    "\n",
    "# Good answer"
   ]
  },
  {
   "cell_type": "code",
   "execution_count": 36,
   "id": "604e7c4a",
   "metadata": {},
   "outputs": [],
   "source": [
    "query20 = \"What carbon capture technologies should I consider for a SMR unit? How about for an ATR unit? \\\n",
    "What are the advantages and disadvantages for each carbon capture technology when paired with SMR or ATR? \\\n",
    "Provide an answer in table form in markdown in fewer than 1500 words. \"\n",
    "\n",
    "# Good answer"
   ]
  },
  {
   "cell_type": "code",
   "execution_count": 37,
   "id": "7d73c954",
   "metadata": {},
   "outputs": [],
   "source": [
    "query21 = \"How much does it cost to develop a pure hydrogen pipeline? How are the costs broken out? \\\n",
    "What are the major considerations in developing a pipeline? \\\n",
    "Provide an answer in table form in markdown in fewer than 1500 words. \"\n",
    "\n",
    "# Says there are no documents or context on this topic!"
   ]
  },
  {
   "cell_type": "code",
   "execution_count": 38,
   "id": "d8c847d2",
   "metadata": {},
   "outputs": [],
   "source": [
    "query22 = \"How does liquefaction of hydrogen work? What is the cost of liquefaction at various scales? \\\n",
    "In what scenarios is gaseous delivery of hydrogen less economic the delivery of liquid hydrogen? \\\n",
    "Provide an answer in a bulleted list form in markdown in fewer than 1500 words. \"\n",
    "\n",
    "# Pretty good 1st order answer"
   ]
  },
  {
   "cell_type": "code",
   "execution_count": 39,
   "id": "bfb14eb7",
   "metadata": {},
   "outputs": [],
   "source": [
    "query23 = \"Provide an overview of the various hydrogen carriers that could be used to transport hydrogen. \\\n",
    "How do the costs of each carrier compare? In what scnearios is one carrier favored over others? \\\n",
    "Provide an answer in a table form in markdown in fewer than 1500 words. \"\n",
    "\n",
    "# Pretty good 1st order answer"
   ]
  },
  {
   "cell_type": "code",
   "execution_count": 40,
   "id": "4faf4dfa",
   "metadata": {},
   "outputs": [
    {
     "name": "stderr",
     "output_type": "stream",
     "text": [
      "Retrying langchain.embeddings.openai.embed_with_retry.<locals>._embed_with_retry in 4.0 seconds as it raised APIConnectionError: Error communicating with OpenAI: ('Connection aborted.', RemoteDisconnected('Remote end closed connection without response')).\n"
     ]
    },
    {
     "name": "stdout",
     "output_type": "stream",
     "text": [
      "24.6344313621521\n"
     ]
    },
    {
     "data": {
      "text/markdown": [
       "| Hydrogen Carrier | Cost of Delivery | Favored Scenarios |\n",
       "|------------------|-----------------|------------------|\n",
       "| Liquid Hydrogen (LH2) | High | Short transport distances, small-scale applications |\n",
       "| Liquid Organic Hydrogen Carrier (LOHC) | Moderate | Long-distance transport, large-scale applications |\n",
       "| Ammonia | Moderate | Long-distance transport, large-scale applications |\n",
       "| Compressed Hydrogen | High | Short transport distances, small-scale applications |\n",
       "\n",
       "The table above provides an overview of the various hydrogen carriers that can be used for transporting hydrogen, along with their cost of delivery and favored scenarios.\n",
       "\n",
       "1. Liquid Hydrogen (LH2):\n",
       "   - Cost of Delivery: High\n",
       "   - Favored Scenarios: LH2 is suitable for short transport distances and small-scale applications. It is commonly used for local distribution and refueling stations. However, due to its high cost of delivery, it may not be the most economical option for long-distance transport or large-scale applications.\n",
       "\n",
       "2. Liquid Organic Hydrogen Carrier (LOHC):\n",
       "   - Cost of Delivery: Moderate\n",
       "   - Favored Scenarios: LOHC shows great potential for long-distance transport and large-scale applications. It offers advantages such as high energy density and ease of handling. LOHC can be used for maritime transport, making it suitable for long-distance and large-scale applications. The cost of delivery for LOHC is relatively moderate compared to other carriers.\n",
       "\n",
       "3. Ammonia:\n",
       "   - Cost of Delivery: Moderate\n",
       "   - Favored Scenarios: Ammonia is another hydrogen carrier that can be used for long-distance transport and large-scale applications. It has a lower cost of delivery compared to LH2 and can be transported using existing infrastructure. Ammonia is considered suitable for maritime transport and can be used for delivering hydrogen to industrial customers or hydrogen refueling stations.\n",
       "\n",
       "4. Compressed Hydrogen:\n",
       "   - Cost of Delivery: High\n",
       "   - Favored Scenarios: Compressed hydrogen is commonly used for short transport distances and small-scale applications. It is suitable for local distribution and refueling stations. However, the cost of delivery for compressed hydrogen is relatively high compared to other carriers. Therefore, it may not be the most economical option for long-distance transport or large-scale applications.\n",
       "\n",
       "In summary, the choice of hydrogen carrier depends on the specific scenario and requirements. LH2 and compressed hydrogen are favored for short transport distances and small-scale applications, while LOHC and ammonia are more suitable for long-distance transport and large-scale applications. LOHC and ammonia offer advantages such as lower cost of delivery and compatibility with existing infrastructure, making them favorable options for maritime transport and delivering hydrogen to industrial customers or hydrogen refueling stations."
      ],
      "text/plain": [
       "<IPython.core.display.Markdown object>"
      ]
     },
     "metadata": {},
     "output_type": "display_data"
    }
   ],
   "source": [
    "start_time = time.time()\n",
    "response = index.query(query23, llm=llm)\n",
    "#response = qa_stuff.run(query)\n",
    "\n",
    "run_time = time.time()-start_time\n",
    "print(run_time)\n",
    "\n",
    "display(Markdown(response))"
   ]
  },
  {
   "cell_type": "code",
   "execution_count": 36,
   "id": "79203b3f",
   "metadata": {},
   "outputs": [
    {
     "data": {
      "text/markdown": [
       "According to the given context, the integration with electricity markets and cheap renewable power sources could help achieve low breakeven costs for electrolytic hydrogen. The lowest hydrogen breakeven cost could be achieved today via direct wholesale market participation, which is around $3/kg. However, direct wholesale access is currently prohibited in CAISO under state law, but it is permissible in other organized wholesale markets. The profitability of hydrogen production also depends on electrolyzer siting. The context does not mention whether this cost includes subsidies or not."
      ],
      "text/plain": [
       "<IPython.core.display.Markdown object>"
      ]
     },
     "metadata": {},
     "output_type": "display_data"
    }
   ],
   "source": [
    "display(Markdown(response))"
   ]
  },
  {
   "cell_type": "code",
   "execution_count": null,
   "id": "34faf6f8",
   "metadata": {},
   "outputs": [],
   "source": []
  },
  {
   "cell_type": "markdown",
   "id": "41f8fd8d",
   "metadata": {},
   "source": [
    "####  Key Question/Concerns for Dev"
   ]
  },
  {
   "cell_type": "code",
   "execution_count": null,
   "id": "2551381d",
   "metadata": {},
   "outputs": [],
   "source": [
    "# Getting unclear answers when combining all four reports\n",
    "# Does not seem to be correctly parsing through the data\n",
    "# Can it not read tables?\n",
    "# Why can't it generate more accurate answers?\n",
    "\n",
    "# QAGenerateChain.from_llm -> generates same questions. How to get higher fidelity questions?"
   ]
  },
  {
   "cell_type": "markdown",
   "id": "c362a4a2",
   "metadata": {},
   "source": [
    "### List of topics to add\n",
    "\n",
    "* Transportation economics\n",
    "* Natural hydrogen"
   ]
  },
  {
   "cell_type": "code",
   "execution_count": null,
   "id": "63dcc193",
   "metadata": {},
   "outputs": [],
   "source": []
  }
 ],
 "metadata": {
  "kernelspec": {
   "display_name": "Python 3 (ipykernel)",
   "language": "python",
   "name": "python3"
  },
  "language_info": {
   "codemirror_mode": {
    "name": "ipython",
    "version": 3
   },
   "file_extension": ".py",
   "mimetype": "text/x-python",
   "name": "python",
   "nbconvert_exporter": "python",
   "pygments_lexer": "ipython3",
   "version": "3.10.8"
  }
 },
 "nbformat": 4,
 "nbformat_minor": 5
}
