{
 "cells": [
  {
   "cell_type": "markdown",
   "id": "20cc6a13",
   "metadata": {},
   "source": [
    "# LangChain: Evaluation¶\n",
    "### Outline:\n",
    "* Example generation\n",
    "* Manual evaluation (and debuging)\n",
    "* LLM-assisted evaluation"
   ]
  },
  {
   "cell_type": "code",
   "execution_count": 75,
   "id": "12b2ded1",
   "metadata": {},
   "outputs": [
    {
     "name": "stdout",
     "output_type": "stream",
     "text": [
      "OpenAI API Key:········\n"
     ]
    }
   ],
   "source": [
    "import os\n",
    "import getpass\n",
    "import openai\n",
    "import time\n",
    "import markdown\n",
    "from IPython.display import display, Markdown\n",
    "\n",
    "from dotenv import load_dotenv, find_dotenv\n",
    "_ = load_dotenv(find_dotenv()) # read local .env file\n",
    "\n",
    "os.environ['OPENAI_API_KEY'] = getpass.getpass('OpenAI API Key:')"
   ]
  },
  {
   "cell_type": "markdown",
   "id": "1358f8c3",
   "metadata": {},
   "source": [
    "# Create our QandA application"
   ]
  },
  {
   "cell_type": "code",
   "execution_count": 76,
   "id": "3a4beefd",
   "metadata": {},
   "outputs": [],
   "source": [
    "from langchain.chains import RetrievalQA\n",
    "from langchain.chat_models import ChatOpenAI\n",
    "from langchain.document_loaders import PyPDFLoader\n",
    "from langchain.indexes import VectorstoreIndexCreator\n",
    "from langchain.vectorstores import DocArrayInMemorySearch\n",
    "\n",
    "#PDF directory loader\n",
    "from langchain.document_loaders import PyPDFDirectoryLoader"
   ]
  },
  {
   "cell_type": "code",
   "execution_count": 77,
   "id": "769cc14a",
   "metadata": {},
   "outputs": [],
   "source": [
    "# file = 'GlobalPowerPlantDB_USonly.csv'\n",
    "pdf_folder_path = \"/Users/markc/Hydrogen/\"\n",
    "loader = PyPDFDirectoryLoader(pdf_folder_path)\n",
    "data = loader.load()"
   ]
  },
  {
   "cell_type": "code",
   "execution_count": 4,
   "id": "73c0ee9b",
   "metadata": {},
   "outputs": [
    {
     "data": {
      "text/plain": [
       "Document(page_content='30 \\nThis report is available at no cost from the National Renewable Energy Laboratory at www.nrel.gov/publications.  Appendix A. Hydrogen Breakeven Cost  Sensitivities  \\n \\nFigure A -1. Estimated 2019 hydrogen breakeven cost and optimal electrolyzer operation for the \\n“direct wholesale market participation in CAISO” pathway and minimum electrolyzer costs \\n(sensitivity) . EY denotes electrolyzer , and CF denotes ca pacity factor. The capacity of the electrolyzer is \\n50 MW.  \\n \\nFigure A -2. Estimated 2019 hydrogen breakeven cost and optimal electrolyzer operation for the \\n“direct wholesale market participation in CAISO” pathway and maximum electrolyzer costs \\n(sensitivity) . EY denotes electrolyzer , and CF denotes capacity factor.  The capacity of the electrolyzer is \\n50 MW.  \\n', metadata={'source': '\\\\Users\\\\markc\\\\Hydrogen\\\\Guerra_HydrogenIntegration.pdf', 'page': 41})"
      ]
     },
     "execution_count": 4,
     "metadata": {},
     "output_type": "execute_result"
    }
   ],
   "source": [
    "data[110]"
   ]
  },
  {
   "cell_type": "code",
   "execution_count": 78,
   "id": "fbfd9abd",
   "metadata": {},
   "outputs": [],
   "source": [
    "index = VectorstoreIndexCreator(\n",
    "    vectorstore_cls=DocArrayInMemorySearch\n",
    ").from_loaders([loader])"
   ]
  },
  {
   "cell_type": "code",
   "execution_count": 79,
   "id": "02d00bff",
   "metadata": {},
   "outputs": [],
   "source": [
    "llm = ChatOpenAI(temperature = 0.0)\n",
    "qa = RetrievalQA.from_chain_type(\n",
    "    llm=llm, \n",
    "    chain_type=\"stuff\", \n",
    "    retriever=index.vectorstore.as_retriever(), \n",
    "    verbose=True,\n",
    "    chain_type_kwargs = {\n",
    "        \"document_separator\": \"<<<<>>>>>\"\n",
    "    }\n",
    ")"
   ]
  },
  {
   "cell_type": "markdown",
   "id": "aa9f22e2",
   "metadata": {},
   "source": [
    "# Coming up with test datapoints"
   ]
  },
  {
   "cell_type": "code",
   "execution_count": 80,
   "id": "6230250a",
   "metadata": {},
   "outputs": [
    {
     "data": {
      "text/plain": [
       "Document(page_content=' \\n31  \\nThis report is available at no cost from the National Renewable Energy Laboratory at www.nrel.gov/publications . Hydrogen Production Potential Summary  \\nTable 5 summarizes energy inputs required to produce 1 kilogr am of hydrogen from each \\nresource. Conversion pathways and production efficiencies, on an LHV basis, are shown for each \\nresource . The required coal value has been updated from the 2013 Resource Report to be \\nconsistent with the NETL (2010) state- of-the- art coal case (2.2 case study) production process \\nenergy efficiency . Key conversion factors are indicated in  Table 6. We assume wind, solar , water \\npower, and geothermal resources produce hydrogen at a rate of 51.3 kWh/kg hydrogen via central electrolysis (see H2A case study).  \\nHydrogen production potential estimates for the nuclear pathway include updated assumptions about uranium use that are not included in the most recent H2A case studies. Fo r HTE , we \\nassume a nominal burnup rate of 60 GW dt/tonne U , as well as an  estimate that a 600  MW t plant \\ncan produce 85×10\\n6 scf/day of hydrogen, and therefore has  a conversion efficiency of 50.2 % for \\nheat to hydrogen (LHV) (O’Brien  2017). These assumptions result in a nominal use rate of \\n4.62×10-5 kg U/ kg hydrogen. This value is used to determine uranium resource requirements for \\nthe HTE  production pathway. Both the nominal burnup rate and the daily hydrogen production \\nfor a 600 MWt plant have been updated since the 2013 Resource Report, resulting in a higher conversion efficiency and lower uranium- to-hydrogen use rates. The nuclear  production \\nefficiency  described above is detailed further in Appendix A. ', metadata={'source': '\\\\Users\\\\markc\\\\Hydrogen\\\\Conelly_HydrogenResource.pdf', 'page': 41})"
      ]
     },
     "execution_count": 80,
     "metadata": {},
     "output_type": "execute_result"
    }
   ],
   "source": [
    "data[41]"
   ]
  },
  {
   "cell_type": "code",
   "execution_count": 81,
   "id": "38eecccc",
   "metadata": {},
   "outputs": [
    {
     "data": {
      "text/plain": [
       "391"
      ]
     },
     "execution_count": 81,
     "metadata": {},
     "output_type": "execute_result"
    }
   ],
   "source": [
    "len(data)"
   ]
  },
  {
   "cell_type": "markdown",
   "id": "8661bc8a",
   "metadata": {},
   "source": [
    "# LLM-Generated examples"
   ]
  },
  {
   "cell_type": "code",
   "execution_count": 82,
   "id": "1ec7977c",
   "metadata": {},
   "outputs": [],
   "source": [
    "# Four boxes below generate Q&A pair to evaluate model\n",
    "from langchain.evaluation.qa import QAGenerateChain\n"
   ]
  },
  {
   "cell_type": "code",
   "execution_count": 83,
   "id": "18545eee",
   "metadata": {},
   "outputs": [],
   "source": [
    "# Pass in OpenIA language model to interact with chain\n",
    "example_gen_chain = QAGenerateChain.from_llm(ChatOpenAI())"
   ]
  },
  {
   "cell_type": "code",
   "execution_count": 89,
   "id": "37eb538d",
   "metadata": {},
   "outputs": [],
   "source": [
    "# Get back dictionary of question/answer pairs to evaluate\n",
    "#\n",
    "new_examples = example_gen_chain.apply_and_parse(\n",
    "    [{\"doc\": t} for t in data[:5]]\n",
    ")"
   ]
  },
  {
   "cell_type": "code",
   "execution_count": 92,
   "id": "3416dfe6",
   "metadata": {},
   "outputs": [
    {
     "data": {
      "text/plain": [
       "{'query': 'What does the acronym \"BAU\" stand for in the document?',\n",
       " 'answer': '\"BAU\" stands for \"business as usual\" in the document.'}"
      ]
     },
     "execution_count": 92,
     "metadata": {},
     "output_type": "execute_result"
    }
   ],
   "source": [
    "new_examples[4]"
   ]
  },
  {
   "cell_type": "code",
   "execution_count": 93,
   "id": "69b17e87",
   "metadata": {},
   "outputs": [],
   "source": [
    "examples = []\n",
    "examples += new_examples"
   ]
  },
  {
   "cell_type": "code",
   "execution_count": 94,
   "id": "3b51a07b",
   "metadata": {},
   "outputs": [
    {
     "name": "stdout",
     "output_type": "stream",
     "text": [
      "\n",
      "\n",
      "\u001b[1m> Entering new RetrievalQA chain...\u001b[0m\n",
      "\n",
      "\u001b[1m> Finished chain.\u001b[0m\n"
     ]
    },
    {
     "data": {
      "text/plain": [
       "'BAU stands for \"business as usual\" in the document.'"
      ]
     },
     "execution_count": 94,
     "metadata": {},
     "output_type": "execute_result"
    }
   ],
   "source": [
    "qa.run(examples[4][\"query\"])"
   ]
  },
  {
   "cell_type": "markdown",
   "id": "289ecafa",
   "metadata": {},
   "source": [
    "# Manual Evaluation"
   ]
  },
  {
   "cell_type": "code",
   "execution_count": 95,
   "id": "40993c30",
   "metadata": {},
   "outputs": [],
   "source": [
    "import langchain\n",
    "langchain.debug = True"
   ]
  },
  {
   "cell_type": "code",
   "execution_count": 97,
   "id": "638d5879",
   "metadata": {},
   "outputs": [
    {
     "name": "stdout",
     "output_type": "stream",
     "text": [
      "\u001b[32;1m\u001b[1;3m[chain/start]\u001b[0m \u001b[1m[1:chain:RetrievalQA] Entering Chain run with input:\n",
      "\u001b[0m{\n",
      "  \"query\": \"What does the acronym \\\"BAU\\\" stand for in the document?\"\n",
      "}\n",
      "\u001b[32;1m\u001b[1;3m[chain/start]\u001b[0m \u001b[1m[1:chain:RetrievalQA > 2:chain:StuffDocumentsChain] Entering Chain run with input:\n",
      "\u001b[0m[inputs]\n",
      "\u001b[32;1m\u001b[1;3m[chain/start]\u001b[0m \u001b[1m[1:chain:RetrievalQA > 2:chain:StuffDocumentsChain > 3:chain:LLMChain] Entering Chain run with input:\n",
      "\u001b[0m{\n",
      "  \"question\": \"What does the acronym \\\"BAU\\\" stand for in the document?\",\n",
      "  \"context\": \"iv \\nThis report is available at no cost from the National Renewable Energy Laboratory at www.nrel.gov/publications . Acronyms  \\nAEO  Annual Energy Outlook  \\nAWARE  available water remaining  \\nBAU  business as usual  \\nBtu British thermal units  \\nCSP concentrating solar power  \\nDOE  U.S. Department of Energy  \\nDRB  Demonstrated Reserve Base  \\nEERE  Energy Efficiency and Renewable Energy   \\nEGS  enhanced geothermal systems  \\nEHA  \\nEIA existing hydropower assets  \\nU.S. Energy Information Administration \\nFCEV  fuel cell electric vehicle  \\nGHG  greenhouse gas  \\nGREET  Greenhouse gases, Regulated Emissions, and Energy use in \\nTransportation \\nGW gigawatt  \\nGWh  gigawatt -hour \\nGWdt  gigawatt -days thermal  \\nH2A  Hydrogen Analysis  \\nHHV  higher heating value  \\nHTE  high-temperature electrolysis  \\nHTGR  high-temperature gas -cooled reactor  \\nIAEA  International Atomic Energy Ag ency  \\nkg kilogram  \\nkWh  kilowatt -hour \\nLDV  light-duty vehicle  \\nLHV  lower heating value<<<<>>>>>28 These estimates are taken from H2A current and future case study inputs, which are based on manufacturer \\nfeedback (B. James et al. 2013) .<<<<>>>>>accelerate- breakthroughs- toward -net. \\nWestern Area Power Administration (WAPA). 2014. “Boulder Canyon Project—Post -2017 \\nResource Pool.” Federal Register 79 (243): 75544–50. https://www.federalregister.gov/documents/2014/12/18/2014-29638/boulder-canyon-project-post-2017- resource-pool. \\n———. 2021. “Consolidated Rate Schedules – FY 2021, Energy Rate for Parker- Davis Power.” \\n2021. https://www.wapa.gov/regions/DSW/Rates/Pages/parker-davis-rates21.aspx.<<<<>>>>>UAN  urea ammonium nitrate  \\nUSDA  U.S. Department of Agriculture  \\nUSGS  U.S. Geological S urvey  \\n \\nVMT  vehicle miles traveled\"\n",
      "}\n",
      "\u001b[32;1m\u001b[1;3m[llm/start]\u001b[0m \u001b[1m[1:chain:RetrievalQA > 2:chain:StuffDocumentsChain > 3:chain:LLMChain > 4:llm:ChatOpenAI] Entering LLM run with input:\n",
      "\u001b[0m{\n",
      "  \"prompts\": [\n",
      "    \"System: Use the following pieces of context to answer the users question. \\nIf you don't know the answer, just say that you don't know, don't try to make up an answer.\\n----------------\\niv \\nThis report is available at no cost from the National Renewable Energy Laboratory at www.nrel.gov/publications . Acronyms  \\nAEO  Annual Energy Outlook  \\nAWARE  available water remaining  \\nBAU  business as usual  \\nBtu British thermal units  \\nCSP concentrating solar power  \\nDOE  U.S. Department of Energy  \\nDRB  Demonstrated Reserve Base  \\nEERE  Energy Efficiency and Renewable Energy   \\nEGS  enhanced geothermal systems  \\nEHA  \\nEIA existing hydropower assets  \\nU.S. Energy Information Administration \\nFCEV  fuel cell electric vehicle  \\nGHG  greenhouse gas  \\nGREET  Greenhouse gases, Regulated Emissions, and Energy use in \\nTransportation \\nGW gigawatt  \\nGWh  gigawatt -hour \\nGWdt  gigawatt -days thermal  \\nH2A  Hydrogen Analysis  \\nHHV  higher heating value  \\nHTE  high-temperature electrolysis  \\nHTGR  high-temperature gas -cooled reactor  \\nIAEA  International Atomic Energy Ag ency  \\nkg kilogram  \\nkWh  kilowatt -hour \\nLDV  light-duty vehicle  \\nLHV  lower heating value<<<<>>>>>28 These estimates are taken from H2A current and future case study inputs, which are based on manufacturer \\nfeedback (B. James et al. 2013) .<<<<>>>>>accelerate- breakthroughs- toward -net. \\nWestern Area Power Administration (WAPA). 2014. “Boulder Canyon Project—Post -2017 \\nResource Pool.” Federal Register 79 (243): 75544–50. https://www.federalregister.gov/documents/2014/12/18/2014-29638/boulder-canyon-project-post-2017- resource-pool. \\n———. 2021. “Consolidated Rate Schedules – FY 2021, Energy Rate for Parker- Davis Power.” \\n2021. https://www.wapa.gov/regions/DSW/Rates/Pages/parker-davis-rates21.aspx.<<<<>>>>>UAN  urea ammonium nitrate  \\nUSDA  U.S. Department of Agriculture  \\nUSGS  U.S. Geological S urvey  \\n \\nVMT  vehicle miles traveled\\nHuman: What does the acronym \\\"BAU\\\" stand for in the document?\"\n",
      "  ]\n",
      "}\n",
      "\u001b[36;1m\u001b[1;3m[llm/end]\u001b[0m \u001b[1m[1:chain:RetrievalQA > 2:chain:StuffDocumentsChain > 3:chain:LLMChain > 4:llm:ChatOpenAI] [627.404ms] Exiting LLM run with output:\n",
      "\u001b[0m{\n",
      "  \"generations\": [\n",
      "    [\n",
      "      {\n",
      "        \"text\": \"BAU stands for \\\"business as usual\\\" in the document.\",\n",
      "        \"generation_info\": null,\n",
      "        \"message\": {\n",
      "          \"content\": \"BAU stands for \\\"business as usual\\\" in the document.\",\n",
      "          \"additional_kwargs\": {},\n",
      "          \"example\": false\n",
      "        }\n",
      "      }\n",
      "    ]\n",
      "  ],\n",
      "  \"llm_output\": {\n",
      "    \"token_usage\": {\n",
      "      \"prompt_tokens\": 536,\n",
      "      \"completion_tokens\": 13,\n",
      "      \"total_tokens\": 549\n",
      "    },\n",
      "    \"model_name\": \"gpt-3.5-turbo\"\n",
      "  },\n",
      "  \"run\": null\n",
      "}\n",
      "\u001b[36;1m\u001b[1;3m[chain/end]\u001b[0m \u001b[1m[1:chain:RetrievalQA > 2:chain:StuffDocumentsChain > 3:chain:LLMChain] [627.404ms] Exiting Chain run with output:\n",
      "\u001b[0m{\n",
      "  \"text\": \"BAU stands for \\\"business as usual\\\" in the document.\"\n",
      "}\n",
      "\u001b[36;1m\u001b[1;3m[chain/end]\u001b[0m \u001b[1m[1:chain:RetrievalQA > 2:chain:StuffDocumentsChain] [627.404ms] Exiting Chain run with output:\n",
      "\u001b[0m{\n",
      "  \"output_text\": \"BAU stands for \\\"business as usual\\\" in the document.\"\n",
      "}\n",
      "\u001b[36;1m\u001b[1;3m[chain/end]\u001b[0m \u001b[1m[1:chain:RetrievalQA] [860.852ms] Exiting Chain run with output:\n",
      "\u001b[0m{\n",
      "  \"result\": \"BAU stands for \\\"business as usual\\\" in the document.\"\n",
      "}\n"
     ]
    },
    {
     "data": {
      "text/plain": [
       "'BAU stands for \"business as usual\" in the document.'"
      ]
     },
     "execution_count": 97,
     "metadata": {},
     "output_type": "execute_result"
    }
   ],
   "source": [
    "qa.run(examples[4][\"query\"])"
   ]
  },
  {
   "cell_type": "code",
   "execution_count": 98,
   "id": "f86eb6c8",
   "metadata": {},
   "outputs": [],
   "source": [
    "langchain.debug = False"
   ]
  },
  {
   "cell_type": "code",
   "execution_count": 99,
   "id": "24c92c18",
   "metadata": {},
   "outputs": [
    {
     "name": "stdout",
     "output_type": "stream",
     "text": [
      "\n",
      "\n",
      "\u001b[1m> Entering new RetrievalQA chain...\u001b[0m\n",
      "\n",
      "\u001b[1m> Finished chain.\u001b[0m\n",
      "\n",
      "\n",
      "\u001b[1m> Entering new RetrievalQA chain...\u001b[0m\n",
      "\n",
      "\u001b[1m> Finished chain.\u001b[0m\n",
      "\n",
      "\n",
      "\u001b[1m> Entering new RetrievalQA chain...\u001b[0m\n"
     ]
    },
    {
     "name": "stderr",
     "output_type": "stream",
     "text": [
      "Retrying langchain.chat_models.openai.ChatOpenAI.completion_with_retry.<locals>._completion_with_retry in 1.0 seconds as it raised ServiceUnavailableError: The server is overloaded or not ready yet..\n"
     ]
    },
    {
     "name": "stdout",
     "output_type": "stream",
     "text": [
      "\n",
      "\u001b[1m> Finished chain.\u001b[0m\n",
      "\n",
      "\n",
      "\u001b[1m> Entering new RetrievalQA chain...\u001b[0m\n",
      "\n",
      "\u001b[1m> Finished chain.\u001b[0m\n",
      "\n",
      "\n",
      "\u001b[1m> Entering new RetrievalQA chain...\u001b[0m\n",
      "\n",
      "\u001b[1m> Finished chain.\u001b[0m\n"
     ]
    }
   ],
   "source": [
    "predictions = qa.apply(examples)"
   ]
  },
  {
   "cell_type": "code",
   "execution_count": 100,
   "id": "e67f1ee8",
   "metadata": {},
   "outputs": [],
   "source": [
    "# QAEvalChain evaluates question answer pairs\n",
    "from langchain.evaluation.qa import QAEvalChain"
   ]
  },
  {
   "cell_type": "code",
   "execution_count": 101,
   "id": "5176ada8",
   "metadata": {},
   "outputs": [],
   "source": [
    "# Create above chain with language model. LLM will help do evaluation\n",
    "llm = ChatOpenAI(temperature=1)\n",
    "eval_chain = QAEvalChain.from_llm(llm)"
   ]
  },
  {
   "cell_type": "code",
   "execution_count": 102,
   "id": "062691fd",
   "metadata": {},
   "outputs": [],
   "source": [
    "# Get back graded outputs\n",
    "graded_outputs = eval_chain.evaluate(examples, predictions)"
   ]
  },
  {
   "cell_type": "code",
   "execution_count": 103,
   "id": "74e0bee0",
   "metadata": {
    "scrolled": true
   },
   "outputs": [
    {
     "name": "stdout",
     "output_type": "stream",
     "text": [
      "Example 0:\n",
      "Question: What is NREL and who operates it?\n",
      "Real Answer: NREL is a national laboratory of the U.S. Department of Energy and is operated by the Alliance for Sustainable Energy, LLC.\n",
      "Predicted Answer: NREL stands for National Renewable Energy Laboratory, which is a national laboratory of the U.S. Department of Energy. It is operated by the Alliance for Sustainable Energy, LLC.\n",
      "Predicted Grade: CORRECT\n",
      "\n",
      "Example 1:\n",
      "Question: What government agency is responsible for the National Renewable Energy Laboratory (NREL)?\n",
      "Real Answer: The U.S. Department of Energy's Office of Energy Efficiency & Renewable Energy is responsible for the National Renewable Energy Laboratory (NREL).\n",
      "Predicted Answer: The National Renewable Energy Laboratory (NREL) is a national laboratory of the U.S. Department of Energy.\n",
      "Predicted Grade: CORRECT\n",
      "\n",
      "Example 2:\n",
      "Question: Who funded the work that authored this document?\n",
      "Real Answer: The work was funded by the U.S. Department of Energy Office of Energy Efficiency and Renewable Energy Hydrogen and Fuel Cell Technologies Office.\n",
      "Predicted Answer: The work was funded by the U.S. Department of Energy (DOE) under Contract No. DE-AC36-08GO28308 and the U.S. Department of Energy Office of Energy Efficiency and Renewable Energy Hydrogen and Fuel Cell Technologies Office.\n",
      "Predicted Grade: CORRECT\n",
      "\n",
      "Example 3:\n",
      "Question: Who provided funding for the work mentioned in the document?\n",
      "Real Answer: The funding for the work was provided by the U.S. Department of Energy (DOE) Office of Energy Efficiency and Renewable Energy Hydrogen and Fuel Cell Technologies Office.\n",
      "Predicted Answer: The work mentioned in the document was supported by funding and valuable insights from the Hydrogen and Fuel Cell Technologies Office, part of the U.S. Department of Energy’s (DOE) Office of Energy Efficiency and Renewable Energy (EERE).\n",
      "Predicted Grade: CORRECT\n",
      "\n",
      "Example 4:\n",
      "Question: What does the acronym \"BAU\" stand for in the document?\n",
      "Real Answer: \"BAU\" stands for \"business as usual\" in the document.\n",
      "Predicted Answer: BAU stands for \"business as usual\" in the document.\n",
      "Predicted Grade: CORRECT\n",
      "\n"
     ]
    }
   ],
   "source": [
    "# All below are output by the language mdoel\n",
    "for i, eg in enumerate(examples):\n",
    "    print(f\"Example {i}:\")\n",
    "    print(\"Question: \" + predictions[i]['query'])\n",
    "    print(\"Real Answer: \" + predictions[i]['answer'])\n",
    "    print(\"Predicted Answer: \" + predictions[i]['result'])\n",
    "    print(\"Predicted Grade: \" + graded_outputs[i]['text'])\n",
    "    print()"
   ]
  },
  {
   "cell_type": "markdown",
   "id": "c0544ae3",
   "metadata": {},
   "source": [
    "## Key Questions/Concerns for Dev"
   ]
  },
  {
   "cell_type": "code",
   "execution_count": 26,
   "id": "175e4298",
   "metadata": {},
   "outputs": [],
   "source": [
    "# What to do if predicted answers incorrect?\n",
    "# QAEvalChain spit out the same question multiple times\n",
    "# Try to access the UI that tracks what is going on \n",
    "#  under the hood (from langchain plus)\n",
    "# --generate flywheel of datapoints to learn from!!!!\n",
    "\n"
   ]
  },
  {
   "cell_type": "markdown",
   "id": "c5dbfce8",
   "metadata": {},
   "source": [
    "### Try to query this new vectorstor database"
   ]
  },
  {
   "cell_type": "code",
   "execution_count": 118,
   "id": "5680fa5c",
   "metadata": {},
   "outputs": [],
   "source": [
    "query = \"What system design results in the lowest hydrogen breakeven cost? \\\n",
    "What is that cost in USD/kg? Is this with or without subsidies? Use markdown to describe.\""
   ]
  },
  {
   "cell_type": "code",
   "execution_count": 117,
   "id": "4faf4dfa",
   "metadata": {},
   "outputs": [
    {
     "name": "stdout",
     "output_type": "stream",
     "text": [
      "5.869688510894775\n"
     ]
    }
   ],
   "source": [
    "start_time = time.time()\n",
    "response = index.query(query, llm=llm)\n",
    "#response = qa_stuff.run(query)\n",
    "\n",
    "run_time = time.time()-start_time\n",
    "print(run_time)"
   ]
  },
  {
   "cell_type": "code",
   "execution_count": 119,
   "id": "79203b3f",
   "metadata": {},
   "outputs": [
    {
     "data": {
      "text/markdown": [
       "According to the given context, the integration with electricity markets, such as via dynamic retail tariffs or direct wholesale market participation, and cheap renewable power sources could help achieve low breakeven costs for electrolytic hydrogen regardless of the pathway for electrolytic hydrogen production. For example, low hydrogen breakeven cost could be achieved via direct wholesale market participation, which would cost around $3/kg. However, direct wholesale access is currently prohibited in CAISO under state law, though it is permissible in other organized wholesale markets. The profitability of hydrogen production also depends on electrolyzer siting, and even as CAPEX and OPEX continue to drop, the siting would play an important role in achieving low hydrogen breakeven costs. Hence, the lowest hydrogen breakeven cost is achievable with the integration of electricity markets, cheap renewable power sources, optimal siting of electrolyzers, and direct wholesale market participation, which would cost approximately $3/kg without subsidies."
      ],
      "text/plain": [
       "<IPython.core.display.Markdown object>"
      ]
     },
     "metadata": {},
     "output_type": "display_data"
    }
   ],
   "source": [
    "display(Markdown(response))"
   ]
  },
  {
   "cell_type": "markdown",
   "id": "41f8fd8d",
   "metadata": {},
   "source": [
    "####  Key Question/Concerns for Dev"
   ]
  },
  {
   "cell_type": "code",
   "execution_count": null,
   "id": "2551381d",
   "metadata": {},
   "outputs": [],
   "source": [
    "# Getting unclear answers when combining all four reports\n",
    "# Does not seem to be correctly parsing through the data\n",
    "# Can it not read tables?\n",
    "# Why can't it generate more accurate answers?\n",
    "\n",
    "# QAGenerateChain.from_llm -> generates same questions. How to get higher fidelity questions?"
   ]
  }
 ],
 "metadata": {
  "kernelspec": {
   "display_name": "Python 3 (ipykernel)",
   "language": "python",
   "name": "python3"
  },
  "language_info": {
   "codemirror_mode": {
    "name": "ipython",
    "version": 3
   },
   "file_extension": ".py",
   "mimetype": "text/x-python",
   "name": "python",
   "nbconvert_exporter": "python",
   "pygments_lexer": "ipython3",
   "version": "3.10.8"
  }
 },
 "nbformat": 4,
 "nbformat_minor": 5
}
