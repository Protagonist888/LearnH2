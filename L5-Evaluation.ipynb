{
 "cells": [
  {
   "cell_type": "markdown",
   "id": "20cc6a13",
   "metadata": {},
   "source": [
    "# LangChain: Evaluation¶\n",
    "### Outline:\n",
    "* Example generation\n",
    "* Manual evaluation (and debuging)\n",
    "* LLM-assisted evaluation"
   ]
  },
  {
   "cell_type": "code",
   "execution_count": 1,
   "id": "12b2ded1",
   "metadata": {},
   "outputs": [],
   "source": [
    "import os\n",
    "\n",
    "from dotenv import load_dotenv, find_dotenv\n",
    "_ = load_dotenv(find_dotenv()) # read local .env file"
   ]
  },
  {
   "cell_type": "markdown",
   "id": "1358f8c3",
   "metadata": {},
   "source": [
    "# Create our QandA application"
   ]
  },
  {
   "cell_type": "code",
   "execution_count": 2,
   "id": "3a4beefd",
   "metadata": {},
   "outputs": [],
   "source": [
    "from langchain.chains import RetrievalQA\n",
    "from langchain.chat_models import ChatOpenAI\n",
    "from langchain.document_loaders import CSVLoader\n",
    "from langchain.indexes import VectorstoreIndexCreator\n",
    "from langchain.vectorstores import DocArrayInMemorySearch"
   ]
  },
  {
   "cell_type": "code",
   "execution_count": 5,
   "id": "769cc14a",
   "metadata": {},
   "outputs": [],
   "source": [
    "file = 'GlobalPowerPlantDB_USonly.csv'\n",
    "loader = CSVLoader(file_path=file)\n",
    "data = loader.load()"
   ]
  },
  {
   "cell_type": "code",
   "execution_count": 6,
   "id": "fbfd9abd",
   "metadata": {},
   "outputs": [
    {
     "name": "stderr",
     "output_type": "stream",
     "text": [
      "Retrying langchain.embeddings.openai.embed_with_retry.<locals>._embed_with_retry in 4.0 seconds as it raised RateLimitError: Rate limit reached for default-text-embedding-ada-002 in organization org-0QB3BCHxO2VYRI58a5rutnKr on tokens per min. Limit: 1000000 / min. Current: 854675 / min. Contact us through our help center at help.openai.com if you continue to have issues..\n",
      "Retrying langchain.embeddings.openai.embed_with_retry.<locals>._embed_with_retry in 4.0 seconds as it raised RateLimitError: Rate limit reached for default-text-embedding-ada-002 in organization org-0QB3BCHxO2VYRI58a5rutnKr on tokens per min. Limit: 1000000 / min. Current: 902803 / min. Contact us through our help center at help.openai.com if you continue to have issues..\n",
      "Retrying langchain.embeddings.openai.embed_with_retry.<locals>._embed_with_retry in 4.0 seconds as it raised RateLimitError: Rate limit reached for default-text-embedding-ada-002 in organization org-0QB3BCHxO2VYRI58a5rutnKr on tokens per min. Limit: 1000000 / min. Current: 947342 / min. Contact us through our help center at help.openai.com if you continue to have issues..\n",
      "Retrying langchain.embeddings.openai.embed_with_retry.<locals>._embed_with_retry in 4.0 seconds as it raised RateLimitError: Rate limit reached for default-text-embedding-ada-002 in organization org-0QB3BCHxO2VYRI58a5rutnKr on tokens per min. Limit: 1000000 / min. Current: 872777 / min. Contact us through our help center at help.openai.com if you continue to have issues..\n",
      "Retrying langchain.embeddings.openai.embed_with_retry.<locals>._embed_with_retry in 4.0 seconds as it raised RateLimitError: Rate limit reached for default-text-embedding-ada-002 in organization org-0QB3BCHxO2VYRI58a5rutnKr on tokens per min. Limit: 1000000 / min. Current: 912529 / min. Contact us through our help center at help.openai.com if you continue to have issues..\n",
      "Retrying langchain.embeddings.openai.embed_with_retry.<locals>._embed_with_retry in 4.0 seconds as it raised RateLimitError: Rate limit reached for default-text-embedding-ada-002 in organization org-0QB3BCHxO2VYRI58a5rutnKr on tokens per min. Limit: 1000000 / min. Current: 838874 / min. Contact us through our help center at help.openai.com if you continue to have issues..\n",
      "Retrying langchain.embeddings.openai.embed_with_retry.<locals>._embed_with_retry in 4.0 seconds as it raised RateLimitError: Rate limit reached for default-text-embedding-ada-002 in organization org-0QB3BCHxO2VYRI58a5rutnKr on tokens per min. Limit: 1000000 / min. Current: 883594 / min. Contact us through our help center at help.openai.com if you continue to have issues..\n",
      "Retrying langchain.embeddings.openai.embed_with_retry.<locals>._embed_with_retry in 4.0 seconds as it raised RateLimitError: Rate limit reached for default-text-embedding-ada-002 in organization org-0QB3BCHxO2VYRI58a5rutnKr on tokens per min. Limit: 1000000 / min. Current: 930546 / min. Contact us through our help center at help.openai.com if you continue to have issues..\n",
      "Retrying langchain.embeddings.openai.embed_with_retry.<locals>._embed_with_retry in 4.0 seconds as it raised RateLimitError: Rate limit reached for default-text-embedding-ada-002 in organization org-0QB3BCHxO2VYRI58a5rutnKr on tokens per min. Limit: 1000000 / min. Current: 856568 / min. Contact us through our help center at help.openai.com if you continue to have issues..\n",
      "Retrying langchain.embeddings.openai.embed_with_retry.<locals>._embed_with_retry in 4.0 seconds as it raised RateLimitError: Rate limit reached for default-text-embedding-ada-002 in organization org-0QB3BCHxO2VYRI58a5rutnKr on tokens per min. Limit: 1000000 / min. Current: 904923 / min. Contact us through our help center at help.openai.com if you continue to have issues..\n",
      "Retrying langchain.embeddings.openai.embed_with_retry.<locals>._embed_with_retry in 4.0 seconds as it raised RateLimitError: Rate limit reached for default-text-embedding-ada-002 in organization org-0QB3BCHxO2VYRI58a5rutnKr on tokens per min. Limit: 1000000 / min. Current: 829802 / min. Contact us through our help center at help.openai.com if you continue to have issues..\n",
      "Retrying langchain.embeddings.openai.embed_with_retry.<locals>._embed_with_retry in 4.0 seconds as it raised RateLimitError: Rate limit reached for default-text-embedding-ada-002 in organization org-0QB3BCHxO2VYRI58a5rutnKr on tokens per min. Limit: 1000000 / min. Current: 847757 / min. Contact us through our help center at help.openai.com if you continue to have issues..\n",
      "Retrying langchain.embeddings.openai.embed_with_retry.<locals>._embed_with_retry in 4.0 seconds as it raised RateLimitError: Rate limit reached for default-text-embedding-ada-002 in organization org-0QB3BCHxO2VYRI58a5rutnKr on tokens per min. Limit: 1000000 / min. Current: 881567 / min. Contact us through our help center at help.openai.com if you continue to have issues..\n",
      "Retrying langchain.embeddings.openai.embed_with_retry.<locals>._embed_with_retry in 4.0 seconds as it raised RateLimitError: Rate limit reached for default-text-embedding-ada-002 in organization org-0QB3BCHxO2VYRI58a5rutnKr on tokens per min. Limit: 1000000 / min. Current: 935537 / min. Contact us through our help center at help.openai.com if you continue to have issues..\n",
      "Retrying langchain.embeddings.openai.embed_with_retry.<locals>._embed_with_retry in 4.0 seconds as it raised RateLimitError: Rate limit reached for default-text-embedding-ada-002 in organization org-0QB3BCHxO2VYRI58a5rutnKr on tokens per min. Limit: 1000000 / min. Current: 861842 / min. Contact us through our help center at help.openai.com if you continue to have issues..\n",
      "Retrying langchain.embeddings.openai.embed_with_retry.<locals>._embed_with_retry in 4.0 seconds as it raised RateLimitError: Rate limit reached for default-text-embedding-ada-002 in organization org-0QB3BCHxO2VYRI58a5rutnKr on tokens per min. Limit: 1000000 / min. Current: 894001 / min. Contact us through our help center at help.openai.com if you continue to have issues..\n"
     ]
    },
    {
     "ename": "KeyboardInterrupt",
     "evalue": "",
     "output_type": "error",
     "traceback": [
      "\u001b[1;31m---------------------------------------------------------------------------\u001b[0m",
      "\u001b[1;31mKeyboardInterrupt\u001b[0m                         Traceback (most recent call last)",
      "Cell \u001b[1;32mIn[6], line 3\u001b[0m\n\u001b[0;32m      1\u001b[0m index \u001b[38;5;241m=\u001b[39m \u001b[43mVectorstoreIndexCreator\u001b[49m\u001b[43m(\u001b[49m\n\u001b[0;32m      2\u001b[0m \u001b[43m    \u001b[49m\u001b[43mvectorstore_cls\u001b[49m\u001b[38;5;241;43m=\u001b[39;49m\u001b[43mDocArrayInMemorySearch\u001b[49m\n\u001b[1;32m----> 3\u001b[0m \u001b[43m)\u001b[49m\u001b[38;5;241;43m.\u001b[39;49m\u001b[43mfrom_loaders\u001b[49m\u001b[43m(\u001b[49m\u001b[43m[\u001b[49m\u001b[43mloader\u001b[49m\u001b[43m]\u001b[49m\u001b[43m)\u001b[49m\n",
      "File \u001b[1;32m~\\miniconda3\\lib\\site-packages\\langchain\\indexes\\vectorstore.py:73\u001b[0m, in \u001b[0;36mVectorstoreIndexCreator.from_loaders\u001b[1;34m(self, loaders)\u001b[0m\n\u001b[0;32m     71\u001b[0m \u001b[38;5;28;01mfor\u001b[39;00m loader \u001b[38;5;129;01min\u001b[39;00m loaders:\n\u001b[0;32m     72\u001b[0m     docs\u001b[38;5;241m.\u001b[39mextend(loader\u001b[38;5;241m.\u001b[39mload())\n\u001b[1;32m---> 73\u001b[0m \u001b[38;5;28;01mreturn\u001b[39;00m \u001b[38;5;28;43mself\u001b[39;49m\u001b[38;5;241;43m.\u001b[39;49m\u001b[43mfrom_documents\u001b[49m\u001b[43m(\u001b[49m\u001b[43mdocs\u001b[49m\u001b[43m)\u001b[49m\n",
      "File \u001b[1;32m~\\miniconda3\\lib\\site-packages\\langchain\\indexes\\vectorstore.py:78\u001b[0m, in \u001b[0;36mVectorstoreIndexCreator.from_documents\u001b[1;34m(self, documents)\u001b[0m\n\u001b[0;32m     76\u001b[0m \u001b[38;5;250m\u001b[39m\u001b[38;5;124;03m\"\"\"Create a vectorstore index from documents.\"\"\"\u001b[39;00m\n\u001b[0;32m     77\u001b[0m sub_docs \u001b[38;5;241m=\u001b[39m \u001b[38;5;28mself\u001b[39m\u001b[38;5;241m.\u001b[39mtext_splitter\u001b[38;5;241m.\u001b[39msplit_documents(documents)\n\u001b[1;32m---> 78\u001b[0m vectorstore \u001b[38;5;241m=\u001b[39m \u001b[38;5;28mself\u001b[39m\u001b[38;5;241m.\u001b[39mvectorstore_cls\u001b[38;5;241m.\u001b[39mfrom_documents(\n\u001b[0;32m     79\u001b[0m     sub_docs, \u001b[38;5;28mself\u001b[39m\u001b[38;5;241m.\u001b[39membedding, \u001b[38;5;241m*\u001b[39m\u001b[38;5;241m*\u001b[39m\u001b[38;5;28mself\u001b[39m\u001b[38;5;241m.\u001b[39mvectorstore_kwargs\n\u001b[0;32m     80\u001b[0m )\n\u001b[0;32m     81\u001b[0m \u001b[38;5;28;01mreturn\u001b[39;00m VectorStoreIndexWrapper(vectorstore\u001b[38;5;241m=\u001b[39mvectorstore)\n",
      "File \u001b[1;32m~\\miniconda3\\lib\\site-packages\\langchain\\vectorstores\\base.py:317\u001b[0m, in \u001b[0;36mVectorStore.from_documents\u001b[1;34m(cls, documents, embedding, **kwargs)\u001b[0m\n\u001b[0;32m    315\u001b[0m texts \u001b[38;5;241m=\u001b[39m [d\u001b[38;5;241m.\u001b[39mpage_content \u001b[38;5;28;01mfor\u001b[39;00m d \u001b[38;5;129;01min\u001b[39;00m documents]\n\u001b[0;32m    316\u001b[0m metadatas \u001b[38;5;241m=\u001b[39m [d\u001b[38;5;241m.\u001b[39mmetadata \u001b[38;5;28;01mfor\u001b[39;00m d \u001b[38;5;129;01min\u001b[39;00m documents]\n\u001b[1;32m--> 317\u001b[0m \u001b[38;5;28;01mreturn\u001b[39;00m \u001b[38;5;28mcls\u001b[39m\u001b[38;5;241m.\u001b[39mfrom_texts(texts, embedding, metadatas\u001b[38;5;241m=\u001b[39mmetadatas, \u001b[38;5;241m*\u001b[39m\u001b[38;5;241m*\u001b[39mkwargs)\n",
      "File \u001b[1;32m~\\miniconda3\\lib\\site-packages\\langchain\\vectorstores\\docarray\\in_memory.py:68\u001b[0m, in \u001b[0;36mDocArrayInMemorySearch.from_texts\u001b[1;34m(cls, texts, embedding, metadatas, **kwargs)\u001b[0m\n\u001b[0;32m     53\u001b[0m \u001b[38;5;250m\u001b[39m\u001b[38;5;124;03m\"\"\"Create an DocArrayInMemorySearch store and insert data.\u001b[39;00m\n\u001b[0;32m     54\u001b[0m \n\u001b[0;32m     55\u001b[0m \u001b[38;5;124;03mArgs:\u001b[39;00m\n\u001b[1;32m   (...)\u001b[0m\n\u001b[0;32m     65\u001b[0m \u001b[38;5;124;03m    DocArrayInMemorySearch Vector Store\u001b[39;00m\n\u001b[0;32m     66\u001b[0m \u001b[38;5;124;03m\"\"\"\u001b[39;00m\n\u001b[0;32m     67\u001b[0m store \u001b[38;5;241m=\u001b[39m \u001b[38;5;28mcls\u001b[39m\u001b[38;5;241m.\u001b[39mfrom_params(embedding, \u001b[38;5;241m*\u001b[39m\u001b[38;5;241m*\u001b[39mkwargs)\n\u001b[1;32m---> 68\u001b[0m \u001b[43mstore\u001b[49m\u001b[38;5;241;43m.\u001b[39;49m\u001b[43madd_texts\u001b[49m\u001b[43m(\u001b[49m\u001b[43mtexts\u001b[49m\u001b[38;5;241;43m=\u001b[39;49m\u001b[43mtexts\u001b[49m\u001b[43m,\u001b[49m\u001b[43m \u001b[49m\u001b[43mmetadatas\u001b[49m\u001b[38;5;241;43m=\u001b[39;49m\u001b[43mmetadatas\u001b[49m\u001b[43m)\u001b[49m\n\u001b[0;32m     69\u001b[0m \u001b[38;5;28;01mreturn\u001b[39;00m store\n",
      "File \u001b[1;32m~\\miniconda3\\lib\\site-packages\\langchain\\vectorstores\\docarray\\base.py:80\u001b[0m, in \u001b[0;36mDocArrayIndex.add_texts\u001b[1;34m(self, texts, metadatas, **kwargs)\u001b[0m\n\u001b[0;32m     70\u001b[0m \u001b[38;5;250m\u001b[39m\u001b[38;5;124;03m\"\"\"Run more texts through the embeddings and add to the vectorstore.\u001b[39;00m\n\u001b[0;32m     71\u001b[0m \n\u001b[0;32m     72\u001b[0m \u001b[38;5;124;03mArgs:\u001b[39;00m\n\u001b[1;32m   (...)\u001b[0m\n\u001b[0;32m     77\u001b[0m \u001b[38;5;124;03m    List of ids from adding the texts into the vectorstore.\u001b[39;00m\n\u001b[0;32m     78\u001b[0m \u001b[38;5;124;03m\"\"\"\u001b[39;00m\n\u001b[0;32m     79\u001b[0m ids: List[\u001b[38;5;28mstr\u001b[39m] \u001b[38;5;241m=\u001b[39m []\n\u001b[1;32m---> 80\u001b[0m embeddings \u001b[38;5;241m=\u001b[39m \u001b[38;5;28;43mself\u001b[39;49m\u001b[38;5;241;43m.\u001b[39;49m\u001b[43membedding\u001b[49m\u001b[38;5;241;43m.\u001b[39;49m\u001b[43membed_documents\u001b[49m\u001b[43m(\u001b[49m\u001b[38;5;28;43mlist\u001b[39;49m\u001b[43m(\u001b[49m\u001b[43mtexts\u001b[49m\u001b[43m)\u001b[49m\u001b[43m)\u001b[49m\n\u001b[0;32m     81\u001b[0m \u001b[38;5;28;01mfor\u001b[39;00m i, (t, e) \u001b[38;5;129;01min\u001b[39;00m \u001b[38;5;28menumerate\u001b[39m(\u001b[38;5;28mzip\u001b[39m(texts, embeddings)):\n\u001b[0;32m     82\u001b[0m     m \u001b[38;5;241m=\u001b[39m metadatas[i] \u001b[38;5;28;01mif\u001b[39;00m metadatas \u001b[38;5;28;01melse\u001b[39;00m {}\n",
      "File \u001b[1;32m~\\miniconda3\\lib\\site-packages\\langchain\\embeddings\\openai.py:305\u001b[0m, in \u001b[0;36mOpenAIEmbeddings.embed_documents\u001b[1;34m(self, texts, chunk_size)\u001b[0m\n\u001b[0;32m    293\u001b[0m \u001b[38;5;250m\u001b[39m\u001b[38;5;124;03m\"\"\"Call out to OpenAI's embedding endpoint for embedding search docs.\u001b[39;00m\n\u001b[0;32m    294\u001b[0m \n\u001b[0;32m    295\u001b[0m \u001b[38;5;124;03mArgs:\u001b[39;00m\n\u001b[1;32m   (...)\u001b[0m\n\u001b[0;32m    301\u001b[0m \u001b[38;5;124;03m    List of embeddings, one for each text.\u001b[39;00m\n\u001b[0;32m    302\u001b[0m \u001b[38;5;124;03m\"\"\"\u001b[39;00m\n\u001b[0;32m    303\u001b[0m \u001b[38;5;66;03m# NOTE: to keep things simple, we assume the list may contain texts longer\u001b[39;00m\n\u001b[0;32m    304\u001b[0m \u001b[38;5;66;03m#       than the maximum context and use length-safe embedding function.\u001b[39;00m\n\u001b[1;32m--> 305\u001b[0m \u001b[38;5;28;01mreturn\u001b[39;00m \u001b[38;5;28;43mself\u001b[39;49m\u001b[38;5;241;43m.\u001b[39;49m\u001b[43m_get_len_safe_embeddings\u001b[49m\u001b[43m(\u001b[49m\u001b[43mtexts\u001b[49m\u001b[43m,\u001b[49m\u001b[43m \u001b[49m\u001b[43mengine\u001b[49m\u001b[38;5;241;43m=\u001b[39;49m\u001b[38;5;28;43mself\u001b[39;49m\u001b[38;5;241;43m.\u001b[39;49m\u001b[43mdeployment\u001b[49m\u001b[43m)\u001b[49m\n",
      "File \u001b[1;32m~\\miniconda3\\lib\\site-packages\\langchain\\embeddings\\openai.py:243\u001b[0m, in \u001b[0;36mOpenAIEmbeddings._get_len_safe_embeddings\u001b[1;34m(self, texts, engine, chunk_size)\u001b[0m\n\u001b[0;32m    241\u001b[0m _chunk_size \u001b[38;5;241m=\u001b[39m chunk_size \u001b[38;5;129;01mor\u001b[39;00m \u001b[38;5;28mself\u001b[39m\u001b[38;5;241m.\u001b[39mchunk_size\n\u001b[0;32m    242\u001b[0m \u001b[38;5;28;01mfor\u001b[39;00m i \u001b[38;5;129;01min\u001b[39;00m \u001b[38;5;28mrange\u001b[39m(\u001b[38;5;241m0\u001b[39m, \u001b[38;5;28mlen\u001b[39m(tokens), _chunk_size):\n\u001b[1;32m--> 243\u001b[0m     response \u001b[38;5;241m=\u001b[39m embed_with_retry(\n\u001b[0;32m    244\u001b[0m         \u001b[38;5;28mself\u001b[39m,\n\u001b[0;32m    245\u001b[0m         \u001b[38;5;28minput\u001b[39m\u001b[38;5;241m=\u001b[39mtokens[i : i \u001b[38;5;241m+\u001b[39m _chunk_size],\n\u001b[0;32m    246\u001b[0m         \u001b[38;5;241m*\u001b[39m\u001b[38;5;241m*\u001b[39m\u001b[38;5;28mself\u001b[39m\u001b[38;5;241m.\u001b[39m_invocation_params,\n\u001b[0;32m    247\u001b[0m     )\n\u001b[0;32m    248\u001b[0m     batched_embeddings \u001b[38;5;241m+\u001b[39m\u001b[38;5;241m=\u001b[39m [r[\u001b[38;5;124m\"\u001b[39m\u001b[38;5;124membedding\u001b[39m\u001b[38;5;124m\"\u001b[39m] \u001b[38;5;28;01mfor\u001b[39;00m r \u001b[38;5;129;01min\u001b[39;00m response[\u001b[38;5;124m\"\u001b[39m\u001b[38;5;124mdata\u001b[39m\u001b[38;5;124m\"\u001b[39m]]\n\u001b[0;32m    250\u001b[0m results: List[List[List[\u001b[38;5;28mfloat\u001b[39m]]] \u001b[38;5;241m=\u001b[39m [[] \u001b[38;5;28;01mfor\u001b[39;00m _ \u001b[38;5;129;01min\u001b[39;00m \u001b[38;5;28mrange\u001b[39m(\u001b[38;5;28mlen\u001b[39m(texts))]\n",
      "File \u001b[1;32m~\\miniconda3\\lib\\site-packages\\langchain\\embeddings\\openai.py:64\u001b[0m, in \u001b[0;36membed_with_retry\u001b[1;34m(embeddings, **kwargs)\u001b[0m\n\u001b[0;32m     60\u001b[0m \u001b[38;5;129m@retry_decorator\u001b[39m\n\u001b[0;32m     61\u001b[0m \u001b[38;5;28;01mdef\u001b[39;00m \u001b[38;5;21m_embed_with_retry\u001b[39m(\u001b[38;5;241m*\u001b[39m\u001b[38;5;241m*\u001b[39mkwargs: Any) \u001b[38;5;241m-\u001b[39m\u001b[38;5;241m>\u001b[39m Any:\n\u001b[0;32m     62\u001b[0m     \u001b[38;5;28;01mreturn\u001b[39;00m embeddings\u001b[38;5;241m.\u001b[39mclient\u001b[38;5;241m.\u001b[39mcreate(\u001b[38;5;241m*\u001b[39m\u001b[38;5;241m*\u001b[39mkwargs)\n\u001b[1;32m---> 64\u001b[0m \u001b[38;5;28;01mreturn\u001b[39;00m _embed_with_retry(\u001b[38;5;241m*\u001b[39m\u001b[38;5;241m*\u001b[39mkwargs)\n",
      "File \u001b[1;32m~\\miniconda3\\lib\\site-packages\\tenacity\\__init__.py:289\u001b[0m, in \u001b[0;36mBaseRetrying.wraps.<locals>.wrapped_f\u001b[1;34m(*args, **kw)\u001b[0m\n\u001b[0;32m    287\u001b[0m \u001b[38;5;129m@functools\u001b[39m\u001b[38;5;241m.\u001b[39mwraps(f)\n\u001b[0;32m    288\u001b[0m \u001b[38;5;28;01mdef\u001b[39;00m \u001b[38;5;21mwrapped_f\u001b[39m(\u001b[38;5;241m*\u001b[39margs: t\u001b[38;5;241m.\u001b[39mAny, \u001b[38;5;241m*\u001b[39m\u001b[38;5;241m*\u001b[39mkw: t\u001b[38;5;241m.\u001b[39mAny) \u001b[38;5;241m-\u001b[39m\u001b[38;5;241m>\u001b[39m t\u001b[38;5;241m.\u001b[39mAny:\n\u001b[1;32m--> 289\u001b[0m     \u001b[38;5;28;01mreturn\u001b[39;00m \u001b[38;5;28mself\u001b[39m(f, \u001b[38;5;241m*\u001b[39margs, \u001b[38;5;241m*\u001b[39m\u001b[38;5;241m*\u001b[39mkw)\n",
      "File \u001b[1;32m~\\miniconda3\\lib\\site-packages\\tenacity\\__init__.py:389\u001b[0m, in \u001b[0;36mRetrying.__call__\u001b[1;34m(self, fn, *args, **kwargs)\u001b[0m\n\u001b[0;32m    387\u001b[0m \u001b[38;5;28;01melif\u001b[39;00m \u001b[38;5;28misinstance\u001b[39m(do, DoSleep):\n\u001b[0;32m    388\u001b[0m     retry_state\u001b[38;5;241m.\u001b[39mprepare_for_next_attempt()\n\u001b[1;32m--> 389\u001b[0m     \u001b[38;5;28;43mself\u001b[39;49m\u001b[38;5;241;43m.\u001b[39;49m\u001b[43msleep\u001b[49m\u001b[43m(\u001b[49m\u001b[43mdo\u001b[49m\u001b[43m)\u001b[49m\n\u001b[0;32m    390\u001b[0m \u001b[38;5;28;01melse\u001b[39;00m:\n\u001b[0;32m    391\u001b[0m     \u001b[38;5;28;01mreturn\u001b[39;00m do\n",
      "File \u001b[1;32m~\\miniconda3\\lib\\site-packages\\tenacity\\nap.py:31\u001b[0m, in \u001b[0;36msleep\u001b[1;34m(seconds)\u001b[0m\n\u001b[0;32m     25\u001b[0m \u001b[38;5;28;01mdef\u001b[39;00m \u001b[38;5;21msleep\u001b[39m(seconds: \u001b[38;5;28mfloat\u001b[39m) \u001b[38;5;241m-\u001b[39m\u001b[38;5;241m>\u001b[39m \u001b[38;5;28;01mNone\u001b[39;00m:\n\u001b[0;32m     26\u001b[0m \u001b[38;5;250m    \u001b[39m\u001b[38;5;124;03m\"\"\"\u001b[39;00m\n\u001b[0;32m     27\u001b[0m \u001b[38;5;124;03m    Sleep strategy that delays execution for a given number of seconds.\u001b[39;00m\n\u001b[0;32m     28\u001b[0m \n\u001b[0;32m     29\u001b[0m \u001b[38;5;124;03m    This is the default strategy, and may be mocked out for unit testing.\u001b[39;00m\n\u001b[0;32m     30\u001b[0m \u001b[38;5;124;03m    \"\"\"\u001b[39;00m\n\u001b[1;32m---> 31\u001b[0m     \u001b[43mtime\u001b[49m\u001b[38;5;241;43m.\u001b[39;49m\u001b[43msleep\u001b[49m\u001b[43m(\u001b[49m\u001b[43mseconds\u001b[49m\u001b[43m)\u001b[49m\n",
      "\u001b[1;31mKeyboardInterrupt\u001b[0m: "
     ]
    }
   ],
   "source": [
    "index = VectorstoreIndexCreator(\n",
    "    vectorstore_cls=DocArrayInMemorySearch\n",
    ").from_loaders([loader])"
   ]
  },
  {
   "cell_type": "code",
   "execution_count": null,
   "id": "02d00bff",
   "metadata": {},
   "outputs": [],
   "source": [
    "llm = ChatOpenAI(temperature = 0.0)\n",
    "qa = RetrievalQA.from_chain_type(\n",
    "    llm=llm, \n",
    "    chain_type=\"stuff\", \n",
    "    retriever=index.vectorstore.as_retriever(), \n",
    "    verbose=True,\n",
    "    chain_type_kwargs = {\n",
    "        \"document_separator\": \"<<<<>>>>>\"\n",
    "    }\n",
    ")"
   ]
  },
  {
   "cell_type": "markdown",
   "id": "aa9f22e2",
   "metadata": {},
   "source": [
    "# Coming up with test datapoints"
   ]
  },
  {
   "cell_type": "code",
   "execution_count": 9,
   "id": "6230250a",
   "metadata": {},
   "outputs": [
    {
     "data": {
      "text/plain": [
       "Document(page_content='country: USA\\ncountry_long: United States of America\\nname: 491 E 48th Street\\ngppd_idnr: USA0007268\\ncapacity_mw: 161.7\\nlatitude: 42.7553\\nlongitude: -86.0853\\nprimary_fuel: Gas\\nother_fuel1: Oil\\nother_fuel2: \\nother_fuel3: \\ncommissioning_year: 1996.131107\\nowner: City of Holland\\nsource: U.S. Energy Information Administration\\nurl: http://www.eia.gov/electricity/data/browser/\\ngeolocation_source: U.S. Energy Information Administration\\nwepp_id: 22235\\nyear_of_capacity_data: 2019\\ngeneration_gwh_2013: 14.308\\ngeneration_gwh_2014: 14.985\\ngeneration_gwh_2015: 0\\ngeneration_gwh_2016: 14.034\\ngeneration_gwh_2017: 0\\ngeneration_gwh_2018: 50.703\\ngeneration_gwh_2019: 21.103\\ngeneration_data_source: U.S. Energy Information Administration\\nestimated_generation_gwh_2013: \\nestimated_generation_gwh_2014: \\nestimated_generation_gwh_2015: \\nestimated_generation_gwh_2016: \\nestimated_generation_gwh_2017: 570.23\\nestimated_generation_note_2013: NO-ESTIMATION\\nestimated_generation_note_2014: NO-ESTIMATION\\nestimated_generation_note_2015: NO-ESTIMATION\\nestimated_generation_note_2016: NO-ESTIMATION\\nestimated_generation_note_2017: CAPACITY-FACTOR-V1', metadata={'source': 'GlobalPowerPlantDB_USonly.csv', 'row': 30})"
      ]
     },
     "execution_count": 9,
     "metadata": {},
     "output_type": "execute_result"
    }
   ],
   "source": [
    "data[30]"
   ]
  },
  {
   "cell_type": "markdown",
   "id": "2cd5afc1",
   "metadata": {},
   "source": [
    "# Hard-coded examples"
   ]
  },
  {
   "cell_type": "code",
   "execution_count": 37,
   "id": "953ad4c4",
   "metadata": {},
   "outputs": [],
   "source": [
    "examples = [\n",
    "    {\n",
    "        \"query\": \"How many solar plants in the USA?\",\n",
    "        \"answer\": \"3283\"\n",
    "    },\n",
    "    {\n",
    "        \"query\": \"What states are they located in?\" ,\n",
    "        \"answer\": \"California, Texas, Nevada\"\n",
    "    }\n",
    "]"
   ]
  },
  {
   "cell_type": "markdown",
   "id": "8661bc8a",
   "metadata": {},
   "source": [
    "# LLM-Generated examples"
   ]
  },
  {
   "cell_type": "code",
   "execution_count": 38,
   "id": "1ec7977c",
   "metadata": {},
   "outputs": [],
   "source": [
    "# Four boxes below generate Q&A pair to evaluate model\n",
    "from langchain.evaluation.qa import QAGenerateChain\n"
   ]
  },
  {
   "cell_type": "code",
   "execution_count": 39,
   "id": "18545eee",
   "metadata": {},
   "outputs": [],
   "source": [
    "example_gen_chain = QAGenerateChain.from_llm(ChatOpenAI())"
   ]
  },
  {
   "cell_type": "code",
   "execution_count": 40,
   "id": "37eb538d",
   "metadata": {},
   "outputs": [
    {
     "name": "stdout",
     "output_type": "stream",
     "text": [
      "\u001b[32;1m\u001b[1;3m[chain/start]\u001b[0m \u001b[1m[1:chain:QAGenerateChain] Entering Chain run with input:\n",
      "\u001b[0m[inputs]\n",
      "\u001b[32;1m\u001b[1;3m[llm/start]\u001b[0m \u001b[1m[1:chain:QAGenerateChain > 2:llm:ChatOpenAI] Entering LLM run with input:\n",
      "\u001b[0m{\n",
      "  \"prompts\": [\n",
      "    \"Human: You are a teacher coming up with questions to ask on a quiz. \\nGiven the following document, please generate a question and answer based on that document.\\n\\nExample Format:\\n<Begin Document>\\n...\\n<End Document>\\nQUESTION: question here\\nANSWER: answer here\\n\\nThese questions should be detailed and be based explicitly on information in the document. Begin!\\n\\n<Begin Document>\\npage_content='country: USA\\\\ncountry_long: United States of America\\\\nname: 100 Brook Hill Drive Solar\\\\ngppd_idnr: USA0063292\\\\ncapacity_mw: 2\\\\nlatitude: 41.093\\\\nlongitude: -73.9828\\\\nprimary_fuel: Solar\\\\nother_fuel1: \\\\nother_fuel2: \\\\nother_fuel3: \\\\ncommissioning_year: 2016\\\\nowner: Diamond Properties\\\\nsource: U.S. Energy Information Administration\\\\nurl: http://www.eia.gov/electricity/data/browser/\\\\ngeolocation_source: U.S. Energy Information Administration\\\\nwepp_id: \\\\nyear_of_capacity_data: 2019\\\\ngeneration_gwh_2013: \\\\ngeneration_gwh_2014: \\\\ngeneration_gwh_2015: \\\\ngeneration_gwh_2016: \\\\ngeneration_gwh_2017: \\\\ngeneration_gwh_2018: \\\\ngeneration_gwh_2019: 2.467\\\\ngeneration_data_source: U.S. Energy Information Administration\\\\nestimated_generation_gwh_2013: \\\\nestimated_generation_gwh_2014: \\\\nestimated_generation_gwh_2015: \\\\nestimated_generation_gwh_2016: \\\\nestimated_generation_gwh_2017: 3.25\\\\nestimated_generation_note_2013: NO-ESTIMATION\\\\nestimated_generation_note_2014: NO-ESTIMATION\\\\nestimated_generation_note_2015: NO-ESTIMATION\\\\nestimated_generation_note_2016: NO-ESTIMATION\\\\nestimated_generation_note_2017: CAPACITY-FACTOR-V1' metadata={'source': 'GlobalPowerPlantDB_USonly.csv', 'row': 0}\\n<End Document>\",\n",
      "    \"Human: You are a teacher coming up with questions to ask on a quiz. \\nGiven the following document, please generate a question and answer based on that document.\\n\\nExample Format:\\n<Begin Document>\\n...\\n<End Document>\\nQUESTION: question here\\nANSWER: answer here\\n\\nThese questions should be detailed and be based explicitly on information in the document. Begin!\\n\\n<Begin Document>\\npage_content='country: USA\\\\ncountry_long: United States of America\\\\nname: 1025 Traveller Solar  LLC\\\\ngppd_idnr: USA0062660\\\\ncapacity_mw: 5\\\\nlatitude: 35.4273\\\\nlongitude: -79.1263\\\\nprimary_fuel: Solar\\\\nother_fuel1: \\\\nother_fuel2: \\\\nother_fuel3: \\\\ncommissioning_year: 2019\\\\nowner: CI-II Mitchell Holding LLC\\\\nsource: U.S. Energy Information Administration\\\\nurl: http://www.eia.gov/electricity/data/browser/\\\\ngeolocation_source: U.S. Energy Information Administration\\\\nwepp_id: \\\\nyear_of_capacity_data: 2019\\\\ngeneration_gwh_2013: \\\\ngeneration_gwh_2014: \\\\ngeneration_gwh_2015: \\\\ngeneration_gwh_2016: \\\\ngeneration_gwh_2017: \\\\ngeneration_gwh_2018: \\\\ngeneration_gwh_2019: 1.332\\\\ngeneration_data_source: U.S. Energy Information Administration\\\\nestimated_generation_gwh_2013: \\\\nestimated_generation_gwh_2014: \\\\nestimated_generation_gwh_2015: \\\\nestimated_generation_gwh_2016: \\\\nestimated_generation_gwh_2017: 8.14\\\\nestimated_generation_note_2013: NO-ESTIMATION\\\\nestimated_generation_note_2014: NO-ESTIMATION\\\\nestimated_generation_note_2015: NO-ESTIMATION\\\\nestimated_generation_note_2016: NO-ESTIMATION\\\\nestimated_generation_note_2017: CAPACITY-FACTOR-V1' metadata={'source': 'GlobalPowerPlantDB_USonly.csv', 'row': 1}\\n<End Document>\",\n",
      "    \"Human: You are a teacher coming up with questions to ask on a quiz. \\nGiven the following document, please generate a question and answer based on that document.\\n\\nExample Format:\\n<Begin Document>\\n...\\n<End Document>\\nQUESTION: question here\\nANSWER: answer here\\n\\nThese questions should be detailed and be based explicitly on information in the document. Begin!\\n\\n<Begin Document>\\npage_content='country: USA\\\\ncountry_long: United States of America\\\\nname: 1047 Little Mountain Solar  LLC\\\\ngppd_idnr: USA0062661\\\\ncapacity_mw: 3\\\\nlatitude: 36.1971\\\\nlongitude: -80.8067\\\\nprimary_fuel: Solar\\\\nother_fuel1: \\\\nother_fuel2: \\\\nother_fuel3: \\\\ncommissioning_year: 2019\\\\nowner: CI-II Mitchell Holding LLC\\\\nsource: U.S. Energy Information Administration\\\\nurl: http://www.eia.gov/electricity/data/browser/\\\\ngeolocation_source: U.S. Energy Information Administration\\\\nwepp_id: \\\\nyear_of_capacity_data: 2019\\\\ngeneration_gwh_2013: \\\\ngeneration_gwh_2014: \\\\ngeneration_gwh_2015: \\\\ngeneration_gwh_2016: \\\\ngeneration_gwh_2017: \\\\ngeneration_gwh_2018: \\\\ngeneration_gwh_2019: 1.417\\\\ngeneration_data_source: U.S. Energy Information Administration\\\\nestimated_generation_gwh_2013: \\\\nestimated_generation_gwh_2014: \\\\nestimated_generation_gwh_2015: \\\\nestimated_generation_gwh_2016: \\\\nestimated_generation_gwh_2017: 4.88\\\\nestimated_generation_note_2013: NO-ESTIMATION\\\\nestimated_generation_note_2014: NO-ESTIMATION\\\\nestimated_generation_note_2015: NO-ESTIMATION\\\\nestimated_generation_note_2016: NO-ESTIMATION\\\\nestimated_generation_note_2017: CAPACITY-FACTOR-V1' metadata={'source': 'GlobalPowerPlantDB_USonly.csv', 'row': 2}\\n<End Document>\",\n",
      "    \"Human: You are a teacher coming up with questions to ask on a quiz. \\nGiven the following document, please generate a question and answer based on that document.\\n\\nExample Format:\\n<Begin Document>\\n...\\n<End Document>\\nQUESTION: question here\\nANSWER: answer here\\n\\nThese questions should be detailed and be based explicitly on information in the document. Begin!\\n\\n<Begin Document>\\npage_content='country: USA\\\\ncountry_long: United States of America\\\\nname: 12 Applegate Solar LLC\\\\ngppd_idnr: USA0059371\\\\ncapacity_mw: 1.9\\\\nlatitude: 40.2003\\\\nlongitude: -74.5761\\\\nprimary_fuel: Solar\\\\nother_fuel1: \\\\nother_fuel2: \\\\nother_fuel3: \\\\ncommissioning_year: 2012\\\\nowner: G&S Solar Installers LLC\\\\nsource: U.S. Energy Information Administration\\\\nurl: http://www.eia.gov/electricity/data/browser/\\\\ngeolocation_source: U.S. Energy Information Administration\\\\nwepp_id: \\\\nyear_of_capacity_data: 2019\\\\ngeneration_gwh_2013: 2.41461\\\\ngeneration_gwh_2014: 2.35\\\\ngeneration_gwh_2015: 2.43\\\\ngeneration_gwh_2016: 2.492\\\\ngeneration_gwh_2017: 2.276\\\\ngeneration_gwh_2018: 2.207\\\\ngeneration_gwh_2019: 2.349\\\\ngeneration_data_source: U.S. Energy Information Administration\\\\nestimated_generation_gwh_2013: 2.92\\\\nestimated_generation_gwh_2014: 2.94\\\\nestimated_generation_gwh_2015: 3.06\\\\nestimated_generation_gwh_2016: 2.85\\\\nestimated_generation_gwh_2017: 2.61\\\\nestimated_generation_note_2013: SOLAR-V1\\\\nestimated_generation_note_2014: SOLAR-V1\\\\nestimated_generation_note_2015: SOLAR-V1\\\\nestimated_generation_note_2016: SOLAR-V1\\\\nestimated_generation_note_2017: SOLAR-V1' metadata={'source': 'GlobalPowerPlantDB_USonly.csv', 'row': 3}\\n<End Document>\",\n",
      "    \"Human: You are a teacher coming up with questions to ask on a quiz. \\nGiven the following document, please generate a question and answer based on that document.\\n\\nExample Format:\\n<Begin Document>\\n...\\n<End Document>\\nQUESTION: question here\\nANSWER: answer here\\n\\nThese questions should be detailed and be based explicitly on information in the document. Begin!\\n\\n<Begin Document>\\npage_content='country: USA\\\\ncountry_long: United States of America\\\\nname: 126 Grove Solar LLC\\\\ngppd_idnr: USA0060858\\\\ncapacity_mw: 2\\\\nlatitude: 42.0761\\\\nlongitude: -71.4227\\\\nprimary_fuel: Solar\\\\nother_fuel1: \\\\nother_fuel2: \\\\nother_fuel3: \\\\ncommissioning_year: 2012\\\\nowner: 126 Grove Solar LLC\\\\nsource: U.S. Energy Information Administration\\\\nurl: http://www.eia.gov/electricity/data/browser/\\\\ngeolocation_source: U.S. Energy Information Administration\\\\nwepp_id: \\\\nyear_of_capacity_data: 2019\\\\ngeneration_gwh_2013: \\\\ngeneration_gwh_2014: \\\\ngeneration_gwh_2015: \\\\ngeneration_gwh_2016: 2.416\\\\ngeneration_gwh_2017: 2.251\\\\ngeneration_gwh_2018: 2.195\\\\ngeneration_gwh_2019: 2.303\\\\ngeneration_data_source: U.S. Energy Information Administration\\\\nestimated_generation_gwh_2013: 3.01\\\\nestimated_generation_gwh_2014: 2.98\\\\nestimated_generation_gwh_2015: 3.11\\\\nestimated_generation_gwh_2016: 2.98\\\\nestimated_generation_gwh_2017: 2.64\\\\nestimated_generation_note_2013: SOLAR-V1\\\\nestimated_generation_note_2014: SOLAR-V1\\\\nestimated_generation_note_2015: SOLAR-V1\\\\nestimated_generation_note_2016: SOLAR-V1\\\\nestimated_generation_note_2017: SOLAR-V1' metadata={'source': 'GlobalPowerPlantDB_USonly.csv', 'row': 4}\\n<End Document>\"\n",
      "  ]\n",
      "}\n"
     ]
    },
    {
     "name": "stdout",
     "output_type": "stream",
     "text": [
      "\u001b[36;1m\u001b[1;3m[llm/end]\u001b[0m \u001b[1m[1:chain:QAGenerateChain > 2:llm:ChatOpenAI] [14.32s] Exiting LLM run with output:\n",
      "\u001b[0m{\n",
      "  \"generations\": [\n",
      "    [\n",
      "      {\n",
      "        \"text\": \"QUESTION: What is the name of the solar power plant and who is the owner?\\nANSWER: The name of the solar power plant is 100 Brook Hill Drive Solar and the owner is Diamond Properties.\",\n",
      "        \"generation_info\": null,\n",
      "        \"message\": {\n",
      "          \"content\": \"QUESTION: What is the name of the solar power plant and who is the owner?\\nANSWER: The name of the solar power plant is 100 Brook Hill Drive Solar and the owner is Diamond Properties.\",\n",
      "          \"additional_kwargs\": {},\n",
      "          \"example\": false\n",
      "        }\n",
      "      }\n",
      "    ],\n",
      "    [\n",
      "      {\n",
      "        \"text\": \"QUESTION: What is the primary fuel of the power plant with gppd_idnr USA0062660?\\nANSWER: The primary fuel of the power plant with gppd_idnr USA0062660 is solar.\",\n",
      "        \"generation_info\": null,\n",
      "        \"message\": {\n",
      "          \"content\": \"QUESTION: What is the primary fuel of the power plant with gppd_idnr USA0062660?\\nANSWER: The primary fuel of the power plant with gppd_idnr USA0062660 is solar.\",\n",
      "          \"additional_kwargs\": {},\n",
      "          \"example\": false\n",
      "        }\n",
      "      }\n",
      "    ],\n",
      "    [\n",
      "      {\n",
      "        \"text\": \"QUESTION: What is the primary fuel source for the 1047 Little Mountain Solar LLC plant?\\nANSWER: The primary fuel source for the 1047 Little Mountain Solar LLC plant is Solar.\",\n",
      "        \"generation_info\": null,\n",
      "        \"message\": {\n",
      "          \"content\": \"QUESTION: What is the primary fuel source for the 1047 Little Mountain Solar LLC plant?\\nANSWER: The primary fuel source for the 1047 Little Mountain Solar LLC plant is Solar.\",\n",
      "          \"additional_kwargs\": {},\n",
      "          \"example\": false\n",
      "        }\n",
      "      }\n",
      "    ],\n",
      "    [\n",
      "      {\n",
      "        \"text\": \"QUESTION: What is the capacity in MW of the 12 Applegate Solar LLC plant?\\nANSWER: The capacity in MW of the 12 Applegate Solar LLC plant is 1.9.\",\n",
      "        \"generation_info\": null,\n",
      "        \"message\": {\n",
      "          \"content\": \"QUESTION: What is the capacity in MW of the 12 Applegate Solar LLC plant?\\nANSWER: The capacity in MW of the 12 Applegate Solar LLC plant is 1.9.\",\n",
      "          \"additional_kwargs\": {},\n",
      "          \"example\": false\n",
      "        }\n",
      "      }\n",
      "    ],\n",
      "    [\n",
      "      {\n",
      "        \"text\": \"QUESTION: What is the primary fuel source for 126 Grove Solar LLC?\\nANSWER: The primary fuel source for 126 Grove Solar LLC is Solar.\",\n",
      "        \"generation_info\": null,\n",
      "        \"message\": {\n",
      "          \"content\": \"QUESTION: What is the primary fuel source for 126 Grove Solar LLC?\\nANSWER: The primary fuel source for 126 Grove Solar LLC is Solar.\",\n",
      "          \"additional_kwargs\": {},\n",
      "          \"example\": false\n",
      "        }\n",
      "      }\n",
      "    ]\n",
      "  ],\n",
      "  \"llm_output\": {\n",
      "    \"token_usage\": {\n",
      "      \"prompt_tokens\": 2327,\n",
      "      \"completion_tokens\": 196,\n",
      "      \"total_tokens\": 2523\n",
      "    },\n",
      "    \"model_name\": \"gpt-3.5-turbo\"\n",
      "  },\n",
      "  \"run\": null\n",
      "}\n",
      "\u001b[36;1m\u001b[1;3m[chain/end]\u001b[0m \u001b[1m[1:chain:QAGenerateChain] [14.32s] Exiting Chain run with output:\n",
      "\u001b[0m{\n",
      "  \"outputs\": [\n",
      "    {\n",
      "      \"text\": \"QUESTION: What is the name of the solar power plant and who is the owner?\\nANSWER: The name of the solar power plant is 100 Brook Hill Drive Solar and the owner is Diamond Properties.\"\n",
      "    },\n",
      "    {\n",
      "      \"text\": \"QUESTION: What is the primary fuel of the power plant with gppd_idnr USA0062660?\\nANSWER: The primary fuel of the power plant with gppd_idnr USA0062660 is solar.\"\n",
      "    },\n",
      "    {\n",
      "      \"text\": \"QUESTION: What is the primary fuel source for the 1047 Little Mountain Solar LLC plant?\\nANSWER: The primary fuel source for the 1047 Little Mountain Solar LLC plant is Solar.\"\n",
      "    },\n",
      "    {\n",
      "      \"text\": \"QUESTION: What is the capacity in MW of the 12 Applegate Solar LLC plant?\\nANSWER: The capacity in MW of the 12 Applegate Solar LLC plant is 1.9.\"\n",
      "    },\n",
      "    {\n",
      "      \"text\": \"QUESTION: What is the primary fuel source for 126 Grove Solar LLC?\\nANSWER: The primary fuel source for 126 Grove Solar LLC is Solar.\"\n",
      "    }\n",
      "  ]\n",
      "}\n"
     ]
    }
   ],
   "source": [
    "new_examples = example_gen_chain.apply_and_parse(\n",
    "    [{\"doc\": t} for t in data[:5]]\n",
    ")"
   ]
  },
  {
   "cell_type": "code",
   "execution_count": 41,
   "id": "3416dfe6",
   "metadata": {},
   "outputs": [
    {
     "data": {
      "text/plain": [
       "{'query': 'What is the name of the solar power plant and who is the owner?',\n",
       " 'answer': 'The name of the solar power plant is 100 Brook Hill Drive Solar and the owner is Diamond Properties.'}"
      ]
     },
     "execution_count": 41,
     "metadata": {},
     "output_type": "execute_result"
    }
   ],
   "source": [
    "new_examples[0]"
   ]
  },
  {
   "cell_type": "code",
   "execution_count": 43,
   "id": "69b17e87",
   "metadata": {},
   "outputs": [],
   "source": [
    "examples += new_examples"
   ]
  },
  {
   "cell_type": "code",
   "execution_count": 44,
   "id": "3b51a07b",
   "metadata": {},
   "outputs": [
    {
     "name": "stdout",
     "output_type": "stream",
     "text": [
      "\u001b[32;1m\u001b[1;3m[chain/start]\u001b[0m \u001b[1m[1:chain:RetrievalQA] Entering Chain run with input:\n",
      "\u001b[0m{\n",
      "  \"query\": \"How many solar plants in the USA?\"\n",
      "}\n",
      "\u001b[32;1m\u001b[1;3m[chain/start]\u001b[0m \u001b[1m[1:chain:RetrievalQA > 2:chain:StuffDocumentsChain] Entering Chain run with input:\n",
      "\u001b[0m[inputs]\n",
      "\u001b[32;1m\u001b[1;3m[chain/start]\u001b[0m \u001b[1m[1:chain:RetrievalQA > 2:chain:StuffDocumentsChain > 3:chain:LLMChain] Entering Chain run with input:\n",
      "\u001b[0m{\n",
      "  \"question\": \"How many solar plants in the USA?\",\n",
      "  \"context\": \"country: USA\\ncountry_long: United States of America\\nname: Camp Solar Plant\\ngppd_idnr: USA0058893\\ncapacity_mw: 2.4\\nlatitude: 32.9647\\nlongitude: -84.5439\\nprimary_fuel: Solar\\nother_fuel1: \\nother_fuel2: \\nother_fuel3: \\ncommissioning_year: 2014\\nowner: Axium US Solar Holdings LLC\\nsource: U.S. Energy Information Administration\\nurl: http://www.eia.gov/electricity/data/browser/\\ngeolocation_source: U.S. Energy Information Administration\\nwepp_id: 67792\\nyear_of_capacity_data: 2019\\ngeneration_gwh_2013: 0.179\\ngeneration_gwh_2014: 4.693\\ngeneration_gwh_2015: 4.415\\ngeneration_gwh_2016: 4.881\\ngeneration_gwh_2017: 3.457\\ngeneration_gwh_2018: 4.105\\ngeneration_gwh_2019: 4.148\\ngeneration_data_source: U.S. Energy Information Administration\\nestimated_generation_gwh_2013: \\nestimated_generation_gwh_2014: 4.33\\nestimated_generation_gwh_2015: 4.78\\nestimated_generation_gwh_2016: 4.78\\nestimated_generation_gwh_2017: 4.71\\nestimated_generation_note_2013: NO-ESTIMATION\\nestimated_generation_note_2014: SOLAR-V1<<<<>>>>>country: USA\\ncountry_long: United States of America\\nname: CU Solar Plant\\ngppd_idnr: USA0058386\\ncapacity_mw: 1.8\\nlatitude: 39.7419\\nlongitude: -83.8169\\nprimary_fuel: Solar\\nother_fuel1: \\nother_fuel2: \\nother_fuel3: \\ncommissioning_year: 2013\\nowner: CU Solar LLC\\nsource: U.S. Energy Information Administration\\nurl: http://www.eia.gov/electricity/data/browser/\\ngeolocation_source: U.S. Energy Information Administration\\nwepp_id: \\nyear_of_capacity_data: 2019\\ngeneration_gwh_2013: 0.026\\ngeneration_gwh_2014: 2.709\\ngeneration_gwh_2015: 2.776\\ngeneration_gwh_2016: 2.783\\ngeneration_gwh_2017: 2.496\\ngeneration_gwh_2018: 2.202\\ngeneration_gwh_2019: 2.115\\ngeneration_data_source: U.S. Energy Information Administration\\nestimated_generation_gwh_2013: \\nestimated_generation_gwh_2014: 2.72\\nestimated_generation_gwh_2015: 2.72\\nestimated_generation_gwh_2016: 2.76\\nestimated_generation_gwh_2017: 2.73\\nestimated_generation_note_2013: NO-ESTIMATION\\nestimated_generation_note_2014: SOLAR-V1<<<<>>>>>country: USA\\ncountry_long: United States of America\\nname: Solar Photovoltaic Project #11\\ngppd_idnr: USA0057225\\ncapacity_mw: 3.5\\nlatitude: 34.0758\\nlongitude: -117.2414\\nprimary_fuel: Solar\\nother_fuel1: \\nother_fuel2: \\nother_fuel3: \\ncommissioning_year: 2015\\nowner: Southern California Edison Co\\nsource: U.S. Energy Information Administration\\nurl: http://www.eia.gov/electricity/data/browser/\\ngeolocation_source: U.S. Energy Information Administration\\nwepp_id: \\nyear_of_capacity_data: 2019\\ngeneration_gwh_2013: \\ngeneration_gwh_2014: \\ngeneration_gwh_2015: 6.461\\ngeneration_gwh_2016: 6.247\\ngeneration_gwh_2017: 6.203\\ngeneration_gwh_2018: 6.366\\ngeneration_gwh_2019: 4.63\\ngeneration_data_source: U.S. Energy Information Administration\\nestimated_generation_gwh_2013: \\nestimated_generation_gwh_2014: \\nestimated_generation_gwh_2015: \\nestimated_generation_gwh_2016: 5.36\\nestimated_generation_gwh_2017: 6.56\\nestimated_generation_note_2013: NO-ESTIMATION\\nestimated_generation_note_2014: NO-ESTIMATION<<<<>>>>>country: USA\\ncountry_long: United States of America\\nname: Tropico Solar PV Plant\\ngppd_idnr: USA0059599\\ncapacity_mw: 14\\nlatitude: 35.8319\\nlongitude: -119.0561\\nprimary_fuel: Solar\\nother_fuel1: \\nother_fuel2: \\nother_fuel3: \\ncommissioning_year: 2016\\nowner: Tropico  LLC\\nsource: U.S. Energy Information Administration\\nurl: http://www.eia.gov/electricity/data/browser/\\ngeolocation_source: U.S. Energy Information Administration\\nwepp_id: \\nyear_of_capacity_data: 2019\\ngeneration_gwh_2013: \\ngeneration_gwh_2014: \\ngeneration_gwh_2015: \\ngeneration_gwh_2016: 7.872\\ngeneration_gwh_2017: 35.428\\ngeneration_gwh_2018: 35.195\\ngeneration_gwh_2019: 34.269\\ngeneration_data_source: U.S. Energy Information Administration\\nestimated_generation_gwh_2013: \\nestimated_generation_gwh_2014: \\nestimated_generation_gwh_2015: \\nestimated_generation_gwh_2016: \\nestimated_generation_gwh_2017: 36.83\\nestimated_generation_note_2013: NO-ESTIMATION\\nestimated_generation_note_2014: NO-ESTIMATION\"\n",
      "}\n",
      "\u001b[32;1m\u001b[1;3m[llm/start]\u001b[0m \u001b[1m[1:chain:RetrievalQA > 2:chain:StuffDocumentsChain > 3:chain:LLMChain > 4:llm:ChatOpenAI] Entering LLM run with input:\n",
      "\u001b[0m{\n",
      "  \"prompts\": [\n",
      "    \"System: Use the following pieces of context to answer the users question. \\nIf you don't know the answer, just say that you don't know, don't try to make up an answer.\\n----------------\\ncountry: USA\\ncountry_long: United States of America\\nname: Camp Solar Plant\\ngppd_idnr: USA0058893\\ncapacity_mw: 2.4\\nlatitude: 32.9647\\nlongitude: -84.5439\\nprimary_fuel: Solar\\nother_fuel1: \\nother_fuel2: \\nother_fuel3: \\ncommissioning_year: 2014\\nowner: Axium US Solar Holdings LLC\\nsource: U.S. Energy Information Administration\\nurl: http://www.eia.gov/electricity/data/browser/\\ngeolocation_source: U.S. Energy Information Administration\\nwepp_id: 67792\\nyear_of_capacity_data: 2019\\ngeneration_gwh_2013: 0.179\\ngeneration_gwh_2014: 4.693\\ngeneration_gwh_2015: 4.415\\ngeneration_gwh_2016: 4.881\\ngeneration_gwh_2017: 3.457\\ngeneration_gwh_2018: 4.105\\ngeneration_gwh_2019: 4.148\\ngeneration_data_source: U.S. Energy Information Administration\\nestimated_generation_gwh_2013: \\nestimated_generation_gwh_2014: 4.33\\nestimated_generation_gwh_2015: 4.78\\nestimated_generation_gwh_2016: 4.78\\nestimated_generation_gwh_2017: 4.71\\nestimated_generation_note_2013: NO-ESTIMATION\\nestimated_generation_note_2014: SOLAR-V1<<<<>>>>>country: USA\\ncountry_long: United States of America\\nname: CU Solar Plant\\ngppd_idnr: USA0058386\\ncapacity_mw: 1.8\\nlatitude: 39.7419\\nlongitude: -83.8169\\nprimary_fuel: Solar\\nother_fuel1: \\nother_fuel2: \\nother_fuel3: \\ncommissioning_year: 2013\\nowner: CU Solar LLC\\nsource: U.S. Energy Information Administration\\nurl: http://www.eia.gov/electricity/data/browser/\\ngeolocation_source: U.S. Energy Information Administration\\nwepp_id: \\nyear_of_capacity_data: 2019\\ngeneration_gwh_2013: 0.026\\ngeneration_gwh_2014: 2.709\\ngeneration_gwh_2015: 2.776\\ngeneration_gwh_2016: 2.783\\ngeneration_gwh_2017: 2.496\\ngeneration_gwh_2018: 2.202\\ngeneration_gwh_2019: 2.115\\ngeneration_data_source: U.S. Energy Information Administration\\nestimated_generation_gwh_2013: \\nestimated_generation_gwh_2014: 2.72\\nestimated_generation_gwh_2015: 2.72\\nestimated_generation_gwh_2016: 2.76\\nestimated_generation_gwh_2017: 2.73\\nestimated_generation_note_2013: NO-ESTIMATION\\nestimated_generation_note_2014: SOLAR-V1<<<<>>>>>country: USA\\ncountry_long: United States of America\\nname: Solar Photovoltaic Project #11\\ngppd_idnr: USA0057225\\ncapacity_mw: 3.5\\nlatitude: 34.0758\\nlongitude: -117.2414\\nprimary_fuel: Solar\\nother_fuel1: \\nother_fuel2: \\nother_fuel3: \\ncommissioning_year: 2015\\nowner: Southern California Edison Co\\nsource: U.S. Energy Information Administration\\nurl: http://www.eia.gov/electricity/data/browser/\\ngeolocation_source: U.S. Energy Information Administration\\nwepp_id: \\nyear_of_capacity_data: 2019\\ngeneration_gwh_2013: \\ngeneration_gwh_2014: \\ngeneration_gwh_2015: 6.461\\ngeneration_gwh_2016: 6.247\\ngeneration_gwh_2017: 6.203\\ngeneration_gwh_2018: 6.366\\ngeneration_gwh_2019: 4.63\\ngeneration_data_source: U.S. Energy Information Administration\\nestimated_generation_gwh_2013: \\nestimated_generation_gwh_2014: \\nestimated_generation_gwh_2015: \\nestimated_generation_gwh_2016: 5.36\\nestimated_generation_gwh_2017: 6.56\\nestimated_generation_note_2013: NO-ESTIMATION\\nestimated_generation_note_2014: NO-ESTIMATION<<<<>>>>>country: USA\\ncountry_long: United States of America\\nname: Tropico Solar PV Plant\\ngppd_idnr: USA0059599\\ncapacity_mw: 14\\nlatitude: 35.8319\\nlongitude: -119.0561\\nprimary_fuel: Solar\\nother_fuel1: \\nother_fuel2: \\nother_fuel3: \\ncommissioning_year: 2016\\nowner: Tropico  LLC\\nsource: U.S. Energy Information Administration\\nurl: http://www.eia.gov/electricity/data/browser/\\ngeolocation_source: U.S. Energy Information Administration\\nwepp_id: \\nyear_of_capacity_data: 2019\\ngeneration_gwh_2013: \\ngeneration_gwh_2014: \\ngeneration_gwh_2015: \\ngeneration_gwh_2016: 7.872\\ngeneration_gwh_2017: 35.428\\ngeneration_gwh_2018: 35.195\\ngeneration_gwh_2019: 34.269\\ngeneration_data_source: U.S. Energy Information Administration\\nestimated_generation_gwh_2013: \\nestimated_generation_gwh_2014: \\nestimated_generation_gwh_2015: \\nestimated_generation_gwh_2016: \\nestimated_generation_gwh_2017: 36.83\\nestimated_generation_note_2013: NO-ESTIMATION\\nestimated_generation_note_2014: NO-ESTIMATION\\nHuman: How many solar plants in the USA?\"\n",
      "  ]\n",
      "}\n"
     ]
    },
    {
     "name": "stdout",
     "output_type": "stream",
     "text": [
      "\u001b[36;1m\u001b[1;3m[llm/end]\u001b[0m \u001b[1m[1:chain:RetrievalQA > 2:chain:StuffDocumentsChain > 3:chain:LLMChain > 4:llm:ChatOpenAI] [1.92s] Exiting LLM run with output:\n",
      "\u001b[0m{\n",
      "  \"generations\": [\n",
      "    [\n",
      "      {\n",
      "        \"text\": \"I'm sorry, I don't have that information. The context provided only includes information about four specific solar plants in the USA.\",\n",
      "        \"generation_info\": null,\n",
      "        \"message\": {\n",
      "          \"content\": \"I'm sorry, I don't have that information. The context provided only includes information about four specific solar plants in the USA.\",\n",
      "          \"additional_kwargs\": {},\n",
      "          \"example\": false\n",
      "        }\n",
      "      }\n",
      "    ]\n",
      "  ],\n",
      "  \"llm_output\": {\n",
      "    \"token_usage\": {\n",
      "      \"prompt_tokens\": 1320,\n",
      "      \"completion_tokens\": 26,\n",
      "      \"total_tokens\": 1346\n",
      "    },\n",
      "    \"model_name\": \"gpt-3.5-turbo\"\n",
      "  },\n",
      "  \"run\": null\n",
      "}\n",
      "\u001b[36;1m\u001b[1;3m[chain/end]\u001b[0m \u001b[1m[1:chain:RetrievalQA > 2:chain:StuffDocumentsChain > 3:chain:LLMChain] [1.92s] Exiting Chain run with output:\n",
      "\u001b[0m{\n",
      "  \"text\": \"I'm sorry, I don't have that information. The context provided only includes information about four specific solar plants in the USA.\"\n",
      "}\n",
      "\u001b[36;1m\u001b[1;3m[chain/end]\u001b[0m \u001b[1m[1:chain:RetrievalQA > 2:chain:StuffDocumentsChain] [1.92s] Exiting Chain run with output:\n",
      "\u001b[0m{\n",
      "  \"output_text\": \"I'm sorry, I don't have that information. The context provided only includes information about four specific solar plants in the USA.\"\n",
      "}\n",
      "\u001b[36;1m\u001b[1;3m[chain/end]\u001b[0m \u001b[1m[1:chain:RetrievalQA] [2.15s] Exiting Chain run with output:\n",
      "\u001b[0m{\n",
      "  \"result\": \"I'm sorry, I don't have that information. The context provided only includes information about four specific solar plants in the USA.\"\n",
      "}\n"
     ]
    },
    {
     "data": {
      "text/plain": [
       "\"I'm sorry, I don't have that information. The context provided only includes information about four specific solar plants in the USA.\""
      ]
     },
     "execution_count": 44,
     "metadata": {},
     "output_type": "execute_result"
    }
   ],
   "source": [
    "qa.run(examples[0][\"query\"])"
   ]
  },
  {
   "cell_type": "markdown",
   "id": "289ecafa",
   "metadata": {},
   "source": [
    "# Manual Evaluation"
   ]
  },
  {
   "cell_type": "code",
   "execution_count": 45,
   "id": "40993c30",
   "metadata": {},
   "outputs": [],
   "source": [
    "import langchain\n",
    "langchain.debug = True"
   ]
  },
  {
   "cell_type": "code",
   "execution_count": 46,
   "id": "638d5879",
   "metadata": {},
   "outputs": [
    {
     "name": "stdout",
     "output_type": "stream",
     "text": [
      "\u001b[32;1m\u001b[1;3m[chain/start]\u001b[0m \u001b[1m[1:chain:RetrievalQA] Entering Chain run with input:\n",
      "\u001b[0m{\n",
      "  \"query\": \"How many solar plants in the USA?\"\n",
      "}\n",
      "\u001b[32;1m\u001b[1;3m[chain/start]\u001b[0m \u001b[1m[1:chain:RetrievalQA > 2:chain:StuffDocumentsChain] Entering Chain run with input:\n",
      "\u001b[0m[inputs]\n",
      "\u001b[32;1m\u001b[1;3m[chain/start]\u001b[0m \u001b[1m[1:chain:RetrievalQA > 2:chain:StuffDocumentsChain > 3:chain:LLMChain] Entering Chain run with input:\n",
      "\u001b[0m{\n",
      "  \"question\": \"How many solar plants in the USA?\",\n",
      "  \"context\": \"country: USA\\ncountry_long: United States of America\\nname: Camp Solar Plant\\ngppd_idnr: USA0058893\\ncapacity_mw: 2.4\\nlatitude: 32.9647\\nlongitude: -84.5439\\nprimary_fuel: Solar\\nother_fuel1: \\nother_fuel2: \\nother_fuel3: \\ncommissioning_year: 2014\\nowner: Axium US Solar Holdings LLC\\nsource: U.S. Energy Information Administration\\nurl: http://www.eia.gov/electricity/data/browser/\\ngeolocation_source: U.S. Energy Information Administration\\nwepp_id: 67792\\nyear_of_capacity_data: 2019\\ngeneration_gwh_2013: 0.179\\ngeneration_gwh_2014: 4.693\\ngeneration_gwh_2015: 4.415\\ngeneration_gwh_2016: 4.881\\ngeneration_gwh_2017: 3.457\\ngeneration_gwh_2018: 4.105\\ngeneration_gwh_2019: 4.148\\ngeneration_data_source: U.S. Energy Information Administration\\nestimated_generation_gwh_2013: \\nestimated_generation_gwh_2014: 4.33\\nestimated_generation_gwh_2015: 4.78\\nestimated_generation_gwh_2016: 4.78\\nestimated_generation_gwh_2017: 4.71\\nestimated_generation_note_2013: NO-ESTIMATION\\nestimated_generation_note_2014: SOLAR-V1<<<<>>>>>country: USA\\ncountry_long: United States of America\\nname: CU Solar Plant\\ngppd_idnr: USA0058386\\ncapacity_mw: 1.8\\nlatitude: 39.7419\\nlongitude: -83.8169\\nprimary_fuel: Solar\\nother_fuel1: \\nother_fuel2: \\nother_fuel3: \\ncommissioning_year: 2013\\nowner: CU Solar LLC\\nsource: U.S. Energy Information Administration\\nurl: http://www.eia.gov/electricity/data/browser/\\ngeolocation_source: U.S. Energy Information Administration\\nwepp_id: \\nyear_of_capacity_data: 2019\\ngeneration_gwh_2013: 0.026\\ngeneration_gwh_2014: 2.709\\ngeneration_gwh_2015: 2.776\\ngeneration_gwh_2016: 2.783\\ngeneration_gwh_2017: 2.496\\ngeneration_gwh_2018: 2.202\\ngeneration_gwh_2019: 2.115\\ngeneration_data_source: U.S. Energy Information Administration\\nestimated_generation_gwh_2013: \\nestimated_generation_gwh_2014: 2.72\\nestimated_generation_gwh_2015: 2.72\\nestimated_generation_gwh_2016: 2.76\\nestimated_generation_gwh_2017: 2.73\\nestimated_generation_note_2013: NO-ESTIMATION\\nestimated_generation_note_2014: SOLAR-V1<<<<>>>>>country: USA\\ncountry_long: United States of America\\nname: Solar Photovoltaic Project #11\\ngppd_idnr: USA0057225\\ncapacity_mw: 3.5\\nlatitude: 34.0758\\nlongitude: -117.2414\\nprimary_fuel: Solar\\nother_fuel1: \\nother_fuel2: \\nother_fuel3: \\ncommissioning_year: 2015\\nowner: Southern California Edison Co\\nsource: U.S. Energy Information Administration\\nurl: http://www.eia.gov/electricity/data/browser/\\ngeolocation_source: U.S. Energy Information Administration\\nwepp_id: \\nyear_of_capacity_data: 2019\\ngeneration_gwh_2013: \\ngeneration_gwh_2014: \\ngeneration_gwh_2015: 6.461\\ngeneration_gwh_2016: 6.247\\ngeneration_gwh_2017: 6.203\\ngeneration_gwh_2018: 6.366\\ngeneration_gwh_2019: 4.63\\ngeneration_data_source: U.S. Energy Information Administration\\nestimated_generation_gwh_2013: \\nestimated_generation_gwh_2014: \\nestimated_generation_gwh_2015: \\nestimated_generation_gwh_2016: 5.36\\nestimated_generation_gwh_2017: 6.56\\nestimated_generation_note_2013: NO-ESTIMATION\\nestimated_generation_note_2014: NO-ESTIMATION<<<<>>>>>country: USA\\ncountry_long: United States of America\\nname: Tropico Solar PV Plant\\ngppd_idnr: USA0059599\\ncapacity_mw: 14\\nlatitude: 35.8319\\nlongitude: -119.0561\\nprimary_fuel: Solar\\nother_fuel1: \\nother_fuel2: \\nother_fuel3: \\ncommissioning_year: 2016\\nowner: Tropico  LLC\\nsource: U.S. Energy Information Administration\\nurl: http://www.eia.gov/electricity/data/browser/\\ngeolocation_source: U.S. Energy Information Administration\\nwepp_id: \\nyear_of_capacity_data: 2019\\ngeneration_gwh_2013: \\ngeneration_gwh_2014: \\ngeneration_gwh_2015: \\ngeneration_gwh_2016: 7.872\\ngeneration_gwh_2017: 35.428\\ngeneration_gwh_2018: 35.195\\ngeneration_gwh_2019: 34.269\\ngeneration_data_source: U.S. Energy Information Administration\\nestimated_generation_gwh_2013: \\nestimated_generation_gwh_2014: \\nestimated_generation_gwh_2015: \\nestimated_generation_gwh_2016: \\nestimated_generation_gwh_2017: 36.83\\nestimated_generation_note_2013: NO-ESTIMATION\\nestimated_generation_note_2014: NO-ESTIMATION\"\n",
      "}\n",
      "\u001b[32;1m\u001b[1;3m[llm/start]\u001b[0m \u001b[1m[1:chain:RetrievalQA > 2:chain:StuffDocumentsChain > 3:chain:LLMChain > 4:llm:ChatOpenAI] Entering LLM run with input:\n",
      "\u001b[0m{\n",
      "  \"prompts\": [\n",
      "    \"System: Use the following pieces of context to answer the users question. \\nIf you don't know the answer, just say that you don't know, don't try to make up an answer.\\n----------------\\ncountry: USA\\ncountry_long: United States of America\\nname: Camp Solar Plant\\ngppd_idnr: USA0058893\\ncapacity_mw: 2.4\\nlatitude: 32.9647\\nlongitude: -84.5439\\nprimary_fuel: Solar\\nother_fuel1: \\nother_fuel2: \\nother_fuel3: \\ncommissioning_year: 2014\\nowner: Axium US Solar Holdings LLC\\nsource: U.S. Energy Information Administration\\nurl: http://www.eia.gov/electricity/data/browser/\\ngeolocation_source: U.S. Energy Information Administration\\nwepp_id: 67792\\nyear_of_capacity_data: 2019\\ngeneration_gwh_2013: 0.179\\ngeneration_gwh_2014: 4.693\\ngeneration_gwh_2015: 4.415\\ngeneration_gwh_2016: 4.881\\ngeneration_gwh_2017: 3.457\\ngeneration_gwh_2018: 4.105\\ngeneration_gwh_2019: 4.148\\ngeneration_data_source: U.S. Energy Information Administration\\nestimated_generation_gwh_2013: \\nestimated_generation_gwh_2014: 4.33\\nestimated_generation_gwh_2015: 4.78\\nestimated_generation_gwh_2016: 4.78\\nestimated_generation_gwh_2017: 4.71\\nestimated_generation_note_2013: NO-ESTIMATION\\nestimated_generation_note_2014: SOLAR-V1<<<<>>>>>country: USA\\ncountry_long: United States of America\\nname: CU Solar Plant\\ngppd_idnr: USA0058386\\ncapacity_mw: 1.8\\nlatitude: 39.7419\\nlongitude: -83.8169\\nprimary_fuel: Solar\\nother_fuel1: \\nother_fuel2: \\nother_fuel3: \\ncommissioning_year: 2013\\nowner: CU Solar LLC\\nsource: U.S. Energy Information Administration\\nurl: http://www.eia.gov/electricity/data/browser/\\ngeolocation_source: U.S. Energy Information Administration\\nwepp_id: \\nyear_of_capacity_data: 2019\\ngeneration_gwh_2013: 0.026\\ngeneration_gwh_2014: 2.709\\ngeneration_gwh_2015: 2.776\\ngeneration_gwh_2016: 2.783\\ngeneration_gwh_2017: 2.496\\ngeneration_gwh_2018: 2.202\\ngeneration_gwh_2019: 2.115\\ngeneration_data_source: U.S. Energy Information Administration\\nestimated_generation_gwh_2013: \\nestimated_generation_gwh_2014: 2.72\\nestimated_generation_gwh_2015: 2.72\\nestimated_generation_gwh_2016: 2.76\\nestimated_generation_gwh_2017: 2.73\\nestimated_generation_note_2013: NO-ESTIMATION\\nestimated_generation_note_2014: SOLAR-V1<<<<>>>>>country: USA\\ncountry_long: United States of America\\nname: Solar Photovoltaic Project #11\\ngppd_idnr: USA0057225\\ncapacity_mw: 3.5\\nlatitude: 34.0758\\nlongitude: -117.2414\\nprimary_fuel: Solar\\nother_fuel1: \\nother_fuel2: \\nother_fuel3: \\ncommissioning_year: 2015\\nowner: Southern California Edison Co\\nsource: U.S. Energy Information Administration\\nurl: http://www.eia.gov/electricity/data/browser/\\ngeolocation_source: U.S. Energy Information Administration\\nwepp_id: \\nyear_of_capacity_data: 2019\\ngeneration_gwh_2013: \\ngeneration_gwh_2014: \\ngeneration_gwh_2015: 6.461\\ngeneration_gwh_2016: 6.247\\ngeneration_gwh_2017: 6.203\\ngeneration_gwh_2018: 6.366\\ngeneration_gwh_2019: 4.63\\ngeneration_data_source: U.S. Energy Information Administration\\nestimated_generation_gwh_2013: \\nestimated_generation_gwh_2014: \\nestimated_generation_gwh_2015: \\nestimated_generation_gwh_2016: 5.36\\nestimated_generation_gwh_2017: 6.56\\nestimated_generation_note_2013: NO-ESTIMATION\\nestimated_generation_note_2014: NO-ESTIMATION<<<<>>>>>country: USA\\ncountry_long: United States of America\\nname: Tropico Solar PV Plant\\ngppd_idnr: USA0059599\\ncapacity_mw: 14\\nlatitude: 35.8319\\nlongitude: -119.0561\\nprimary_fuel: Solar\\nother_fuel1: \\nother_fuel2: \\nother_fuel3: \\ncommissioning_year: 2016\\nowner: Tropico  LLC\\nsource: U.S. Energy Information Administration\\nurl: http://www.eia.gov/electricity/data/browser/\\ngeolocation_source: U.S. Energy Information Administration\\nwepp_id: \\nyear_of_capacity_data: 2019\\ngeneration_gwh_2013: \\ngeneration_gwh_2014: \\ngeneration_gwh_2015: \\ngeneration_gwh_2016: 7.872\\ngeneration_gwh_2017: 35.428\\ngeneration_gwh_2018: 35.195\\ngeneration_gwh_2019: 34.269\\ngeneration_data_source: U.S. Energy Information Administration\\nestimated_generation_gwh_2013: \\nestimated_generation_gwh_2014: \\nestimated_generation_gwh_2015: \\nestimated_generation_gwh_2016: \\nestimated_generation_gwh_2017: 36.83\\nestimated_generation_note_2013: NO-ESTIMATION\\nestimated_generation_note_2014: NO-ESTIMATION\\nHuman: How many solar plants in the USA?\"\n",
      "  ]\n",
      "}\n"
     ]
    },
    {
     "name": "stdout",
     "output_type": "stream",
     "text": [
      "\u001b[36;1m\u001b[1;3m[llm/end]\u001b[0m \u001b[1m[1:chain:RetrievalQA > 2:chain:StuffDocumentsChain > 3:chain:LLMChain > 4:llm:ChatOpenAI] [1.63s] Exiting LLM run with output:\n",
      "\u001b[0m{\n",
      "  \"generations\": [\n",
      "    [\n",
      "      {\n",
      "        \"text\": \"I'm sorry, I don't have that information. The context provided only includes information about four specific solar plants in the USA.\",\n",
      "        \"generation_info\": null,\n",
      "        \"message\": {\n",
      "          \"content\": \"I'm sorry, I don't have that information. The context provided only includes information about four specific solar plants in the USA.\",\n",
      "          \"additional_kwargs\": {},\n",
      "          \"example\": false\n",
      "        }\n",
      "      }\n",
      "    ]\n",
      "  ],\n",
      "  \"llm_output\": {\n",
      "    \"token_usage\": {\n",
      "      \"prompt_tokens\": 1320,\n",
      "      \"completion_tokens\": 26,\n",
      "      \"total_tokens\": 1346\n",
      "    },\n",
      "    \"model_name\": \"gpt-3.5-turbo\"\n",
      "  },\n",
      "  \"run\": null\n",
      "}\n",
      "\u001b[36;1m\u001b[1;3m[chain/end]\u001b[0m \u001b[1m[1:chain:RetrievalQA > 2:chain:StuffDocumentsChain > 3:chain:LLMChain] [1.63s] Exiting Chain run with output:\n",
      "\u001b[0m{\n",
      "  \"text\": \"I'm sorry, I don't have that information. The context provided only includes information about four specific solar plants in the USA.\"\n",
      "}\n",
      "\u001b[36;1m\u001b[1;3m[chain/end]\u001b[0m \u001b[1m[1:chain:RetrievalQA > 2:chain:StuffDocumentsChain] [1.63s] Exiting Chain run with output:\n",
      "\u001b[0m{\n",
      "  \"output_text\": \"I'm sorry, I don't have that information. The context provided only includes information about four specific solar plants in the USA.\"\n",
      "}\n",
      "\u001b[36;1m\u001b[1;3m[chain/end]\u001b[0m \u001b[1m[1:chain:RetrievalQA] [1.86s] Exiting Chain run with output:\n",
      "\u001b[0m{\n",
      "  \"result\": \"I'm sorry, I don't have that information. The context provided only includes information about four specific solar plants in the USA.\"\n",
      "}\n"
     ]
    },
    {
     "data": {
      "text/plain": [
       "\"I'm sorry, I don't have that information. The context provided only includes information about four specific solar plants in the USA.\""
      ]
     },
     "execution_count": 46,
     "metadata": {},
     "output_type": "execute_result"
    }
   ],
   "source": [
    "qa.run(examples[0][\"query\"])"
   ]
  },
  {
   "cell_type": "code",
   "execution_count": 47,
   "id": "f86eb6c8",
   "metadata": {},
   "outputs": [],
   "source": [
    "langchain.debug = False"
   ]
  },
  {
   "cell_type": "code",
   "execution_count": 48,
   "id": "24c92c18",
   "metadata": {},
   "outputs": [
    {
     "name": "stdout",
     "output_type": "stream",
     "text": [
      "\n",
      "\n",
      "\u001b[1m> Entering new RetrievalQA chain...\u001b[0m\n",
      "\n",
      "\u001b[1m> Finished chain.\u001b[0m\n",
      "\n",
      "\n",
      "\u001b[1m> Entering new RetrievalQA chain...\u001b[0m\n",
      "\n",
      "\u001b[1m> Finished chain.\u001b[0m\n",
      "\n",
      "\n",
      "\u001b[1m> Entering new RetrievalQA chain...\u001b[0m\n",
      "\n",
      "\u001b[1m> Finished chain.\u001b[0m\n",
      "\n",
      "\n",
      "\u001b[1m> Entering new RetrievalQA chain...\u001b[0m\n",
      "\n",
      "\u001b[1m> Finished chain.\u001b[0m\n",
      "\n",
      "\n",
      "\u001b[1m> Entering new RetrievalQA chain...\u001b[0m\n",
      "\n",
      "\u001b[1m> Finished chain.\u001b[0m\n",
      "\n",
      "\n",
      "\u001b[1m> Entering new RetrievalQA chain...\u001b[0m\n",
      "\n",
      "\u001b[1m> Finished chain.\u001b[0m\n",
      "\n",
      "\n",
      "\u001b[1m> Entering new RetrievalQA chain...\u001b[0m\n",
      "\n",
      "\u001b[1m> Finished chain.\u001b[0m\n",
      "\n",
      "\n",
      "\u001b[1m> Entering new RetrievalQA chain...\u001b[0m\n",
      "\n",
      "\u001b[1m> Finished chain.\u001b[0m\n",
      "\n",
      "\n",
      "\u001b[1m> Entering new RetrievalQA chain...\u001b[0m\n",
      "\n",
      "\u001b[1m> Finished chain.\u001b[0m\n",
      "\n",
      "\n",
      "\u001b[1m> Entering new RetrievalQA chain...\u001b[0m\n",
      "\n",
      "\u001b[1m> Finished chain.\u001b[0m\n",
      "\n",
      "\n",
      "\u001b[1m> Entering new RetrievalQA chain...\u001b[0m\n",
      "\n",
      "\u001b[1m> Finished chain.\u001b[0m\n",
      "\n",
      "\n",
      "\u001b[1m> Entering new RetrievalQA chain...\u001b[0m\n",
      "\n",
      "\u001b[1m> Finished chain.\u001b[0m\n"
     ]
    }
   ],
   "source": [
    "predictions = qa.apply(examples)"
   ]
  },
  {
   "cell_type": "code",
   "execution_count": 49,
   "id": "e67f1ee8",
   "metadata": {},
   "outputs": [],
   "source": [
    "\n",
    "from langchain.evaluation.qa import QAEvalChain"
   ]
  },
  {
   "cell_type": "code",
   "execution_count": 50,
   "id": "5176ada8",
   "metadata": {},
   "outputs": [],
   "source": [
    "# Creat above chain with language model\n",
    "llm = ChatOpenAI(temperature=0)\n",
    "eval_chain = QAEvalChain.from_llm(llm)"
   ]
  },
  {
   "cell_type": "code",
   "execution_count": 51,
   "id": "062691fd",
   "metadata": {},
   "outputs": [],
   "source": [
    "graded_outputs = eval_chain.evaluate(examples, predictions)"
   ]
  },
  {
   "cell_type": "code",
   "execution_count": 52,
   "id": "74e0bee0",
   "metadata": {},
   "outputs": [
    {
     "name": "stdout",
     "output_type": "stream",
     "text": [
      "Example 0:\n",
      "Question: How many solar plants in the USA?\n",
      "Real Answer: 3283\n",
      "Predicted Answer: I'm sorry, I don't have that information. The context provided only includes information about four specific solar plants in the USA.\n",
      "Predicted Grade: INCORRECT\n",
      "\n",
      "Example 1:\n",
      "Question: What states are they located in?\n",
      "Real Answer: California, Texas, Nevada\n",
      "Predicted Answer: I'm sorry, I don't have enough information to answer your question. Could you please specify which power plant you are referring to?\n",
      "Predicted Grade: CORRECT\n",
      "\n",
      "Example 2:\n",
      "Question: What is the name of the solar power plant and who is the owner?\n",
      "Real Answer: The name of the solar power plant is 100 Brook Hill Drive Solar and the owner is Diamond Properties.\n",
      "Predicted Answer: For the Royal Wine Corp Solar Power Plant, the name of the plant is Royal Wine Corp Solar Power Plant and the owner is Royal Wine Corp.\n",
      "\n",
      "For the Sun City Project LLC, the name of the plant is Sun City Project LLC and the owner is Avenal Solar Holdings LLC.\n",
      "\n",
      "For the Camp Solar Plant, the name of the plant is Camp Solar Plant and the owner is Axium US Solar Holdings LLC.\n",
      "\n",
      "For the Trenton Solar Power Plant, the name of the plant is Trenton Solar Power Plant and the owner is Duke Energy Florida LLC.\n",
      "Predicted Grade: INCORRECT\n",
      "\n",
      "Example 3:\n",
      "Question: What is the primary fuel of the power plant with gppd_idnr USA0062660?\n",
      "Real Answer: The primary fuel of the power plant with gppd_idnr USA0062660 is solar.\n",
      "Predicted Answer: I'm sorry, I don't have any information about a power plant with the gppd_idnr USA0062660.\n",
      "Predicted Grade: INCORRECT\n",
      "\n",
      "Example 4:\n",
      "Question: What is the primary fuel source for the 1047 Little Mountain Solar LLC plant?\n",
      "Real Answer: The primary fuel source for the 1047 Little Mountain Solar LLC plant is Solar.\n",
      "Predicted Answer: The primary fuel source for the 1047 Little Mountain Solar LLC plant is solar.\n",
      "Predicted Grade: CORRECT\n",
      "\n",
      "Example 5:\n",
      "Question: What is the capacity in MW of the 12 Applegate Solar LLC plant?\n",
      "Real Answer: The capacity in MW of the 12 Applegate Solar LLC plant is 1.9.\n",
      "Predicted Answer: The capacity of the 12 Applegate Solar LLC plant is 1.9 MW.\n",
      "Predicted Grade: CORRECT\n",
      "\n",
      "Example 6:\n",
      "Question: What is the primary fuel source for 126 Grove Solar LLC?\n",
      "Real Answer: The primary fuel source for 126 Grove Solar LLC is Solar.\n",
      "Predicted Answer: The primary fuel source for 126 Grove Solar LLC is solar.\n",
      "Predicted Grade: CORRECT\n",
      "\n",
      "Example 7:\n",
      "Question: What is the name of the solar power plant and who is the owner?\n",
      "Real Answer: The name of the solar power plant is 100 Brook Hill Drive Solar and the owner is Diamond Properties.\n",
      "Predicted Answer: For the Royal Wine Corp Solar Power Plant, the name of the plant is Royal Wine Corp Solar Power Plant and the owner is Royal Wine Corp.\n",
      "\n",
      "For the Sun City Project LLC, the name of the plant is Sun City Project LLC and the owner is Avenal Solar Holdings LLC.\n",
      "\n",
      "For the Camp Solar Plant, the name of the plant is Camp Solar Plant and the owner is Axium US Solar Holdings LLC.\n",
      "\n",
      "For the Trenton Solar Power Plant, the name of the plant is Trenton Solar Power Plant and the owner is Duke Energy Florida LLC.\n",
      "Predicted Grade: INCORRECT\n",
      "\n",
      "Example 8:\n",
      "Question: What is the primary fuel of the power plant with gppd_idnr USA0062660?\n",
      "Real Answer: The primary fuel of the power plant with gppd_idnr USA0062660 is solar.\n",
      "Predicted Answer: I'm sorry, I don't have any information about a power plant with the gppd_idnr USA0062660.\n",
      "Predicted Grade: INCORRECT\n",
      "\n",
      "Example 9:\n",
      "Question: What is the primary fuel source for the 1047 Little Mountain Solar LLC plant?\n",
      "Real Answer: The primary fuel source for the 1047 Little Mountain Solar LLC plant is Solar.\n",
      "Predicted Answer: The primary fuel source for the 1047 Little Mountain Solar LLC plant is solar.\n",
      "Predicted Grade: CORRECT\n",
      "\n",
      "Example 10:\n",
      "Question: What is the capacity in MW of the 12 Applegate Solar LLC plant?\n",
      "Real Answer: The capacity in MW of the 12 Applegate Solar LLC plant is 1.9.\n",
      "Predicted Answer: The capacity of the 12 Applegate Solar LLC plant is 1.9 MW.\n",
      "Predicted Grade: CORRECT\n",
      "\n",
      "Example 11:\n",
      "Question: What is the primary fuel source for 126 Grove Solar LLC?\n",
      "Real Answer: The primary fuel source for 126 Grove Solar LLC is Solar.\n",
      "Predicted Answer: The primary fuel source for 126 Grove Solar LLC is solar.\n",
      "Predicted Grade: CORRECT\n",
      "\n"
     ]
    }
   ],
   "source": [
    "# All below are output by the language mdoel\n",
    "for i, eg in enumerate(examples):\n",
    "    print(f\"Example {i}:\")\n",
    "    print(\"Question: \" + predictions[i]['query'])\n",
    "    print(\"Real Answer: \" + predictions[i]['answer'])\n",
    "    print(\"Predicted Answer: \" + predictions[i]['result'])\n",
    "    print(\"Predicted Grade: \" + graded_outputs[i]['text'])\n",
    "    print()"
   ]
  },
  {
   "cell_type": "code",
   "execution_count": null,
   "id": "175e4298",
   "metadata": {},
   "outputs": [],
   "source": [
    "# What to do if predicted answers incorrect?\n",
    "# Try to access the UI that tracks what is going on \n",
    "#  under the hood (from langchain plus)\n",
    "# --generate flywheel of datapoints to learn from\n"
   ]
  }
 ],
 "metadata": {
  "kernelspec": {
   "display_name": "Python 3 (ipykernel)",
   "language": "python",
   "name": "python3"
  },
  "language_info": {
   "codemirror_mode": {
    "name": "ipython",
    "version": 3
   },
   "file_extension": ".py",
   "mimetype": "text/x-python",
   "name": "python",
   "nbconvert_exporter": "python",
   "pygments_lexer": "ipython3",
   "version": "3.10.8"
  }
 },
 "nbformat": 4,
 "nbformat_minor": 5
}
