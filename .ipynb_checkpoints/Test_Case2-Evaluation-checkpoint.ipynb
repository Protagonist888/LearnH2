{
 "cells": [
  {
   "cell_type": "markdown",
   "id": "20cc6a13",
   "metadata": {},
   "source": [
    "# LangChain: Evaluation¶\n",
    "### Outline:\n",
    "* Example generation\n",
    "* Manual evaluation (and debuging)\n",
    "* LLM-assisted evaluation"
   ]
  },
  {
   "cell_type": "code",
   "execution_count": 1,
   "id": "12b2ded1",
   "metadata": {},
   "outputs": [
    {
     "name": "stdout",
     "output_type": "stream",
     "text": [
      "OpenAI API Key:········\n"
     ]
    }
   ],
   "source": [
    "import os\n",
    "import getpass\n",
    "import openai\n",
    "import time\n",
    "import markdown\n",
    "from IPython.display import display, Markdown\n",
    "\n",
    "from dotenv import load_dotenv, find_dotenv\n",
    "_ = load_dotenv(find_dotenv()) # read local .env file\n",
    "\n",
    "os.environ['OPENAI_API_KEY'] = getpass.getpass('OpenAI API Key:')"
   ]
  },
  {
   "cell_type": "markdown",
   "id": "1358f8c3",
   "metadata": {},
   "source": [
    "# Create our QandA application"
   ]
  },
  {
   "cell_type": "code",
   "execution_count": 2,
   "id": "3a4beefd",
   "metadata": {},
   "outputs": [],
   "source": [
    "from langchain.chains import RetrievalQA\n",
    "from langchain.chat_models import ChatOpenAI\n",
    "from langchain.document_loaders import PyPDFLoader\n",
    "from langchain.indexes import VectorstoreIndexCreator\n",
    "from langchain.vectorstores import DocArrayInMemorySearch\n",
    "\n",
    "#PDF directory loader\n",
    "from langchain.document_loaders import PyPDFDirectoryLoader"
   ]
  },
  {
   "cell_type": "code",
   "execution_count": 3,
   "id": "769cc14a",
   "metadata": {},
   "outputs": [],
   "source": [
    "# file = 'GlobalPowerPlantDB_USonly.csv'\n",
    "pdf_folder_path = \"/Users/markc/Hydrogen/\"\n",
    "loader = PyPDFDirectoryLoader(pdf_folder_path)\n",
    "data = loader.load()"
   ]
  },
  {
   "cell_type": "code",
   "execution_count": 4,
   "id": "73c0ee9b",
   "metadata": {},
   "outputs": [
    {
     "data": {
      "text/plain": [
       "Document(page_content='v  LIST OF EXHIBITS  \\nExhibit  ES-1. Case configuration summary  ................................ ................................ ...............  2 \\nExhibit  ES-2. Performance summary and environmental profile for all cases  ......................  6 \\nExhibit  ES-3. Net plant efficiency (HHV basis)  ................................ ................................ ..........  7 \\nExhibit ES -4. CO 2e life cycle emissions for all cases  ................................ ................................ . 9 \\nExhibit  ES-5. Cost summary for all cases  ................................ ................................ .................  11 \\nExhibit  ES-6. LCOH by cost component  ................................ ................................ .................  12 \\nExhibit 1 -1. Global merchant hydrogen fleet production route profile (by supplier)  ....... 16 \\nExhibit 1-2. Global merchant hydrogen fleet capacity profile (by supplier)  .....................  17 \\nExhibit 1 -3. Chinese hydrogen from coal (for ammonia) technology profile  ....................  17 \\nExhibit 1 -4. Hydrogen production with CCUS (operating and planned)  ...........................  18 \\nExhibit  1-5. Case descriptions  ................................ ................................ ................................ .. 20 \\nExhibit  2-1. Site characteristics  ................................ ................................ ................................ . 21 \\nExhibit  2-2. Site ambient conditions  ................................ ................................ ........................  22 \\nExhibit  2-3. Design makeup water quality  ................................ ................................ ..............  23 \\nExhibit  2-4. Design coal  ................................ ................................ ................................ ............  24 \\nExhibit 2-5. Probability distribution of mercury concentration in the Illinois No. 6 coal  ..... 25 \\nExhibit  2-6. Natural gas composition  ................................ ................................ ......................  26 \\nExhibit  2-7. Design biomass  ................................ ................................ ................................ ...... 27 \\nExhibit  2-8. Wood chip supply chain ................................ ................................ .......................  27 \\nExhibit  2-9. Woody biomass torrefaction system economic summ ary ...............................  28 \\nExhibit  2-10. Hydrogen product specification  ................................ ................................ ....... 29 \\nExhibit  2-11. BACT environmental design basis for reforming cases  ................................ ... 30 \\nExhibit  2-12. BACT environmental design basis for gasification cases  ................................  31 \\nExhibit  2-13. New source treated gasification wastewater discharge limits [39]  ...............  32 \\nExhibit 2 -14. Fossil -based hydrogen projects with CO 2 capture  ................................ ..........  32 \\nExhibit 2 -15. Fossil GWP values for select GHGs  ................................ ................................ ..... 34 \\nExhibit 2 -16. Case 1 system boundary, steam methane reforming plant without \\nCO 2 capture  ................................ ................................ ................................ ..................  34 \\nExhibit 2 -17. Case 2 system boundary, steam methane reforming plant with CO 2 \\ncapture  ................................ ................................ ................................ ..........................  35 \\nExhibit 2 -18. Case 3 system boundary, autothermal reforming plant with CO 2 capture  . 35 \\nExhibit 2 -19. Case 4 system boundary, coal gasificatio n plant without CO 2 capture  ...... 36 \\nExhibit 2 -20. Case 5 system boundary, coal gasification plant with CO 2 capture  ............  36 \\nExhibit 2 -21. Case 6 system boundary, coal/biomass co -gasification plant with \\nCO 2 capture  ................................ ................................ ................................ ..................  37 \\nExhibit  2-22. Capital cost uncertainty ranges  ................................ ................................ ........  40 \\nExhibit  2-23. Capital cost levels and their elements  ................................ ..............................  42 \\nExhibit  2-24. CO 2 transport and storage costs  ................................ ................................ ....... 47 \\nExhibit 2 -25. Nominal and real rates financial structure for hydrogen production  ...........  48 \\nExhibit 3 -1. Reforming plant study configuration matrix  ................................ .......................  51 \\nExhibit 3 -2. Balance of plant assumptions  ................................ ................................ ..............  52 \\nExhibit 3 -3. Case 1 block flow diagram, steam methane reforming plant without \\nCO 2 capture  ................................ ................................ ................................ ..................  59 \\nExhibit  3-4. Case 1 stream table, steam methane reforming plant without capture  ....... 60 \\nExhibit 3 -5. Cas e 1 plant performance summary  ................................ ................................ .. 63 ', metadata={'source': '\\\\Users\\\\markc\\\\Hydrogen\\\\ComparisonofCommercialStateofArtFossilBasedHydrogenProductionTechnologies_Lewis2022.pdf', 'page': 8})"
      ]
     },
     "execution_count": 4,
     "metadata": {},
     "output_type": "execute_result"
    }
   ],
   "source": [
    "data[110]"
   ]
  },
  {
   "cell_type": "code",
   "execution_count": 5,
   "id": "fbfd9abd",
   "metadata": {},
   "outputs": [],
   "source": [
    "# Efficient vectorstor method?\n",
    "index = VectorstoreIndexCreator(\n",
    "    vectorstore_cls=DocArrayInMemorySearch\n",
    ").from_loaders([loader])"
   ]
  },
  {
   "cell_type": "code",
   "execution_count": 6,
   "id": "02d00bff",
   "metadata": {},
   "outputs": [],
   "source": [
    "# Why does chain_type not accept map_reduce?\n",
    "llm = ChatOpenAI(temperature = 0.0)\n",
    "qa = RetrievalQA.from_chain_type(\n",
    "    llm=llm, \n",
    "    chain_type=\"stuff\", \n",
    "    retriever=index.vectorstore.as_retriever(), \n",
    "    verbose=True,\n",
    "    chain_type_kwargs = {\n",
    "        \"document_separator\": \"<<<<>>>>>\"\n",
    "    }\n",
    ")"
   ]
  },
  {
   "cell_type": "markdown",
   "id": "aa9f22e2",
   "metadata": {},
   "source": [
    "# Coming up with test datapoints"
   ]
  },
  {
   "cell_type": "code",
   "execution_count": 7,
   "id": "6230250a",
   "metadata": {},
   "outputs": [
    {
     "data": {
      "text/plain": [
       "Document(page_content='20\\nAnnual Evaluation of Fuel Cell Electric Vehicle Deployment and Hydrogen Fuel Station Network DevelopmenttaBle 2: S tatiOn  netwOrk  and regiStered  FCev S witH reSpeCt  tO CluSter  deFintiOnS\\nClusterNumber \\nof Planned \\nStations in \\nClusterPlanned \\nCapacity in \\nCluster  \\n(kg/day)Percent of \\nPlanned \\nStationsPercent of \\nPlanned \\nCapacityPercent \\nof FCEV \\nRegistrations  \\nin Cluster\\nExpanded Network 68 56,754 62% 64% 60%\\nSouth San Francisco/ \\nBay Area14 10,299 13% 12% 11%\\nCoastal/South Orange County12 12,850 11% 15% 17%\\nTorrance 6 2,066 5% 2% 5%\\nBerkeley 6 4,903 5% 6% 2%\\nWest Los Angeles/ Santa Monica4 1,396 4% 2% 5%\\nAnalysis of Future On-The-Road FCEVs\\nProjections of future on-the-road FCEVs incorporate both the DMV registration data and auto \\nmanufacturer responses to the annual survey issued by CARB. CARB staff adjust submitted survey responses in three ways. First, CARB staff translate the responses provided in terms of model year into calendar year. As in all prior Annual Evaluations , one-third of the vehicles in a given model year \\nare assumed to be sold in the prior calendar year while the remaining two-thirds are assumed to be sold in the calendar year that matches the model year. This is applied to responses for all future model years but is not applied to responses for the remainder of the current model year.\\nNext, all statewide sales projections for each model year are distributed across all California \\ncounties. As in the 2021 Annual Evaluation , the proportion of FCEVs distributed to each county in \\neach year was determined by the proportion of projected fueling capacity in that county in the same year. This assumption was made because the capacity of the stations currently under development and planned for future development is quite large compared to historical network capacity and will likely drive the location of FCEV sales in the near future. Although the same method was used, the data in Table 3 are slightly different from similar data in the previous Annual Evaluation  because of \\nchanges to plans for future hydrogen fueling station development. \\nFinally, all FCEVs included in projections are assumed to be subject to an average attrition rate. \\nThis attrition adjustment represents the typical annual rate at which vehicles may be removed from the on-the-road fleet due to a number of issues, such as vehicle crashes and owners moving their vehicles out of state. This analysis utilizes the same method as CARB’s EMissions FACtor (EMFAC) model, which assumes vehicle attrition follows a power law curve with a vehicle half-life of 15 years. For example, under this model, a fleet of 100 initial vehicles will slowly be reduced each year for 15 years until there are 50 vehicles left in the fleet. The fleet would continue to slowly reduce in number over the next 15 years until 25 remain, and so on.  ', metadata={'source': '\\\\Users\\\\markc\\\\Hydrogen\\\\AB-8-Report-2022_CARB.pdf', 'page': 41})"
      ]
     },
     "execution_count": 7,
     "metadata": {},
     "output_type": "execute_result"
    }
   ],
   "source": [
    "data[41]"
   ]
  },
  {
   "cell_type": "code",
   "execution_count": 8,
   "id": "38eecccc",
   "metadata": {},
   "outputs": [
    {
     "data": {
      "text/plain": [
       "3356"
      ]
     },
     "execution_count": 8,
     "metadata": {},
     "output_type": "execute_result"
    }
   ],
   "source": [
    "len(data)"
   ]
  },
  {
   "cell_type": "markdown",
   "id": "8661bc8a",
   "metadata": {},
   "source": [
    "# LLM-Generated examples"
   ]
  },
  {
   "cell_type": "code",
   "execution_count": 9,
   "id": "1ec7977c",
   "metadata": {},
   "outputs": [],
   "source": [
    "# Four boxes below generate Q&A pair to evaluate model\n",
    "from langchain.evaluation.qa import QAGenerateChain\n"
   ]
  },
  {
   "cell_type": "code",
   "execution_count": 10,
   "id": "18545eee",
   "metadata": {},
   "outputs": [],
   "source": [
    "# Pass in OpenIA language model to interact with chain\n",
    "example_gen_chain = QAGenerateChain.from_llm(ChatOpenAI())"
   ]
  },
  {
   "cell_type": "code",
   "execution_count": 13,
   "id": "37eb538d",
   "metadata": {},
   "outputs": [],
   "source": [
    "# Get back dictionary of question/answer pairs to evaluate\n",
    "#\n",
    "new_examples = example_gen_chain.apply_and_parse(\n",
    "    [{\"doc\": t} for t in data[:10]]\n",
    ")"
   ]
  },
  {
   "cell_type": "code",
   "execution_count": 14,
   "id": "3416dfe6",
   "metadata": {},
   "outputs": [
    {
     "data": {
      "text/plain": [
       "{'query': 'How many new hydrogen fueling stations achieved Open-Retail status in California since the 2021 Annual Evaluation was published?',\n",
       " 'answer': 'Eight new hydrogen fueling stations achieved Open-Retail status in California since the 2021 Annual Evaluation was published.'}"
      ]
     },
     "execution_count": 14,
     "metadata": {},
     "output_type": "execute_result"
    }
   ],
   "source": [
    "new_examples[9]"
   ]
  },
  {
   "cell_type": "code",
   "execution_count": 15,
   "id": "69b17e87",
   "metadata": {},
   "outputs": [],
   "source": [
    "examples = []\n",
    "examples += new_examples"
   ]
  },
  {
   "cell_type": "code",
   "execution_count": 16,
   "id": "3b51a07b",
   "metadata": {},
   "outputs": [
    {
     "name": "stdout",
     "output_type": "stream",
     "text": [
      "\n",
      "\n",
      "\u001b[1m> Entering new RetrievalQA chain...\u001b[0m\n",
      "\n",
      "\u001b[1m> Finished chain.\u001b[0m\n"
     ]
    },
    {
     "data": {
      "text/plain": [
       "\"Since the 2021 Annual Evaluation was published, a total of 8 new Open-Retail hydrogen fueling stations have been added to California's network, 6 of which opened in 2022.\""
      ]
     },
     "execution_count": 16,
     "metadata": {},
     "output_type": "execute_result"
    }
   ],
   "source": [
    "qa.run(examples[9][\"query\"])"
   ]
  },
  {
   "cell_type": "markdown",
   "id": "289ecafa",
   "metadata": {},
   "source": [
    "# Manual Evaluation"
   ]
  },
  {
   "cell_type": "code",
   "execution_count": 17,
   "id": "40993c30",
   "metadata": {},
   "outputs": [],
   "source": [
    "import langchain\n",
    "langchain.debug = True"
   ]
  },
  {
   "cell_type": "code",
   "execution_count": 18,
   "id": "638d5879",
   "metadata": {},
   "outputs": [
    {
     "name": "stdout",
     "output_type": "stream",
     "text": [
      "\u001b[32;1m\u001b[1;3m[chain/start]\u001b[0m \u001b[1m[1:chain:RetrievalQA] Entering Chain run with input:\n",
      "\u001b[0m{\n",
      "  \"query\": \"What is the source of the document and on which page can this information be found?\"\n",
      "}\n",
      "\u001b[32;1m\u001b[1;3m[chain/start]\u001b[0m \u001b[1m[1:chain:RetrievalQA > 2:chain:StuffDocumentsChain] Entering Chain run with input:\n",
      "\u001b[0m[inputs]\n",
      "\u001b[32;1m\u001b[1;3m[chain/start]\u001b[0m \u001b[1m[1:chain:RetrievalQA > 2:chain:StuffDocumentsChain > 3:chain:LLMChain] Entering Chain run with input:\n",
      "\u001b[0m{\n",
      "  \"question\": \"What is the source of the document and on which page can this information be found?\",\n",
      "  \"context\": \"information. Web posting. Summaries. \\nVerDate Sep 11 2014 12:25 Dec 28, 2021 Jkt 029139 PO 00058 Frm 00314 Fmt 6580 Sfmt 6581 E:\\\\PUBLAW\\\\PUBL058.117 PUBL058whamilton on LAPJF8D0R2PROD with PUBLAW<<<<>>>>>information. \\nVerDate Sep 11 2014 12:25 Dec 28, 2021 Jkt 029139 PO 00058 Frm 00174 Fmt 6580 Sfmt 6581 E:\\\\PUBLAW\\\\PUBL058.117 PUBL058whamilton on LAPJF8D0R2PROD with PUBLAW<<<<>>>>>x  \\n \\n \\n \\n \\n \\n \\n \\n \\n \\n \\n \\n \\n \\n \\nThis page intentionally left blank.<<<<>>>>>This page intentionally left blank\"\n",
      "}\n",
      "\u001b[32;1m\u001b[1;3m[llm/start]\u001b[0m \u001b[1m[1:chain:RetrievalQA > 2:chain:StuffDocumentsChain > 3:chain:LLMChain > 4:llm:ChatOpenAI] Entering LLM run with input:\n",
      "\u001b[0m{\n",
      "  \"prompts\": [\n",
      "    \"System: Use the following pieces of context to answer the users question. \\nIf you don't know the answer, just say that you don't know, don't try to make up an answer.\\n----------------\\ninformation. Web posting. Summaries. \\nVerDate Sep 11 2014 12:25 Dec 28, 2021 Jkt 029139 PO 00058 Frm 00314 Fmt 6580 Sfmt 6581 E:\\\\PUBLAW\\\\PUBL058.117 PUBL058whamilton on LAPJF8D0R2PROD with PUBLAW<<<<>>>>>information. \\nVerDate Sep 11 2014 12:25 Dec 28, 2021 Jkt 029139 PO 00058 Frm 00174 Fmt 6580 Sfmt 6581 E:\\\\PUBLAW\\\\PUBL058.117 PUBL058whamilton on LAPJF8D0R2PROD with PUBLAW<<<<>>>>>x  \\n \\n \\n \\n \\n \\n \\n \\n \\n \\n \\n \\n \\n \\n \\nThis page intentionally left blank.<<<<>>>>>This page intentionally left blank\\nHuman: What is the source of the document and on which page can this information be found?\"\n",
      "  ]\n",
      "}\n",
      "\u001b[36;1m\u001b[1;3m[llm/end]\u001b[0m \u001b[1m[1:chain:RetrievalQA > 2:chain:StuffDocumentsChain > 3:chain:LLMChain > 4:llm:ChatOpenAI] [1.39s] Exiting LLM run with output:\n",
      "\u001b[0m{\n",
      "  \"generations\": [\n",
      "    [\n",
      "      {\n",
      "        \"text\": \"The source of the document is not provided and the information on the page numbers is incomplete as well. The document contains multiple pages and the given page numbers are not sufficient to locate the information.\",\n",
      "        \"generation_info\": null,\n",
      "        \"message\": {\n",
      "          \"content\": \"The source of the document is not provided and the information on the page numbers is incomplete as well. The document contains multiple pages and the given page numbers are not sufficient to locate the information.\",\n",
      "          \"additional_kwargs\": {},\n",
      "          \"example\": false\n",
      "        }\n",
      "      }\n",
      "    ]\n",
      "  ],\n",
      "  \"llm_output\": {\n",
      "    \"token_usage\": {\n",
      "      \"prompt_tokens\": 257,\n",
      "      \"completion_tokens\": 38,\n",
      "      \"total_tokens\": 295\n",
      "    },\n",
      "    \"model_name\": \"gpt-3.5-turbo\"\n",
      "  },\n",
      "  \"run\": null\n",
      "}\n",
      "\u001b[36;1m\u001b[1;3m[chain/end]\u001b[0m \u001b[1m[1:chain:RetrievalQA > 2:chain:StuffDocumentsChain > 3:chain:LLMChain] [1.39s] Exiting Chain run with output:\n",
      "\u001b[0m{\n",
      "  \"text\": \"The source of the document is not provided and the information on the page numbers is incomplete as well. The document contains multiple pages and the given page numbers are not sufficient to locate the information.\"\n",
      "}\n",
      "\u001b[36;1m\u001b[1;3m[chain/end]\u001b[0m \u001b[1m[1:chain:RetrievalQA > 2:chain:StuffDocumentsChain] [1.39s] Exiting Chain run with output:\n",
      "\u001b[0m{\n",
      "  \"output_text\": \"The source of the document is not provided and the information on the page numbers is incomplete as well. The document contains multiple pages and the given page numbers are not sufficient to locate the information.\"\n",
      "}\n",
      "\u001b[36;1m\u001b[1;3m[chain/end]\u001b[0m \u001b[1m[1:chain:RetrievalQA] [1.59s] Exiting Chain run with output:\n",
      "\u001b[0m{\n",
      "  \"result\": \"The source of the document is not provided and the information on the page numbers is incomplete as well. The document contains multiple pages and the given page numbers are not sufficient to locate the information.\"\n",
      "}\n"
     ]
    },
    {
     "data": {
      "text/plain": [
       "'The source of the document is not provided and the information on the page numbers is incomplete as well. The document contains multiple pages and the given page numbers are not sufficient to locate the information.'"
      ]
     },
     "execution_count": 18,
     "metadata": {},
     "output_type": "execute_result"
    }
   ],
   "source": [
    "qa.run(examples[4][\"query\"])"
   ]
  },
  {
   "cell_type": "code",
   "execution_count": 19,
   "id": "f86eb6c8",
   "metadata": {},
   "outputs": [],
   "source": [
    "langchain.debug = False"
   ]
  },
  {
   "cell_type": "code",
   "execution_count": 20,
   "id": "24c92c18",
   "metadata": {},
   "outputs": [
    {
     "name": "stdout",
     "output_type": "stream",
     "text": [
      "\n",
      "\n",
      "\u001b[1m> Entering new RetrievalQA chain...\u001b[0m\n",
      "\n",
      "\u001b[1m> Finished chain.\u001b[0m\n",
      "\n",
      "\n",
      "\u001b[1m> Entering new RetrievalQA chain...\u001b[0m\n",
      "\n",
      "\u001b[1m> Finished chain.\u001b[0m\n",
      "\n",
      "\n",
      "\u001b[1m> Entering new RetrievalQA chain...\u001b[0m\n",
      "\n",
      "\u001b[1m> Finished chain.\u001b[0m\n",
      "\n",
      "\n",
      "\u001b[1m> Entering new RetrievalQA chain...\u001b[0m\n",
      "\n",
      "\u001b[1m> Finished chain.\u001b[0m\n",
      "\n",
      "\n",
      "\u001b[1m> Entering new RetrievalQA chain...\u001b[0m\n",
      "\n",
      "\u001b[1m> Finished chain.\u001b[0m\n",
      "\n",
      "\n",
      "\u001b[1m> Entering new RetrievalQA chain...\u001b[0m\n",
      "\n",
      "\u001b[1m> Finished chain.\u001b[0m\n",
      "\n",
      "\n",
      "\u001b[1m> Entering new RetrievalQA chain...\u001b[0m\n",
      "\n",
      "\u001b[1m> Finished chain.\u001b[0m\n",
      "\n",
      "\n",
      "\u001b[1m> Entering new RetrievalQA chain...\u001b[0m\n",
      "\n",
      "\u001b[1m> Finished chain.\u001b[0m\n",
      "\n",
      "\n",
      "\u001b[1m> Entering new RetrievalQA chain...\u001b[0m\n",
      "\n",
      "\u001b[1m> Finished chain.\u001b[0m\n",
      "\n",
      "\n",
      "\u001b[1m> Entering new RetrievalQA chain...\u001b[0m\n",
      "\n",
      "\u001b[1m> Finished chain.\u001b[0m\n"
     ]
    }
   ],
   "source": [
    "predictions = qa.apply(examples)"
   ]
  },
  {
   "cell_type": "code",
   "execution_count": 21,
   "id": "e67f1ee8",
   "metadata": {},
   "outputs": [],
   "source": [
    "# QAEvalChain evaluates question answer pairs\n",
    "from langchain.evaluation.qa import QAEvalChain"
   ]
  },
  {
   "cell_type": "code",
   "execution_count": 22,
   "id": "5176ada8",
   "metadata": {},
   "outputs": [],
   "source": [
    "# Create above chain with language model. LLM will help do evaluation\n",
    "llm = ChatOpenAI(temperature=0)\n",
    "eval_chain = QAEvalChain.from_llm(llm)"
   ]
  },
  {
   "cell_type": "code",
   "execution_count": 23,
   "id": "062691fd",
   "metadata": {},
   "outputs": [],
   "source": [
    "# Get back graded outputs\n",
    "graded_outputs = eval_chain.evaluate(examples, predictions)"
   ]
  },
  {
   "cell_type": "code",
   "execution_count": 24,
   "id": "74e0bee0",
   "metadata": {
    "scrolled": true
   },
   "outputs": [
    {
     "name": "stdout",
     "output_type": "stream",
     "text": [
      "Example 0:\n",
      "Question: What is the title of the report mentioned in this document?\n",
      "Real Answer: The title of the report mentioned in this document is \"2022 Annual Evaluation of Fuel Cell Electric Vehicle Deployment and Hydrogen Fuel Station Network Development (Report Pursuant to Assembly Bill 8; Perea, Chapter 401, Statutes of 2013).\"\n",
      "Predicted Answer: I'm sorry, but the title of the report is not mentioned in this document.\n",
      "Predicted Grade: CORRECT\n",
      "\n",
      "Example 1:\n",
      "Question: Who reviewed and approved the report for publication?\n",
      "Real Answer: The staff of the California Air Resources Board (CARB) reviewed and approved the report for publication.\n",
      "Predicted Answer: The report was reviewed by a panel of expert peer reviewers, including Professor Jack Brouwer, Professor Michael Kuby, Dr. Marc Melaina, Professor Joan Ogden, and Michael Penev, MBA, as well as several other reviewers listed in the context. However, it is not specified who approved the report for publication.\n",
      "Predicted Grade: INCORRECT\n",
      "\n",
      "Example 2:\n",
      "Question: What is CARB's mission?\n",
      "Real Answer: CARB's mission is to promote and protect public health, welfare, and ecological resources through effective reduction of air pollutants while recognizing and considering effects on the economy.\n",
      "Predicted Answer: CARB's mission is to promote and protect public health, welfare, and ecological resources through effective reduction of air pollutants while recognizing and considering effects on the economy. CARB is the lead agency for climate change programs and oversees all air pollution control efforts in California to attain and maintain health-based air quality standards.\n",
      "Predicted Grade: CORRECT\n",
      "\n",
      "Example 3:\n",
      "Question: What are the different sections included in the document \"AB-8-Report-2022_CARB.pdf\"?\n",
      "Real Answer: The document \"AB-8-Report-2022_CARB.pdf\" includes the following sections: List of Acronyms, Executive Summary, Findings, Conclusions, Introduction, Station Network Progress, Hydrogen Provisions in the Infrastructure Investment and Jobs Act, Renewable Hydrogen Production Facilities Awarded in GFO-20-609, Upcoming General Funds Solicitation, LCFS HRI Program Update, New Market Developments, Location and Number of Fuel Cell Electric Vehicles, Information Sources for FCEV Projections, Analysis of Current On-The-Road FCEVs, Analysis of Future On-The-Road FCEVs, Location and Number of Hydrogen Fueling Stations, Current Open and Funded Stations, Evaluation of Network Coverage Gaps, Suggestions for Future Co-Funding, Trends of Station Deployment Rates, Evaluation of Current and Projected Hydrogen Fueling Capacity, Assessment and Projections of Hydrogen Fueling Capacity in California, Capacity Requirements for GFO-19-602, Renewable Content of California’s Hydrogen Fueling Network, Hydrogen Fueling Station Performance Standards and Technology, Updates to Standards and Test Protocols, Heavy-Duty Stations Field Tested with HyStEP, Updates to the Development of a Hydrogen Station Testing Regulation, Development of a new HyStEP Station Testing Device, Conclusions and Recommendations, References, Appendix A: AB 8 Excerpt, and Appendix B: Station Status Summary, and Appendix C: Station Status Definition Details.\n",
      "Predicted Answer: Unfortunately, the given context does not provide a detailed description of the different sections included in the document \"AB-8-Report-2022_CARB.pdf\".\n",
      "Predicted Grade: INCORRECT\n",
      "\n",
      "Example 4:\n",
      "Question: What is the source of the document and on which page can this information be found?\n",
      "Real Answer: The source of the document is listed as '\\\\Users\\\\markc\\\\Hydrogen\\\\AB-8-Report-2022_CARB.pdf' and this information can be found on page 4.\n",
      "Predicted Answer: The source of the document is not provided and the information on the page numbers is incomplete as well.\n",
      "Predicted Grade: INCORRECT\n",
      "\n",
      "Example 5:\n",
      "Question: What does the acronym CHIT stand for in the document?\n",
      "Real Answer: CHIT stands for California Hydrogen Infrastructure Tool in the document.\n",
      "Predicted Answer: The document does not provide the full form of the acronym CHIT.\n",
      "Predicted Grade: INCORRECT\n",
      "\n",
      "Example 6:\n",
      "Question: What company provided the document mentioned in the metadata?\n",
      "Real Answer: Shell provided the document mentioned in the metadata.\n",
      "Predicted Answer: The metadata does not provide any information about the company that provided the document.\n",
      "Predicted Grade: INCORRECT\n",
      "\n",
      "Example 7:\n",
      "Question: What is the goal of the Advanced Clean Cars II (ACC II) regulation proposed by the California Air Resources Board (CARB)?\n",
      "Real Answer: The goal of the Advanced Clean Cars II (ACC II) regulation proposed by the California Air Resources Board (CARB) is to achieve 100 percent zero-emission vehicle (ZEV) sales of new light-duty vehicles in California by 2035, as outlined by Governor Newsom’s Executive Order (EO) N-79-20.\n",
      "Predicted Answer: The goal of the Advanced Clean Cars II (ACC II) regulation proposed by the California Air Resources Board (CARB) is to achieve 100 percent zero-emission vehicle (ZEV) sales of new light-duty vehicles in California by 2035, as outlined by Governor Newsom's Executive Order (EO) N-79-20. This regulation aims to enable a transition to zero-emission transportation across all transportation sectors in California, including light-duty, medium-duty, heavy-duty, on-road, and off-road vehicles.\n",
      "Predicted Grade: CORRECT\n",
      "\n",
      "Example 8:\n",
      "Question: What is the purpose of California’s Assembly Bill 8 (AB 8)?\n",
      "Real Answer: California's Assembly Bill 8 (AB 8) provides the Energy Commission with up to $20 million annually through the end of 2023 to co-fund the development of hydrogen fueling stations in California. The purpose of AB 8 is to address the hurdle of fueling infrastructure and ensure that FCEV use expands and becomes a viable ZEV option for an increasing number of Californians in the future.\n",
      "Predicted Answer: The purpose of California's Assembly Bill 8 (AB 8) is to provide financial resources to several programs through a fee applied to vehicle and vessel registrations, with the goal of supporting the development and deployment of advanced transportation and fuel technologies, including the establishment of a hydrogen fueling station network in California. AB 8 has been a primary driving force in the development of an in-state hydrogen fueling network for light-duty fuel cell electric vehicles (FCEVs). The bill also references the eventuality of a financially self-sufficient hydrogen fueling station industry.\n",
      "Predicted Grade: CORRECT\n",
      "\n",
      "Example 9:\n",
      "Question: How many new hydrogen fueling stations achieved Open-Retail status in California since the 2021 Annual Evaluation was published?\n",
      "Real Answer: Eight new hydrogen fueling stations achieved Open-Retail status in California since the 2021 Annual Evaluation was published.\n",
      "Predicted Answer: Since the 2021 Annual Evaluation was published, a total of 8 new Open-Retail hydrogen fueling stations have been added to California's network, 6 of which opened in 2022.\n",
      "Predicted Grade: CORRECT\n",
      "\n"
     ]
    }
   ],
   "source": [
    "# All below are output by the language mdoel\n",
    "for i, eg in enumerate(examples):\n",
    "    print(f\"Example {i}:\")\n",
    "    print(\"Question: \" + predictions[i]['query'])\n",
    "    print(\"Real Answer: \" + predictions[i]['answer'])\n",
    "    print(\"Predicted Answer: \" + predictions[i]['result'])\n",
    "    print(\"Predicted Grade: \" + graded_outputs[i]['text'])\n",
    "    print()"
   ]
  },
  {
   "cell_type": "markdown",
   "id": "c0544ae3",
   "metadata": {},
   "source": [
    "## Key Questions/Concerns for Dev"
   ]
  },
  {
   "cell_type": "code",
   "execution_count": 69,
   "id": "175e4298",
   "metadata": {},
   "outputs": [],
   "source": [
    "# What to do if predicted answers incorrect?\n",
    "# QAEvalChain spit out the same question multiple times\n",
    "# Try to access the UI that tracks what is going on \n",
    "#  under the hood (from langchain plus)\n",
    "# --generate flywheel of datapoints to learn from!!!!\n",
    "\n"
   ]
  },
  {
   "cell_type": "markdown",
   "id": "c5dbfce8",
   "metadata": {},
   "source": [
    "### Try to query this new vectorstor database"
   ]
  },
  {
   "cell_type": "code",
   "execution_count": 34,
   "id": "5680fa5c",
   "metadata": {},
   "outputs": [],
   "source": [
    "query = \"What system design results in the lowest hydrogen breakeven cost? \\\n",
    "What is that cost in USD/kg? Is this with or without subsidies? Use markdown to describe.\""
   ]
  },
  {
   "cell_type": "code",
   "execution_count": 37,
   "id": "860a705b",
   "metadata": {},
   "outputs": [],
   "source": [
    "query2 = \"What is hydrogen? \\\n",
    "Use markdown to describe.\""
   ]
  },
  {
   "cell_type": "code",
   "execution_count": 42,
   "id": "7f797b4e",
   "metadata": {},
   "outputs": [],
   "source": [
    "query3 = \"What is the largest potential end-use market for hydrogen? \\\n",
    "Use markdown to describe.\""
   ]
  },
  {
   "cell_type": "code",
   "execution_count": 70,
   "id": "f568fd40",
   "metadata": {},
   "outputs": [],
   "source": [
    "query4 = \"How does hydrogen compare to alternatives for long-duration energy storage? \\\n",
    "Use markdown to describe.\""
   ]
  },
  {
   "cell_type": "code",
   "execution_count": 74,
   "id": "b561445a",
   "metadata": {},
   "outputs": [],
   "source": [
    "query5 = \"What are ideal conditions for hydrogen in use as long duration storage? \\\n",
    "Use markdown to describe in fewer than 800 words in bulleted list and list hydrogen's top competitors.\""
   ]
  },
  {
   "cell_type": "code",
   "execution_count": 76,
   "id": "83e6eb5d",
   "metadata": {},
   "outputs": [],
   "source": [
    "query6 = \"You are an investor. What are ideal conditions and locations for hydrogen for use as long duration storage? \\\n",
    "Use markdown to describe in fewer than 800 words.\""
   ]
  },
  {
   "cell_type": "code",
   "execution_count": 78,
   "id": "763e34d5",
   "metadata": {},
   "outputs": [],
   "source": [
    "query7 = \"Please describe how a PEM electrolyzer and alkaline electrolyzer work. \\\n",
    "Use markdown to describe in fewer than 800 words.\""
   ]
  },
  {
   "cell_type": "code",
   "execution_count": 111,
   "id": "9f463bde",
   "metadata": {},
   "outputs": [],
   "source": [
    "# Trying to gauge breadth and depth of model's knowledge\n",
    "\n",
    "query8 = \"Please tell me the most cost-effective ways to decarbonize with hydrogen and \\\n",
    "the applications which hydrogen is decarbonizing. Do this in markdown in a bulleted list.\""
   ]
  },
  {
   "cell_type": "code",
   "execution_count": 109,
   "id": "87d4f73a",
   "metadata": {},
   "outputs": [],
   "source": [
    "query9 = \"Please list the highest TRL hydrogen production methods and the range of their levelized cost of production in USD/kg. \\\n",
    "Do this in markdown in a bulleted list.\"\n",
    "\n",
    "#Good response"
   ]
  },
  {
   "cell_type": "code",
   "execution_count": 113,
   "id": "c21ab7af",
   "metadata": {},
   "outputs": [],
   "source": [
    "query10 = \"What clean energy technologies are most competitive with hydrogen? \\\n",
    "What technologies are complementary to hydrogen? Display results in markdown in a table.\"\n",
    "\n",
    "#Poor response - probably due to knowledge base"
   ]
  },
  {
   "cell_type": "code",
   "execution_count": 31,
   "id": "b82d98aa",
   "metadata": {},
   "outputs": [],
   "source": [
    "query11 = \"What are the main hydrogen provisions in the Clean Hydrogen Act? \\\n",
    "Create a bulleted list with short description. Display results in markdown in a table.\"\n",
    "\n",
    "#Poor response - probably due to knowledge base"
   ]
  },
  {
   "cell_type": "code",
   "execution_count": 32,
   "id": "4faf4dfa",
   "metadata": {},
   "outputs": [
    {
     "name": "stdout",
     "output_type": "stream",
     "text": [
      "11.703331708908081\n"
     ]
    },
    {
     "data": {
      "text/markdown": [
       "| Provision | Description |\n",
       "| --- | --- |\n",
       "| Definition of Clean Hydrogen | Provides a statutory definition for the term \"clean hydrogen\" |\n",
       "| Clean Hydrogen Strategy and Roadmap | Establishes a clean hydrogen strategy and roadmap for the United States |\n",
       "| Clean Hydrogen Clearing House | Establishes a clearing house for clean hydrogen program information at the National Energy Technology Laboratory |\n",
       "| Clean Hydrogen Supply Chain | Develops a robust clean hydrogen supply chain |\n",
       "| Clean Hydrogen Research and Development Program | Establishes a clean hydrogen research and development program |\n",
       "| Clean Hydrogen Production Standard | Establishes a standard of hydrogen production that achieves the standard developed under section 822(a), including interim goals towards meeting that standard |\n",
       "| Clean Hydrogen Production and Use | Identifies clean hydrogen production and use from natural gas, coal, renewable energy sources, nuclear energy, and biomass |\n",
       "| Transition to a Clean Hydrogen Economy | Identifies potential barriers, pathways, and opportunities, including Federal policy needs, to transition to a clean hydrogen economy |\n",
       "| Economic Opportunities for Clean Hydrogen | Identifies economic opportunities for the production, processing, transport, storage, and use of clean hydrogen that exist in the major shale natural gas-producing regions of the United States and for merchant nuclear power plants operating in deregulated markets |\n",
       "| Environmental Risks | Identifies environmental risks associated with potential clean hydrogen production and use |"
      ],
      "text/plain": [
       "<IPython.core.display.Markdown object>"
      ]
     },
     "metadata": {},
     "output_type": "display_data"
    }
   ],
   "source": [
    "start_time = time.time()\n",
    "response = index.query(query11, llm=llm)\n",
    "#response = qa_stuff.run(query)\n",
    "\n",
    "run_time = time.time()-start_time\n",
    "print(run_time)\n",
    "\n",
    "display(Markdown(response))"
   ]
  },
  {
   "cell_type": "code",
   "execution_count": 36,
   "id": "79203b3f",
   "metadata": {},
   "outputs": [
    {
     "data": {
      "text/markdown": [
       "According to the given context, the integration with electricity markets and cheap renewable power sources could help achieve low breakeven costs for electrolytic hydrogen. The lowest hydrogen breakeven cost could be achieved today via direct wholesale market participation, which is around $3/kg. However, direct wholesale access is currently prohibited in CAISO under state law, but it is permissible in other organized wholesale markets. The profitability of hydrogen production also depends on electrolyzer siting. The context does not mention whether this cost includes subsidies or not."
      ],
      "text/plain": [
       "<IPython.core.display.Markdown object>"
      ]
     },
     "metadata": {},
     "output_type": "display_data"
    }
   ],
   "source": [
    "display(Markdown(response))"
   ]
  },
  {
   "cell_type": "markdown",
   "id": "41f8fd8d",
   "metadata": {},
   "source": [
    "####  Key Question/Concerns for Dev"
   ]
  },
  {
   "cell_type": "code",
   "execution_count": null,
   "id": "2551381d",
   "metadata": {},
   "outputs": [],
   "source": [
    "# Getting unclear answers when combining all four reports\n",
    "# Does not seem to be correctly parsing through the data\n",
    "# Can it not read tables?\n",
    "# Why can't it generate more accurate answers?\n",
    "\n",
    "# QAGenerateChain.from_llm -> generates same questions. How to get higher fidelity questions?"
   ]
  }
 ],
 "metadata": {
  "kernelspec": {
   "display_name": "Python 3 (ipykernel)",
   "language": "python",
   "name": "python3"
  },
  "language_info": {
   "codemirror_mode": {
    "name": "ipython",
    "version": 3
   },
   "file_extension": ".py",
   "mimetype": "text/x-python",
   "name": "python",
   "nbconvert_exporter": "python",
   "pygments_lexer": "ipython3",
   "version": "3.10.8"
  }
 },
 "nbformat": 4,
 "nbformat_minor": 5
}
