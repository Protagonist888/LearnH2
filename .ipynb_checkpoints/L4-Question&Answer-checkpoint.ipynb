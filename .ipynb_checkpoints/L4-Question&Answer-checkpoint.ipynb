{
 "cells": [
  {
   "cell_type": "code",
   "execution_count": 1,
   "id": "9330177f",
   "metadata": {},
   "outputs": [],
   "source": [
    "import os\n",
    "import getpass\n",
    "\n",
    "from dotenv import load_dotenv, find_dotenv\n",
    "_ = load_dotenv(find_dotenv()) # read local .env file"
   ]
  },
  {
   "cell_type": "code",
   "execution_count": 2,
   "id": "3bc0d138",
   "metadata": {},
   "outputs": [],
   "source": [
    "from openpyxl import load_workbook"
   ]
  },
  {
   "cell_type": "code",
   "execution_count": 3,
   "id": "ca0d7607",
   "metadata": {},
   "outputs": [],
   "source": [
    "from langchain.chains import RetrievalQA\n",
    "from langchain.chat_models import ChatOpenAI\n",
    "from langchain.document_loaders import PyPDFLoader\n",
    "from langchain.vectorstores import DocArrayInMemorySearch\n",
    "from IPython.display import display, Markdown"
   ]
  },
  {
   "cell_type": "code",
   "execution_count": 4,
   "id": "3bd70295",
   "metadata": {},
   "outputs": [
    {
     "ename": "ImportError",
     "evalue": "pypdf package not found, please install it with `pip install pypdf`",
     "output_type": "error",
     "traceback": [
      "\u001b[1;31m--------------------------------------------------------\u001b[0m",
      "\u001b[1;31mModuleNotFoundError\u001b[0m    Traceback (most recent call last)",
      "File \u001b[1;32m~\\miniconda3\\lib\\site-packages\\langchain\\document_loaders\\pdf.py:104\u001b[0m, in \u001b[0;36mPyPDFLoader.__init__\u001b[1;34m(self, file_path)\u001b[0m\n\u001b[0;32m    103\u001b[0m \u001b[38;5;28;01mtry\u001b[39;00m:\n\u001b[1;32m--> 104\u001b[0m     \u001b[38;5;28;01mimport\u001b[39;00m \u001b[38;5;21;01mpypdf\u001b[39;00m  \u001b[38;5;66;03m# noqa:F401\u001b[39;00m\n\u001b[0;32m    105\u001b[0m \u001b[38;5;28;01mexcept\u001b[39;00m \u001b[38;5;167;01mImportError\u001b[39;00m:\n",
      "\u001b[1;31mModuleNotFoundError\u001b[0m: No module named 'pypdf'",
      "\nDuring handling of the above exception, another exception occurred:\n",
      "\u001b[1;31mImportError\u001b[0m            Traceback (most recent call last)",
      "Cell \u001b[1;32mIn[4], line 2\u001b[0m\n\u001b[0;32m      1\u001b[0m file \u001b[38;5;241m=\u001b[39m \u001b[38;5;124m'\u001b[39m\u001b[38;5;124mC:/Users/markc/H2_Scale_Ruth.pdf\u001b[39m\u001b[38;5;124m'\u001b[39m\n\u001b[1;32m----> 2\u001b[0m loader \u001b[38;5;241m=\u001b[39m \u001b[43mPyPDFLoader\u001b[49m\u001b[43m(\u001b[49m\u001b[43mfile_path\u001b[49m\u001b[38;5;241;43m=\u001b[39;49m\u001b[43mfile\u001b[49m\u001b[43m)\u001b[49m\n\u001b[0;32m      3\u001b[0m pages \u001b[38;5;241m=\u001b[39m loader\u001b[38;5;241m.\u001b[39mload_and_split()\n",
      "File \u001b[1;32m~\\miniconda3\\lib\\site-packages\\langchain\\document_loaders\\pdf.py:106\u001b[0m, in \u001b[0;36mPyPDFLoader.__init__\u001b[1;34m(self, file_path)\u001b[0m\n\u001b[0;32m    104\u001b[0m     \u001b[38;5;28;01mimport\u001b[39;00m \u001b[38;5;21;01mpypdf\u001b[39;00m  \u001b[38;5;66;03m# noqa:F401\u001b[39;00m\n\u001b[0;32m    105\u001b[0m \u001b[38;5;28;01mexcept\u001b[39;00m \u001b[38;5;167;01mImportError\u001b[39;00m:\n\u001b[1;32m--> 106\u001b[0m     \u001b[38;5;28;01mraise\u001b[39;00m \u001b[38;5;167;01mImportError\u001b[39;00m(\n\u001b[0;32m    107\u001b[0m         \u001b[38;5;124m\"\u001b[39m\u001b[38;5;124mpypdf package not found, please install it with \u001b[39m\u001b[38;5;124m\"\u001b[39m \u001b[38;5;124m\"\u001b[39m\u001b[38;5;124m`pip install pypdf`\u001b[39m\u001b[38;5;124m\"\u001b[39m\n\u001b[0;32m    108\u001b[0m     )\n\u001b[0;32m    109\u001b[0m \u001b[38;5;28mself\u001b[39m\u001b[38;5;241m.\u001b[39mparser \u001b[38;5;241m=\u001b[39m PyPDFParser()\n\u001b[0;32m    110\u001b[0m \u001b[38;5;28msuper\u001b[39m()\u001b[38;5;241m.\u001b[39m\u001b[38;5;21m__init__\u001b[39m(file_path)\n",
      "\u001b[1;31mImportError\u001b[0m: pypdf package not found, please install it with `pip install pypdf`"
     ]
    }
   ],
   "source": [
    "file = 'C:/Users/markc/H2_Scale_Ruth.pdf'\n",
    "loader = PyPDFLoader(file_path=file)\n",
    "pages = loader.load_and_split()"
   ]
  },
  {
   "cell_type": "code",
   "execution_count": 32,
   "id": "2d05385d",
   "metadata": {},
   "outputs": [],
   "source": [
    "from langchain.indexes import VectorstoreIndexCreator"
   ]
  },
  {
   "cell_type": "code",
   "execution_count": 33,
   "id": "799f2391",
   "metadata": {},
   "outputs": [],
   "source": [
    "#pip install docarray"
   ]
  },
  {
   "cell_type": "code",
   "execution_count": 34,
   "id": "5b1f13f7",
   "metadata": {},
   "outputs": [],
   "source": [
    "index = VectorstoreIndexCreator(\n",
    "    vectorstore_cls=DocArrayInMemorySearch\n",
    ").from_loaders([loader])"
   ]
  },
  {
   "cell_type": "code",
   "execution_count": 35,
   "id": "c5d7282e",
   "metadata": {},
   "outputs": [],
   "source": [
    "query =\"Please summarize all electric vehicles in Washington\\\n",
    "by make, model, and type \\\n",
    "in a table in markdown and summarize each category.\""
   ]
  },
  {
   "cell_type": "code",
   "execution_count": 36,
   "id": "5e2f1aa4",
   "metadata": {},
   "outputs": [],
   "source": [
    "response = index.query(query)"
   ]
  },
  {
   "cell_type": "code",
   "execution_count": 37,
   "id": "d4d6ec30",
   "metadata": {},
   "outputs": [
    {
     "data": {
      "text/markdown": [
       "\n",
       "\n",
       "| Make | Model | Type |\n",
       "|------|-------|------|\n",
       "| TESLA | MODEL Y | Battery Electric Vehicle (BEV) |\n",
       "| FORD | MUSTANG MACH-E | Battery Electric Vehicle (BEV) |\n",
       "| VOLKSWAGEN | ID.4 | Battery Electric Vehicle (BEV) |\n",
       "| VOLKSWAGEN | E-GOLF | Battery Electric Vehicle (BEV) |\n",
       "\n",
       "There are four electric vehicles in Washington: TESLA MODEL Y, FORD MUSTANG MACH-E, VOLKSWAGEN ID.4, and VOLKSWAGEN E-GOLF. All of them are Battery Electric Vehicles (BEVs)."
      ],
      "text/plain": [
       "<IPython.core.display.Markdown object>"
      ]
     },
     "metadata": {},
     "output_type": "display_data"
    }
   ],
   "source": [
    "display(Markdown(response))"
   ]
  },
  {
   "cell_type": "code",
   "execution_count": 38,
   "id": "ae8163c4",
   "metadata": {},
   "outputs": [],
   "source": [
    "loader = CSVLoader(file_path=file)"
   ]
  },
  {
   "cell_type": "code",
   "execution_count": 39,
   "id": "291fe04a",
   "metadata": {},
   "outputs": [],
   "source": [
    "docs = loader.load()"
   ]
  },
  {
   "cell_type": "code",
   "execution_count": 40,
   "id": "b3b740cd",
   "metadata": {},
   "outputs": [
    {
     "data": {
      "text/plain": [
       "Document(page_content='VIN (1-10): 5YJXCAE26J\\nCounty: Yakima\\nCity: Yakima\\nState: WA\\nPostal Code: 98908\\nModel Year: 2018\\nMake: TESLA\\nModel: MODEL X\\nElectric Vehicle Type: Battery Electric Vehicle (BEV)\\nClean Alternative Fuel Vehicle (CAFV) Eligibility: Clean Alternative Fuel Vehicle Eligible\\nElectric Range: 238\\nBase MSRP: 0\\nLegislative District: 14\\nDOL Vehicle ID: 141151601\\nVehicle Location: POINT (-120.56916 46.58514)\\nElectric Utility: PACIFICORP\\n2020 Census Tract: 53077001100', metadata={'source': 'Electric_Vehicle_Population_Data-Short.csv', 'row': 0})"
      ]
     },
     "execution_count": 40,
     "metadata": {},
     "output_type": "execute_result"
    }
   ],
   "source": [
    "docs[0]"
   ]
  },
  {
   "cell_type": "code",
   "execution_count": 41,
   "id": "0beeaf0c",
   "metadata": {},
   "outputs": [],
   "source": [
    "#Chunking not needed here because data is small\n",
    "\n",
    "from langchain.embeddings import OpenAIEmbeddings\n",
    "embeddings = OpenAIEmbeddings()"
   ]
  },
  {
   "cell_type": "code",
   "execution_count": 42,
   "id": "f1f4ef29",
   "metadata": {},
   "outputs": [],
   "source": [
    "embed = embeddings.embed_query(\"Hi my name is Iron Man\")"
   ]
  },
  {
   "cell_type": "code",
   "execution_count": 43,
   "id": "ec37e7bf",
   "metadata": {},
   "outputs": [
    {
     "name": "stdout",
     "output_type": "stream",
     "text": [
      "1536\n"
     ]
    }
   ],
   "source": [
    "print(len(embed))"
   ]
  },
  {
   "cell_type": "code",
   "execution_count": 44,
   "id": "51857d12",
   "metadata": {},
   "outputs": [
    {
     "name": "stdout",
     "output_type": "stream",
     "text": [
      "[-0.03388969227671623, -0.03518833592534065, -0.022326737642288208, -0.030867839232087135, 0.0024131108075380325]\n"
     ]
    }
   ],
   "source": [
    "print(embed[:5])"
   ]
  },
  {
   "cell_type": "code",
   "execution_count": 45,
   "id": "6f0f477e",
   "metadata": {},
   "outputs": [],
   "source": [
    "db = DocArrayInMemorySearch.from_documents(\n",
    "    docs, \n",
    "    embeddings\n",
    ")"
   ]
  },
  {
   "cell_type": "code",
   "execution_count": 47,
   "id": "0d3d29ff",
   "metadata": {},
   "outputs": [],
   "source": [
    "query = \"Please suggest a vehicle with a range over 200 miles\""
   ]
  },
  {
   "cell_type": "code",
   "execution_count": 48,
   "id": "e587f2f7",
   "metadata": {},
   "outputs": [],
   "source": [
    "docs = db.similarity_search(query)"
   ]
  },
  {
   "cell_type": "code",
   "execution_count": 49,
   "id": "5f69277d",
   "metadata": {},
   "outputs": [
    {
     "data": {
      "text/plain": [
       "4"
      ]
     },
     "execution_count": 49,
     "metadata": {},
     "output_type": "execute_result"
    }
   ],
   "source": [
    "len(docs)"
   ]
  },
  {
   "cell_type": "code",
   "execution_count": 50,
   "id": "3b9216e3",
   "metadata": {},
   "outputs": [
    {
     "data": {
      "text/plain": [
       "Document(page_content='VIN (1-10): 5YJ3E1EA5K\\nCounty: \\nCity: \\nState: BC\\nPostal Code: \\nModel Year: 2019\\nMake: TESLA\\nModel: MODEL 3\\nElectric Vehicle Type: Battery Electric Vehicle (BEV)\\nClean Alternative Fuel Vehicle (CAFV) Eligibility: Clean Alternative Fuel Vehicle Eligible\\nElectric Range: 220\\nBase MSRP: 0\\nLegislative District: \\nDOL Vehicle ID: 475254825\\nVehicle Location: \\nElectric Utility: \\n2020 Census Tract: ', metadata={'source': 'Electric_Vehicle_Population_Data-Short.csv', 'row': 103})"
      ]
     },
     "execution_count": 50,
     "metadata": {},
     "output_type": "execute_result"
    }
   ],
   "source": [
    "docs[0]"
   ]
  },
  {
   "cell_type": "code",
   "execution_count": 51,
   "id": "7c0f8489",
   "metadata": {},
   "outputs": [],
   "source": [
    "retriever = db.as_retriever()"
   ]
  },
  {
   "cell_type": "code",
   "execution_count": 52,
   "id": "86a9b512",
   "metadata": {},
   "outputs": [],
   "source": [
    "llm = ChatOpenAI(temperature = 0.0)"
   ]
  },
  {
   "cell_type": "code",
   "execution_count": 53,
   "id": "61206e7b",
   "metadata": {},
   "outputs": [],
   "source": [
    "qdocs = \"\".join([docs[i].page_content for i in range(len(docs))])\n"
   ]
  },
  {
   "cell_type": "code",
   "execution_count": 55,
   "id": "1c451f5e",
   "metadata": {},
   "outputs": [],
   "source": [
    "response = llm.call_as_llm(f\"{qdocs} Question: Please list all your \\\n",
    "vehicles with range greater than 150 miles in a table in markdown and summarize each one.\") \n"
   ]
  },
  {
   "cell_type": "code",
   "execution_count": 56,
   "id": "2a8ee792",
   "metadata": {},
   "outputs": [
    {
     "data": {
      "text/markdown": [
       "| VIN (1-10) | County | City | State | Model Year | Make | Model | Electric Vehicle Type | CAFV Eligibility | Electric Range | Base MSRP | Legislative District | DOL Vehicle ID | Vehicle Location | Electric Utility | 2020 Census Tract |\n",
       "|------------|--------|------|-------|------------|------|-------|----------------------|-----------------|---------------|-----------|---------------------|---------------|----------------|-----------------|-------------------|\n",
       "| 5YJ3E1EA5K |        |      | BC    | 2019       | TESLA | MODEL 3 | BEV                  | CAFV Eligible   | 220           | 0         |                     | 475254825     |                |                 |                   |\n",
       "| 1N4AZ0CP1D |        |      | AP    | 2013       | NISSAN | LEAF    | BEV                  | CAFV Eligible   | 75            | 0         |                     | 112277063     |                |                 |                   |\n",
       "| YV4BR0CM9N | Yakima | Yakima | WA    | 2022       | VOLVO | XC90    | PHEV                 | Not eligible    | 18            | 0         | 14                  | 196640419     | POINT (-120.56916 46.58514) | PACIFICORP       | 53077000401       |\n",
       "| 1G1FW6S06H | Island | Clinton | WA    | 2017       | CHEVROLET | BOLT EV | BEV                  | CAFV Eligible   | 238           | 0         | 10                  | 132227280     | POINT (-122.35803 47.9796) | PUGET SOUND ENERGY INC | 53029972000       |\n",
       "\n",
       "The table above lists all the vehicles with an electric range greater than 150 miles. \n",
       "\n",
       "- The first vehicle is a 2019 Tesla Model 3 with an electric range of 220 miles. It is eligible for Clean Alternative Fuel Vehicle (CAFV) incentives. \n",
       "- The second vehicle is a 2013 Nissan Leaf with an electric range of 75 miles. It is also eligible for CAFV incentives. \n",
       "- The third vehicle is a 2022 Volvo XC90, which is a plug-in hybrid electric vehicle (PHEV) with an electric range of 18 miles. It is not eligible for CAFV incentives due to its low battery range. \n",
       "- The fourth vehicle is a 2017 Chevrolet Bolt EV with an electric range of 238 miles. It is eligible for CAFV incentives. \n",
       "\n",
       "Overall, these vehicles are all electric or plug-in hybrid electric vehicles with a range greater than 150 miles, making them suitable for longer trips without needing to recharge frequently."
      ],
      "text/plain": [
       "<IPython.core.display.Markdown object>"
      ]
     },
     "metadata": {},
     "output_type": "display_data"
    }
   ],
   "source": [
    "display(Markdown(response))"
   ]
  },
  {
   "cell_type": "code",
   "execution_count": 57,
   "id": "06dd4656",
   "metadata": {},
   "outputs": [],
   "source": [
    "qa_stuff = RetrievalQA.from_chain_type(\n",
    "    llm=llm, \n",
    "    chain_type=\"stuff\", \n",
    "    retriever=retriever, \n",
    "    verbose=True\n",
    ")"
   ]
  },
  {
   "cell_type": "code",
   "execution_count": 58,
   "id": "e3db2239",
   "metadata": {},
   "outputs": [],
   "source": [
    "query =  \"Please list all your electric vehicles in a table \\\n",
    "in markdown and summarize each one.\""
   ]
  },
  {
   "cell_type": "code",
   "execution_count": 59,
   "id": "c89482c2",
   "metadata": {},
   "outputs": [
    {
     "name": "stdout",
     "output_type": "stream",
     "text": [
      "\n",
      "\n",
      "\u001b[1m> Entering new RetrievalQA chain...\u001b[0m\n",
      "\n",
      "\u001b[1m> Finished chain.\u001b[0m\n"
     ]
    }
   ],
   "source": [
    "response = qa_stuff.run(query)"
   ]
  },
  {
   "cell_type": "code",
   "execution_count": 60,
   "id": "39ba2bbe",
   "metadata": {},
   "outputs": [
    {
     "data": {
      "text/markdown": [
       "| VIN | County | City | State | Postal Code | Model Year | Make | Model | Electric Vehicle Type | Clean Alternative Fuel Vehicle (CAFV) Eligibility | Electric Range | Base MSRP | Legislative District | DOL Vehicle ID | Vehicle Location | Electric Utility | 2020 Census Tract |\n",
       "| --- | --- | --- | --- | --- | --- | --- | --- | --- | --- | --- | --- | --- | --- | --- | --- | --- |\n",
       "| 5YJ3E1EA5K | N/A | N/A | BC | N/A | 2019 | TESLA | MODEL 3 | Battery Electric Vehicle (BEV) | Clean Alternative Fuel Vehicle Eligible | 220 | 0 | N/A | 475254825 | N/A | N/A | N/A |\n",
       "| 1N4AZ0CP1D | N/A | N/A | AP | N/A | 2013 | NISSAN | LEAF | Battery Electric Vehicle (BEV) | Clean Alternative Fuel Vehicle Eligible | 75 | 0 | N/A | 112277063 | N/A | N/A | N/A |\n",
       "| 1G1FW6S06H | Island | Clinton | WA | 98236 | 2017 | CHEVROLET | BOLT EV | Battery Electric Vehicle (BEV) | Clean Alternative Fuel Vehicle Eligible | 238 | 0 | 10 | 132227280 | POINT (-122.35803 47.9796) | PUGET SOUND ENERGY INC | 53029972000 |\n",
       "| 1G1FX6S04H | Snohomish | Edmonds | WA | 98020 | 2017 | CHEVROLET | BOLT EV | Battery Electric Vehicle (BEV) | Clean Alternative Fuel Vehicle Eligible | 238 | 0 | 32 | 104156608 | POINT (-122.37689 47.81116) | PUGET SOUND ENERGY INC | 53061050800 |\n",
       "\n",
       "- The first vehicle is a 2019 Tesla Model 3 with an electric range of 220 miles. It is located in British Columbia, Canada, and no other information is available.\n",
       "- The second vehicle is a 2013 Nissan Leaf with an electric range of 75 miles. It is located in an unknown location in the state of AP, and no other information is available.\n",
       "- The third vehicle is a 2017 Chevrolet Bolt EV with an electric range of 238 miles. It is located in Clinton, WA, in Island County, and is served by Puget Sound Energy Inc. It is eligible for Clean Alternative Fuel Vehicle (CAFV) incentives and is located in legislative district 10.\n",
       "- The fourth vehicle is a 2017 Chevrolet Bolt EV with an electric range of 238 miles. It is located in Edmonds, WA, in Snohomish County, and is served by Puget Sound Energy Inc. It is eligible for Clean Alternative Fuel Vehicle (CAFV) incentives and is located in legislative district 32."
      ],
      "text/plain": [
       "<IPython.core.display.Markdown object>"
      ]
     },
     "metadata": {},
     "output_type": "display_data"
    }
   ],
   "source": [
    "display(Markdown(response))"
   ]
  },
  {
   "cell_type": "code",
   "execution_count": 61,
   "id": "46ff7a10",
   "metadata": {},
   "outputs": [],
   "source": [
    "response = index.query(query, llm=llm)"
   ]
  },
  {
   "cell_type": "code",
   "execution_count": 62,
   "id": "a1026069",
   "metadata": {},
   "outputs": [],
   "source": [
    "index = VectorstoreIndexCreator(\n",
    "    vectorstore_cls=DocArrayInMemorySearch,\n",
    "    embedding=embeddings,\n",
    ").from_loaders([loader])"
   ]
  },
  {
   "cell_type": "code",
   "execution_count": null,
   "id": "2eb7668b",
   "metadata": {},
   "outputs": [],
   "source": []
  }
 ],
 "metadata": {
  "kernelspec": {
   "display_name": "Python 3 (ipykernel)",
   "language": "python",
   "name": "python3"
  },
  "language_info": {
   "codemirror_mode": {
    "name": "ipython",
    "version": 3
   },
   "file_extension": ".py",
   "mimetype": "text/x-python",
   "name": "python",
   "nbconvert_exporter": "python",
   "pygments_lexer": "ipython3",
   "version": "3.10.8"
  }
 },
 "nbformat": 4,
 "nbformat_minor": 5
}
