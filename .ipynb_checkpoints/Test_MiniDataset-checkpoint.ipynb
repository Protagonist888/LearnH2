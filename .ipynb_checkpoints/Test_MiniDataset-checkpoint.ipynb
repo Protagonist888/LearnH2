{
 "cells": [
  {
   "cell_type": "markdown",
   "id": "20cc6a13",
   "metadata": {},
   "source": [
    "# LangChain: Evaluation¶\n",
    "### Outline:\n",
    "* Example generation\n",
    "* Manual evaluation (and debuging)\n",
    "* LLM-assisted evaluation"
   ]
  },
  {
   "cell_type": "code",
   "execution_count": 3,
   "id": "12b2ded1",
   "metadata": {},
   "outputs": [
    {
     "name": "stdout",
     "output_type": "stream",
     "text": [
      "OpenAI API Key:········\n"
     ]
    }
   ],
   "source": [
    "import os\n",
    "import getpass\n",
    "import openai\n",
    "import time\n",
    "import markdown\n",
    "import pandas as pd\n",
    "import pyarrow as pa\n",
    "import pyarrow.parquet as pq\n",
    "import pickle\n",
    "import json\n",
    "from IPython.display import display, Markdown\n",
    "\n",
    "from dotenv import load_dotenv, find_dotenv\n",
    "_ = load_dotenv(find_dotenv()) # read local .env file\n",
    "\n",
    "os.environ['OPENAI_API_KEY'] = getpass.getpass('OpenAI API Key:')"
   ]
  },
  {
   "cell_type": "markdown",
   "id": "1358f8c3",
   "metadata": {},
   "source": [
    "# Create our QandA application"
   ]
  },
  {
   "cell_type": "code",
   "execution_count": 4,
   "id": "3a4beefd",
   "metadata": {},
   "outputs": [],
   "source": [
    "from langchain.chains import RetrievalQA\n",
    "from langchain.chains import RetrievalQAWithSourcesChain\n",
    "from langchain.chat_models import ChatOpenAI\n",
    "from langchain.document_loaders import PyPDFLoader\n",
    "from langchain.indexes import VectorstoreIndexCreator\n",
    "from langchain.vectorstores import DocArrayInMemorySearch\n",
    "\n",
    "#PDF directory loader\n",
    "from langchain.document_loaders import PyPDFDirectoryLoader"
   ]
  },
  {
   "cell_type": "code",
   "execution_count": 7,
   "id": "769cc14a",
   "metadata": {},
   "outputs": [
    {
     "name": "stdout",
     "output_type": "stream",
     "text": [
      "78.30924820899963\n"
     ]
    }
   ],
   "source": [
    "\n",
    "start_time = time.time()\n",
    "\n",
    "pdf_folder_path = \"/Users/markc/Hydrogen_mini/\"\n",
    "loader = PyPDFDirectoryLoader(pdf_folder_path)\n",
    "data = loader.load_and_split()\n",
    "\n",
    "\n",
    "end_time = time.time()\n",
    "run_time = end_time-start_time\n",
    "print(run_time)\n",
    "\n",
    "# For 3900 pages...\n",
    "#loader.load() takes 137 sec. \n",
    "#loader.load_and_split() takes 129 sec.6800 pgs -> 300s"
   ]
  },
  {
   "cell_type": "code",
   "execution_count": 8,
   "id": "73c0ee9b",
   "metadata": {},
   "outputs": [
    {
     "name": "stdout",
     "output_type": "stream",
     "text": [
      "<class 'list'>\n"
     ]
    },
    {
     "data": {
      "text/plain": [
       "1462"
      ]
     },
     "execution_count": 8,
     "metadata": {},
     "output_type": "execute_result"
    }
   ],
   "source": [
    "print(type(data))\n",
    "data[111]\n",
    "len(data)"
   ]
  },
  {
   "cell_type": "code",
   "execution_count": 9,
   "id": "f1b7dde0",
   "metadata": {},
   "outputs": [
    {
     "data": {
      "text/plain": [
       "2924"
      ]
     },
     "execution_count": 9,
     "metadata": {},
     "output_type": "execute_result"
    }
   ],
   "source": [
    "df = pd.DataFrame(data)\n",
    "df.astype(str)\n",
    "df.rename(columns={0: 'input', 1: 'source'},inplace=True)\n",
    "df.size"
   ]
  },
  {
   "cell_type": "code",
   "execution_count": 10,
   "id": "88caff68",
   "metadata": {},
   "outputs": [
    {
     "name": "stdout",
     "output_type": "stream",
     "text": [
      "                                               input  \\\n",
      "0  ('page_content', 'NREL is a national laborator...   \n",
      "1  ('page_content', 'NREL is a national laborator...   \n",
      "2  ('page_content', 'NOTICE  \\nThis work was auth...   \n",
      "3  ('page_content', 'iii \\nThis report is availab...   \n",
      "4  ('page_content', 'iv \\nThis report is availabl...   \n",
      "5  ('page_content', 'v \\nThis report is available...   \n",
      "6  ('page_content', 'vi \\nThis report is availabl...   \n",
      "7  ('page_content', '4 While the combined technic...   \n",
      "8  ('page_content', 'vii \\nThis report is availab...   \n",
      "9  ('page_content', 'viii \\nThis report is availa...   \n",
      "\n",
      "                                              source  \n",
      "0  ('metadata', {'source': '\\\\Users\\\\markc\\\\Hydro...  \n",
      "1  ('metadata', {'source': '\\\\Users\\\\markc\\\\Hydro...  \n",
      "2  ('metadata', {'source': '\\\\Users\\\\markc\\\\Hydro...  \n",
      "3  ('metadata', {'source': '\\\\Users\\\\markc\\\\Hydro...  \n",
      "4  ('metadata', {'source': '\\\\Users\\\\markc\\\\Hydro...  \n",
      "5  ('metadata', {'source': '\\\\Users\\\\markc\\\\Hydro...  \n",
      "6  ('metadata', {'source': '\\\\Users\\\\markc\\\\Hydro...  \n",
      "7  ('metadata', {'source': '\\\\Users\\\\markc\\\\Hydro...  \n",
      "8  ('metadata', {'source': '\\\\Users\\\\markc\\\\Hydro...  \n",
      "9  ('metadata', {'source': '\\\\Users\\\\markc\\\\Hydro...  \n"
     ]
    }
   ],
   "source": [
    "# Convert columns to string so to_parquet will work\n",
    "df[df.columns[0]]=df[df.columns[0]].astype(str)\n",
    "df[df.columns[1]]=df[df.columns[1]].astype(str)\n",
    "print(df.head(10))"
   ]
  },
  {
   "cell_type": "code",
   "execution_count": 11,
   "id": "d1601a9d",
   "metadata": {},
   "outputs": [],
   "source": [
    "# Jenny from Estuary notes Parquet is \"not easy to work with\" so will try JSON format. \n",
    "# df.to_parquet('data.parquet')\n",
    "\n",
    "#convert to dataframe to JSON file\n",
    "json_data = df.to_json(orient='records')\n"
   ]
  },
  {
   "cell_type": "code",
   "execution_count": 12,
   "id": "d5425418",
   "metadata": {},
   "outputs": [],
   "source": [
    "with open('data.json', 'w') as file:\n",
    "    file.write(json_data)"
   ]
  },
  {
   "cell_type": "code",
   "execution_count": 13,
   "id": "fbfd9abd",
   "metadata": {},
   "outputs": [
    {
     "name": "stdout",
     "output_type": "stream",
     "text": [
      "95.45564579963684\n"
     ]
    }
   ],
   "source": [
    "# Efficient vectorstor method?\n",
    "# Setting vector indices for data\n",
    "start_time = time.time()\n",
    "\n",
    "index = VectorstoreIndexCreator(\n",
    "    vectorstore_cls=DocArrayInMemorySearch\n",
    ").from_loaders([loader])\n",
    "\n",
    "end_time = time.time()\n",
    "run_time = end_time-start_time\n",
    "print(run_time)"
   ]
  },
  {
   "cell_type": "code",
   "execution_count": 14,
   "id": "02d00bff",
   "metadata": {},
   "outputs": [],
   "source": [
    "# Why does chain_type not accept map_reduce?\n",
    "llm = ChatOpenAI(temperature = 0.0)\n",
    "qa = RetrievalQAWithSourcesChain.from_chain_type(\n",
    "    llm=llm, \n",
    "    chain_type=\"stuff\", \n",
    "    retriever=index.vectorstore.as_retriever(), \n",
    "    verbose=True,\n",
    "    return_source_documents=True,\n",
    "    chain_type_kwargs = {\n",
    "        \"document_separator\": \"<<<<>>>>>\"\n",
    "    }\n",
    ")"
   ]
  },
  {
   "cell_type": "markdown",
   "id": "aa9f22e2",
   "metadata": {},
   "source": [
    "# Coming up with test datapoints"
   ]
  },
  {
   "cell_type": "code",
   "execution_count": 15,
   "id": "6230250a",
   "metadata": {},
   "outputs": [
    {
     "data": {
      "text/plain": [
       "Document(page_content='Global Hydrogen Review 2022   \\nPAGE | 98  Hydrogen  production  \\n \\nOffshore wind can become a cost -effective option for hydrogen production at high full load \\nhours\\nHydrogen production costs from offshore wind in the Net Zero Emissions Scenario, 2030 (left figure)  \\nSupply cost curves for hydrogen production with offshore wind electricity generation, 2030 and 2050 (right figure)  \\n \\n \\nIEA. All rights reserved.  \\nThis map is without prejudice to the status of or sovereignty over any territory, to the delim itation of international frontiers and boundaries and to the name of any territory, city or area.  \\n \\nNote: Only sites with an annual average capacity factor above 20% are considered in the supply cost curves in the right figur e. \\nSource: Based on hourly wind data from Copernicus Climate Change Service, exclusive economic zones from Marine Regions  and protected areas from the World Database on \\nProtected Areas .', metadata={'source': '\\\\Users\\\\markc\\\\Hydrogen_mini\\\\GlobalHydrogenReview2022_IEA.pdf', 'page': 97})"
      ]
     },
     "execution_count": 15,
     "metadata": {},
     "output_type": "execute_result"
    }
   ],
   "source": [
    "data[410]"
   ]
  },
  {
   "cell_type": "code",
   "execution_count": 16,
   "id": "38eecccc",
   "metadata": {},
   "outputs": [
    {
     "data": {
      "text/plain": [
       "1462"
      ]
     },
     "execution_count": 16,
     "metadata": {},
     "output_type": "execute_result"
    }
   ],
   "source": [
    "len(data)"
   ]
  },
  {
   "cell_type": "markdown",
   "id": "8661bc8a",
   "metadata": {},
   "source": [
    "# LLM-Generated examples"
   ]
  },
  {
   "cell_type": "code",
   "execution_count": 78,
   "id": "1ec7977c",
   "metadata": {},
   "outputs": [],
   "source": [
    "# Four boxes below generate Q&A pair to evaluate model\n",
    "from langchain.evaluation.qa import QAGenerateChain\n",
    "\n",
    "# Pass in OpenIA language model to interact with chain\n",
    "example_gen_chain = QAGenerateChain.from_llm(ChatOpenAI())"
   ]
  },
  {
   "cell_type": "code",
   "execution_count": 79,
   "id": "6dc21c39",
   "metadata": {},
   "outputs": [],
   "source": [
    "import langchain\n",
    "langchain.debug = True"
   ]
  },
  {
   "cell_type": "code",
   "execution_count": 80,
   "id": "37eb538d",
   "metadata": {},
   "outputs": [
    {
     "name": "stdout",
     "output_type": "stream",
     "text": [
      "\u001b[32;1m\u001b[1;3m[chain/start]\u001b[0m \u001b[1m[1:chain:QAGenerateChain] Entering Chain run with input:\n",
      "\u001b[0m[inputs]\n",
      "\u001b[32;1m\u001b[1;3m[llm/start]\u001b[0m \u001b[1m[1:chain:QAGenerateChain > 2:llm:ChatOpenAI] Entering LLM run with input:\n",
      "\u001b[0m{\n",
      "  \"prompts\": [\n",
      "    \"Human: You are a teacher coming up with questions to ask on a quiz. \\nGiven the following document, please generate a question and answer based on that document.\\n\\nExample Format:\\n<Begin Document>\\n...\\n<End Document>\\nQUESTION: question here\\nANSWER: answer here\\n\\nThese questions should be detailed and be based explicitly on information in the document. Begin!\\n\\n<Begin Document>\\npage_content='NREL is a national laboratory of the U.S. Department of Energy  \\\\nOffice of Energy Efficiency & Renewable Energy  \\\\nOperated by the Alliance for Sustainable Energy, LLC  \\\\nThis report is available at no cost from the National Renewable Energy  \\\\nLaboratory (NREL) at www.nrel.gov/publications.   \\\\n Contract No. DE -AC36 -08GO28308  \\\\n  \\\\nTechnical Report  \\\\nNREL/TP -5400- 77198  \\\\nJuly 2020  Resource Assessment for Hydrogen \\\\nProduction  \\\\nElizabeth Connelly , Michael Penev, Anelia Milbrandt,  \\\\nBilly Roberts, Nicholas Gilroy , and Marc Melaina  \\\\nNational Renewable Energy Laboratory' metadata={'source': '\\\\\\\\Users\\\\\\\\markc\\\\\\\\Hydrogen_mini\\\\\\\\Conelly_HydrogenResource.pdf', 'page': 0}\\n<End Document>\",\n",
      "    \"Human: You are a teacher coming up with questions to ask on a quiz. \\nGiven the following document, please generate a question and answer based on that document.\\n\\nExample Format:\\n<Begin Document>\\n...\\n<End Document>\\nQUESTION: question here\\nANSWER: answer here\\n\\nThese questions should be detailed and be based explicitly on information in the document. Begin!\\n\\n<Begin Document>\\npage_content='NREL is a national laboratory of the U.S. Department of Energy  \\\\nOffice of Energy Efficiency & Renewable Energy  \\\\nOperated by the Alliance for Sustainable Energy, LLC  \\\\nThis report is available at no cost from the National Renewable Energy  \\\\nLaboratory (NREL) at www.nrel.gov/publications.   \\\\n Contract No. DE -AC36 -08GO28308  \\\\n National Renewable Energy Laboratory  \\\\n15013 Denver West Parkway  \\\\nGolden, CO 80401  \\\\n303-275-3000 • www.nrel.gov  Technical Report  \\\\nNREL/T P-5400- 77198  \\\\nJuly 2020  Resource Assessment for Hydrogen \\\\nProduction  \\\\nElizabeth Connelly, Michael Penev, Anelia Milbrandt,  \\\\nBilly Roberts, Nicholas Gilroy , and Marc Melaina  \\\\nNational Renewable Energy Laboratory  \\\\nSuggested Citation  \\\\nConnelly, Elizabeth, Michael Penev, Anelia Milbrandt, Billy Roberts, Nicholas Gilroy , and \\\\nMarc Melaina . 2020. Resource Assessment for Hydrogen Production. Golden, CO: \\\\nNational Renewable Energy Laboratory. NREL/ TP-5400- 77198. \\\\nhttps://www.nrel.gov/docs/fy20osti/77198.pdf' metadata={'source': '\\\\\\\\Users\\\\\\\\markc\\\\\\\\Hydrogen_mini\\\\\\\\Conelly_HydrogenResource.pdf', 'page': 1}\\n<End Document>\",\n",
      "    \"Human: You are a teacher coming up with questions to ask on a quiz. \\nGiven the following document, please generate a question and answer based on that document.\\n\\nExample Format:\\n<Begin Document>\\n...\\n<End Document>\\nQUESTION: question here\\nANSWER: answer here\\n\\nThese questions should be detailed and be based explicitly on information in the document. Begin!\\n\\n<Begin Document>\\npage_content='NOTICE  \\\\nThis work was authored by the National Renewable Energy Laboratory, operated by Alliance for Sustainable \\\\nEnergy, LLC, for the U.S. Department of Energy (DOE) under Contract No. DE -AC36 -08GO28308. Funding \\\\nprovided by U.S. Department of Energy Office of Energy Efficiency and Renewable Energy Hydrogen and Fuel Cell  \\\\nTechnologies Office. The views expressed herein do not necessarily represent the views of the DOE or the U.S. \\\\nGovernment.  \\\\nThis report is available at no cost from the National Renewable \\\\nEnergy  Labor atory (NREL) at www.nrel.gov/publications . \\\\nU.S. Department of Energy (DOE) reports produced after 1991 and a growing number of pre- 1991 documents are available  \\\\nfree via www.OSTI.gov\\\\n. \\\\nCover Photos by Dennis Schroeder: (clockwise, left to right) NREL 51934, NREL 45897, NREL 42160 , NREL  45891, NREL 48097,  \\\\nNREL 46526.  \\\\nNREL prints on paper that contains recycled content .' metadata={'source': '\\\\\\\\Users\\\\\\\\markc\\\\\\\\Hydrogen_mini\\\\\\\\Conelly_HydrogenResource.pdf', 'page': 2}\\n<End Document>\",\n",
      "    \"Human: You are a teacher coming up with questions to ask on a quiz. \\nGiven the following document, please generate a question and answer based on that document.\\n\\nExample Format:\\n<Begin Document>\\n...\\n<End Document>\\nQUESTION: question here\\nANSWER: answer here\\n\\nThese questions should be detailed and be based explicitly on information in the document. Begin!\\n\\n<Begin Document>\\npage_content='iii \\\\nThis report is available at no cost from the National Renewable Energy Laboratory at www.nrel.gov/publications . Acknowledgments  \\\\nFunding for this work was provided by the U.S. Department of Energy (DOE) Office of Energy \\\\nEfficiency and Renewable Energy Hydrogen and Fuel Cell Technologies Office. The authors \\\\nparticularly appreciat e the support and guidance provided by DOE program manager Fred \\\\nJoseck ; Office Director Sunita Satyapal; and acting Deputy Assistant Secretary for \\\\nTransportation Michael Berube .  \\\\nThe authors would also like to  acknowledge and thank Chad Hunter (NREL), Mark Ruth \\\\n(NREL), Tim Brown (First Element), Manussawee Sukunta (U.S. Energy Information \\\\nAdministration ), Michael Scott (U.S. Energy Information Administration), and Susan Schoenung \\\\n(Longitude 122 West)  for their comments and suggestions in reviewing earlier v ersion s of this \\\\nreport.  The authors also thank Richard Boardman (Idaho National Laboratory), Jim O’Brien \\\\n(Idaho National Laboratory), Tom O’Connor (DOE  Office of Nuclear Energy ), Becky Onuschak \\\\n(DOE  Office of Nuclear Energy ), Tim Beville (DOE  Office of Nuclear Energy ), and Alison \\\\nHahn (DOE  Office of Nuclear Energy ) for reviewing sections of the report rela ted to uranium \\\\nresource s. The authors thank Zia Haq (DOE  Bioenergy Technologies Office ) for reviewing the \\\\nbiomass section and assumptions . The authors also thank John Litynski (DOE  Office of Fossil \\\\nEnergy), Patrick Gilman (DOE  Wind Energy Technologies Office ), Avi Shultz (DOE  Solar \\\\nEnergy Technologies Office ), Tim  Ramsey (DOE  Water Power Technologies Office ), and Jeff \\\\nWinick (DOE  Geothermal Technologies Office ) for their helpful comments and suggestions. \\\\nThanks also go to Galen Maclaurin (NRE L), Paul Denholm (NREL) , and Shih- chieh Kao for \\\\nproviding data on technical resources. The authors also appreciate the review and guidance \\\\nprovided by Chri stopher  Munson (DOE) related to the fossil fuel resources. In addition, the \\\\nauthors thank the H2@Scale project team, including Fred Joseck (DOE) and  Neha Rustagi  \\\\n(DOE), for advice especially regarding visualizations presented in this report. Many \\\\nimproveme nts were made to the analysis and substance of the report in response to reviewer \\\\nfeedback.  \\\\nThe analysis results presented here build upon analysis work and data preparation completed for \\\\nearlier reports by Anelia Milbrandt  and Margaret  Mann  (2007; 2009) ; Marc Melaina, Michael \\\\nPenev , and Donna Heimiller (2013) ; and Anthony Lopez, Donna Heimiller, and other NREL \\\\nstaff (Lopez et al. 2012) . These earlier reports are cited when directly referenced. This analysis \\\\nalso builds upon previous  compari sons of  future hydrogen demands to projected energy supply \\\\ntrends in the 2011 Program Plan for the U.S. Department of Energy’s Fuel Cell Technologies \\\\nOffice (DOE 2011). These existing studies facilitated the process of updati ng data and resource \\\\nanalyses an d establishing  general framework  for discussing energy resources and hydrogen \\\\nproduction potentials .' metadata={'source': '\\\\\\\\Users\\\\\\\\markc\\\\\\\\Hydrogen_mini\\\\\\\\Conelly_HydrogenResource.pdf', 'page': 3}\\n<End Document>\",\n",
      "    \"Human: You are a teacher coming up with questions to ask on a quiz. \\nGiven the following document, please generate a question and answer based on that document.\\n\\nExample Format:\\n<Begin Document>\\n...\\n<End Document>\\nQUESTION: question here\\nANSWER: answer here\\n\\nThese questions should be detailed and be based explicitly on information in the document. Begin!\\n\\n<Begin Document>\\npage_content='iv \\\\nThis report is available at no cost from the National Renewable Energy Laboratory at www.nrel.gov/publications . Acronyms  \\\\nAEO  Annual Energy Outlook  \\\\nAWARE  available water remaining  \\\\nBAU  business as usual  \\\\nBtu British thermal units  \\\\nCSP concentrating solar power  \\\\nDOE  U.S. Department of Energy  \\\\nDRB  Demonstrated Reserve Base  \\\\nEERE  Energy Efficiency and Renewable Energy   \\\\nEGS  enhanced geothermal systems  \\\\nEHA  \\\\nEIA existing hydropower assets  \\\\nU.S. Energy Information Administration \\\\nFCEV  fuel cell electric vehicle  \\\\nGHG  greenhouse gas  \\\\nGREET  Greenhouse gases, Regulated Emissions, and Energy use in \\\\nTransportation \\\\nGW gigawatt  \\\\nGWh  gigawatt -hour \\\\nGWdt  gigawatt -days thermal  \\\\nH2A  Hydrogen Analysis  \\\\nHHV  higher heating value  \\\\nHTE  high-temperature electrolysis  \\\\nHTGR  high-temperature gas -cooled reactor  \\\\nIAEA  International Atomic Energy Ag ency  \\\\nkg kilogram  \\\\nkWh  kilowatt -hour \\\\nLDV  light-duty vehicle  \\\\nLHV  lower heating value  \\\\nLTE low-temperature electrolysis  \\\\nLWR  light-water reactor  \\\\nMHK  \\\\nMJ marine and hydrokinetics  \\\\nmegajoule' metadata={'source': '\\\\\\\\Users\\\\\\\\markc\\\\\\\\Hydrogen_mini\\\\\\\\Conelly_HydrogenResource.pdf', 'page': 4}\\n<End Document>\",\n",
      "    \"Human: You are a teacher coming up with questions to ask on a quiz. \\nGiven the following document, please generate a question and answer based on that document.\\n\\nExample Format:\\n<Begin Document>\\n...\\n<End Document>\\nQUESTION: question here\\nANSWER: answer here\\n\\nThese questions should be detailed and be based explicitly on information in the document. Begin!\\n\\n<Begin Document>\\npage_content='v \\\\nThis report is available at no cost from the National Renewable Energy Laboratory at www.nrel.gov/publications . MMT  million metric tonnes  \\\\nMW megawatt  \\\\nMWt  megawatt -thermal  \\\\nNEA  Nuclear Energy Agency  \\\\nNETL  National Energy Technology Laboratory  \\\\nNREL  National Renewable Energy Laboratory  \\\\nORNL  \\\\nPV Oak Ridge National Laboratory  \\\\nphotovoltaic \\\\nquad quadrillion Btu  \\\\nRAR  reasonably assured resources  \\\\nREF Renewable Electricity  Futures  \\\\nscf \\\\nTcf \\\\nton \\\\ntonne standard cubic feet  \\\\ntrillion cubic feet  \\\\nshort ton (2,000 lb) metric tonne (1 ,000 kg) \\\\nTWh  terawatt-hour \\\\nU uranium  \\\\nU3O8 uranium oxide  \\\\nUSGS  United States Geological Survey' metadata={'source': '\\\\\\\\Users\\\\\\\\markc\\\\\\\\Hydrogen_mini\\\\\\\\Conelly_HydrogenResource.pdf', 'page': 5}\\n<End Document>\",\n",
      "    \"Human: You are a teacher coming up with questions to ask on a quiz. \\nGiven the following document, please generate a question and answer based on that document.\\n\\nExample Format:\\n<Begin Document>\\n...\\n<End Document>\\nQUESTION: question here\\nANSWER: answer here\\n\\nThese questions should be detailed and be based explicitly on information in the document. Begin!\\n\\n<Begin Document>\\npage_content='vi \\\\nThis report is available at no cost from the National Renewable Energy Laboratory at www.nrel.gov/publications . Executive Summary  \\\\nIn support of the Spark M. Matsunaga Hydrogen Act of 2005 (Title VIII of the Energy Policy \\\\nAct) and in response to recommendations from the U.S.  Department of Energy’s ( DOE ’s) \\\\nHydrogen and Fuel Cell Technical Advisory Committee, the Hydrogen and Fuel Cell Tech nologies Office has been carrying out analyses to determine the availability of resources \\\\nwithin the United States  to provide hydrogen under different demand scenarios.\\\\n1 This analysis \\\\nwas conducted in support of DOE ’s H2@Scale initiative ,2 and this report examines the resources  \\\\nrequired to meet demand for an additional  10 million metric tonnes  (MMT)  of hydrogen in \\\\n2040.3    \\\\nThe technical potential of hydrogen production from fossil, nuclear, and renewable energy resources is presented . Updated maps describe the geographical distribution of hydrogen \\\\nproduction potential from renewable energy resources. The  results conclude that the technical \\\\nresource availabilit y of domestic energy resources is sufficient to meet an additional 10 MMT of \\\\nhydrogen demand in  2040, without placing significant pressure on existing resources.\\\\n4 Figure \\\\nES-1 shows the current (2017) and projected (2040) consumption of each energy resource, as \\\\nwell as the additional (individual) resource  required to produce 10 MMT of hydrogen in 2040. \\\\nWhile this level of hydrogen demand could result in a significant increase in renewable energy consumption in particular, the technical potential of each resource is estimated to be sufficient to meet the demand.  \\\\nFuture research , to enable the large -scale integration of hydrogen in the U.S. energy and other \\\\nsectors,  will include analyzing the geographic distribution of resources in relation to hydrogen \\\\ndemand  for a variety of applications. Additional techno -economic analysis is needed to \\\\nunderstand the economic potential of hydrogen in other industries, beyond transportation; such analysis is currently being undertaken by a multi- lab project initiated  by DOE in 2016. Finally, \\\\ninformation from techno-economic analyses should be used to continually update and inform R&D targets for energy production, hydrogen production, and hydrogen utilization technologies. \\\\n \\\\n1 The Spark M. Matsunaga Hydrogen Act of 2005 (Title VIII of the Energy Policy Act ; \\\\nhttps://www.gpo.gov/fdsys/pkg/PLAW -109publ58/pdf/PLAW -109publ58.pdf ) directed the Secretary of Energy to \\\\nconduct research activities “to address production of hydrogen from diverse energy resources including – fossil \\\\nfuels, which may include carbon capture and sequestration; hydrogen- carrier fuels (including ethanol and methanol); \\\\nrenewable energy resources, including biomass; and nuclear energy.”  This report ad dresses the technical potential of \\\\nhydrogen production from fossil fuels, renewable resources, and nuclear energy. Additionally, the Hydrogen \\\\nTechnical Advisory Committee recommended in 2017 that DOE take action to support “the potential for fuel shortages . For example, in Southern California where FCEV purchases have been strong, hydrogen fuel capacity is \\\\nbeing outpaced by demand. Sustained investments in additional production capacity buildout is needed. ” This report \\\\nidentifies the potential for diverse m ethods of hydrogen production to address two future scenarios of fuel demand \\\\nfrom fuel cell electric vehicles (FCEVs).\\\\n \\\\n2 https://www.energy.gov/eere/fuelcells/h2 -scale   \\\\n3 This future demand would be in addition to the current market demand of 10 MMT of hydrogen per year (Connelly \\\\net al. 2019). Currently, nearly all of the 10 MMT of commercially produced hydrogen is from natural gas steam methane reforming (EIA 2020).  \\\\n4 While the combined technical potential of domestic resources is more than sufficient to produce an additional 10' metadata={'source': '\\\\\\\\Users\\\\\\\\markc\\\\\\\\Hydrogen_mini\\\\\\\\Conelly_HydrogenResource.pdf', 'page': 6}\\n<End Document>\",\n",
      "    \"Human: You are a teacher coming up with questions to ask on a quiz. \\nGiven the following document, please generate a question and answer based on that document.\\n\\nExample Format:\\n<Begin Document>\\n...\\n<End Document>\\nQUESTION: question here\\nANSWER: answer here\\n\\nThese questions should be detailed and be based explicitly on information in the document. Begin!\\n\\n<Begin Document>\\npage_content='4 While the combined technical potential of domestic resources is more than sufficient to produce an additional 10 \\\\nMMT of hydrogen, this level of hydrogen production would require a significant portion of the technical potential of certain individual resources (e.g., >20% of water p ower potential). In general, this analysis assesses the ability of \\\\nindividual resources to meet future hydrogen demand.' metadata={'source': '\\\\\\\\Users\\\\\\\\markc\\\\\\\\Hydrogen_mini\\\\\\\\Conelly_HydrogenResource.pdf', 'page': 6}\\n<End Document>\",\n",
      "    \"Human: You are a teacher coming up with questions to ask on a quiz. \\nGiven the following document, please generate a question and answer based on that document.\\n\\nExample Format:\\n<Begin Document>\\n...\\n<End Document>\\nQUESTION: question here\\nANSWER: answer here\\n\\nThese questions should be detailed and be based explicitly on information in the document. Begin!\\n\\n<Begin Document>\\npage_content='vii \\\\nThis report is available at no cost from the National Renewable Energy Laboratory at www.nrel.gov/publications .  \\\\n \\\\nFigure ES -1. Comparison of energy resource required to produce 10 MMT of hydrogen to current \\\\nand projected energy consumption from the 2019 Annual Energy Outlook (AEO) Reference Case.5   \\\\nNote: The percentages listed in parentheses represent the percent  increase in 2040 projected energy consumption, \\\\nby resource, that would be required to produce 10 MMT of hydrogen .\\\\n \\\\n5 The demand for wind, solar, hydropower, and geothermal resources to produce 10 MMT of hydrogen is 513 \\\\nterawatt -hours , which is converted to quads using the U.S. Energy Information Administration ( EIA) fossil fuel heat \\\\nrate of 8,017 British thermal units per kilowatt- hour in 2040, to enable comparison with the EIA projected resource \\\\nconsumption estimates. As a result, the energy requirements for the low -temperature electrolysis pathways appear \\\\nhigher than coal and biomass gasification, despite having a higher conversion efficiency.' metadata={'source': '\\\\\\\\Users\\\\\\\\markc\\\\\\\\Hydrogen_mini\\\\\\\\Conelly_HydrogenResource.pdf', 'page': 7}\\n<End Document>\"\n",
      "  ]\n",
      "}\n"
     ]
    },
    {
     "name": "stdout",
     "output_type": "stream",
     "text": [
      "\u001b[36;1m\u001b[1;3m[llm/end]\u001b[0m \u001b[1m[1:chain:QAGenerateChain > 2:llm:ChatOpenAI] [9.94s] Exiting LLM run with output:\n",
      "\u001b[0m{\n",
      "  \"generations\": [\n",
      "    [\n",
      "      {\n",
      "        \"text\": \"QUESTION: What is the organization that operates the National Renewable Energy Laboratory (NREL)?\\n\\nANSWER: The Alliance for Sustainable Energy, LLC operates the National Renewable Energy Laboratory (NREL).\",\n",
      "        \"generation_info\": null,\n",
      "        \"message\": {\n",
      "          \"content\": \"QUESTION: What is the organization that operates the National Renewable Energy Laboratory (NREL)?\\n\\nANSWER: The Alliance for Sustainable Energy, LLC operates the National Renewable Energy Laboratory (NREL).\",\n",
      "          \"additional_kwargs\": {},\n",
      "          \"example\": false\n",
      "        }\n",
      "      }\n",
      "    ],\n",
      "    [\n",
      "      {\n",
      "        \"text\": \"QUESTION: What organization operates the National Renewable Energy Laboratory (NREL)?\\n\\nANSWER: The Alliance for Sustainable Energy, LLC operates the National Renewable Energy Laboratory (NREL).\",\n",
      "        \"generation_info\": null,\n",
      "        \"message\": {\n",
      "          \"content\": \"QUESTION: What organization operates the National Renewable Energy Laboratory (NREL)?\\n\\nANSWER: The Alliance for Sustainable Energy, LLC operates the National Renewable Energy Laboratory (NREL).\",\n",
      "          \"additional_kwargs\": {},\n",
      "          \"example\": false\n",
      "        }\n",
      "      }\n",
      "    ],\n",
      "    [\n",
      "      {\n",
      "        \"text\": \"QUESTION: Where can you find this report for free?\\nANSWER: This report is available at no cost from the National Renewable Energy Laboratory (NREL) at www.nrel.gov/publications.\",\n",
      "        \"generation_info\": null,\n",
      "        \"message\": {\n",
      "          \"content\": \"QUESTION: Where can you find this report for free?\\nANSWER: This report is available at no cost from the National Renewable Energy Laboratory (NREL) at www.nrel.gov/publications.\",\n",
      "          \"additional_kwargs\": {},\n",
      "          \"example\": false\n",
      "        }\n",
      "      }\n",
      "    ],\n",
      "    [\n",
      "      {\n",
      "        \"text\": \"QUESTION: Who provided funding for the work discussed in the document?\\n\\nANSWER: The U.S. Department of Energy (DOE) Office of Energy Efficiency and Renewable Energy Hydrogen and Fuel Cell Technologies Office provided funding for the work.\",\n",
      "        \"generation_info\": null,\n",
      "        \"message\": {\n",
      "          \"content\": \"QUESTION: Who provided funding for the work discussed in the document?\\n\\nANSWER: The U.S. Department of Energy (DOE) Office of Energy Efficiency and Renewable Energy Hydrogen and Fuel Cell Technologies Office provided funding for the work.\",\n",
      "          \"additional_kwargs\": {},\n",
      "          \"example\": false\n",
      "        }\n",
      "      }\n",
      "    ],\n",
      "    [\n",
      "      {\n",
      "        \"text\": \"QUESTION: What is the acronym for the U.S. Department of Energy?\\nANSWER: DOE\",\n",
      "        \"generation_info\": null,\n",
      "        \"message\": {\n",
      "          \"content\": \"QUESTION: What is the acronym for the U.S. Department of Energy?\\nANSWER: DOE\",\n",
      "          \"additional_kwargs\": {},\n",
      "          \"example\": false\n",
      "        }\n",
      "      }\n",
      "    ],\n",
      "    [\n",
      "      {\n",
      "        \"text\": \"QUESTION: What does the acronym MWt stand for?\\n\\nANSWER: The acronym MWt stands for megawatt-thermal.\",\n",
      "        \"generation_info\": null,\n",
      "        \"message\": {\n",
      "          \"content\": \"QUESTION: What does the acronym MWt stand for?\\n\\nANSWER: The acronym MWt stands for megawatt-thermal.\",\n",
      "          \"additional_kwargs\": {},\n",
      "          \"example\": false\n",
      "        }\n",
      "      }\n",
      "    ],\n",
      "    [\n",
      "      {\n",
      "        \"text\": \"QUESTION: What is the purpose of the report mentioned in the document?\\n\\nANSWER: The purpose of the report mentioned in the document is to examine the resources required to meet the demand for an additional 10 million metric tonnes (MMT) of hydrogen in 2040, in support of DOE's H2@Scale initiative.\",\n",
      "        \"generation_info\": null,\n",
      "        \"message\": {\n",
      "          \"content\": \"QUESTION: What is the purpose of the report mentioned in the document?\\n\\nANSWER: The purpose of the report mentioned in the document is to examine the resources required to meet the demand for an additional 10 million metric tonnes (MMT) of hydrogen in 2040, in support of DOE's H2@Scale initiative.\",\n",
      "          \"additional_kwargs\": {},\n",
      "          \"example\": false\n",
      "        }\n",
      "      }\n",
      "    ],\n",
      "    [\n",
      "      {\n",
      "        \"text\": \"QUESTION: According to the document, what is the combined technical potential of domestic resources for producing additional hydrogen?\\n\\nANSWER: The document states that the combined technical potential of domestic resources is more than sufficient to produce an additional 10 MMT of hydrogen.\",\n",
      "        \"generation_info\": null,\n",
      "        \"message\": {\n",
      "          \"content\": \"QUESTION: According to the document, what is the combined technical potential of domestic resources for producing additional hydrogen?\\n\\nANSWER: The document states that the combined technical potential of domestic resources is more than sufficient to produce an additional 10 MMT of hydrogen.\",\n",
      "          \"additional_kwargs\": {},\n",
      "          \"example\": false\n",
      "        }\n",
      "      }\n",
      "    ],\n",
      "    [\n",
      "      {\n",
      "        \"text\": \"QUESTION: According to the document, what is the source of this report and where can it be obtained for free?\\n\\nANSWER: The source of this report is the National Renewable Energy Laboratory and it can be obtained for free from their website at www.nrel.gov/publications.\",\n",
      "        \"generation_info\": null,\n",
      "        \"message\": {\n",
      "          \"content\": \"QUESTION: According to the document, what is the source of this report and where can it be obtained for free?\\n\\nANSWER: The source of this report is the National Renewable Energy Laboratory and it can be obtained for free from their website at www.nrel.gov/publications.\",\n",
      "          \"additional_kwargs\": {},\n",
      "          \"example\": false\n",
      "        }\n",
      "      }\n",
      "    ]\n",
      "  ],\n",
      "  \"llm_output\": {\n",
      "    \"token_usage\": {\n",
      "      \"prompt_tokens\": 4197,\n",
      "      \"completion_tokens\": 373,\n",
      "      \"total_tokens\": 4570\n",
      "    },\n",
      "    \"model_name\": \"gpt-3.5-turbo\"\n",
      "  },\n",
      "  \"run\": null\n",
      "}\n",
      "\u001b[36;1m\u001b[1;3m[chain/end]\u001b[0m \u001b[1m[1:chain:QAGenerateChain] [9.95s] Exiting Chain run with output:\n",
      "\u001b[0m{\n",
      "  \"outputs\": [\n",
      "    {\n",
      "      \"text\": \"QUESTION: What is the organization that operates the National Renewable Energy Laboratory (NREL)?\\n\\nANSWER: The Alliance for Sustainable Energy, LLC operates the National Renewable Energy Laboratory (NREL).\"\n",
      "    },\n",
      "    {\n",
      "      \"text\": \"QUESTION: What organization operates the National Renewable Energy Laboratory (NREL)?\\n\\nANSWER: The Alliance for Sustainable Energy, LLC operates the National Renewable Energy Laboratory (NREL).\"\n",
      "    },\n",
      "    {\n",
      "      \"text\": \"QUESTION: Where can you find this report for free?\\nANSWER: This report is available at no cost from the National Renewable Energy Laboratory (NREL) at www.nrel.gov/publications.\"\n",
      "    },\n",
      "    {\n",
      "      \"text\": \"QUESTION: Who provided funding for the work discussed in the document?\\n\\nANSWER: The U.S. Department of Energy (DOE) Office of Energy Efficiency and Renewable Energy Hydrogen and Fuel Cell Technologies Office provided funding for the work.\"\n",
      "    },\n",
      "    {\n",
      "      \"text\": \"QUESTION: What is the acronym for the U.S. Department of Energy?\\nANSWER: DOE\"\n",
      "    },\n",
      "    {\n",
      "      \"text\": \"QUESTION: What does the acronym MWt stand for?\\n\\nANSWER: The acronym MWt stands for megawatt-thermal.\"\n",
      "    },\n",
      "    {\n",
      "      \"text\": \"QUESTION: What is the purpose of the report mentioned in the document?\\n\\nANSWER: The purpose of the report mentioned in the document is to examine the resources required to meet the demand for an additional 10 million metric tonnes (MMT) of hydrogen in 2040, in support of DOE's H2@Scale initiative.\"\n",
      "    },\n",
      "    {\n",
      "      \"text\": \"QUESTION: According to the document, what is the combined technical potential of domestic resources for producing additional hydrogen?\\n\\nANSWER: The document states that the combined technical potential of domestic resources is more than sufficient to produce an additional 10 MMT of hydrogen.\"\n",
      "    },\n",
      "    {\n",
      "      \"text\": \"QUESTION: According to the document, what is the source of this report and where can it be obtained for free?\\n\\nANSWER: The source of this report is the National Renewable Energy Laboratory and it can be obtained for free from their website at www.nrel.gov/publications.\"\n",
      "    }\n",
      "  ]\n",
      "}\n"
     ]
    },
    {
     "ename": "ValueError",
     "evalue": "Could not parse output: QUESTION: What is the organization that operates the National Renewable Energy Laboratory (NREL)?\n\nANSWER: The Alliance for Sustainable Energy, LLC operates the National Renewable Energy Laboratory (NREL).",
     "output_type": "error",
     "traceback": [
      "\u001b[1;31m---------------------------------------------------------------------------\u001b[0m",
      "\u001b[1;31mValueError\u001b[0m                                Traceback (most recent call last)",
      "Cell \u001b[1;32mIn[80], line 3\u001b[0m\n\u001b[0;32m      1\u001b[0m \u001b[38;5;66;03m# Get back dictionary of question/answer pairs to evaluate\u001b[39;00m\n\u001b[0;32m      2\u001b[0m \u001b[38;5;66;03m#\u001b[39;00m\n\u001b[1;32m----> 3\u001b[0m new_examples \u001b[38;5;241m=\u001b[39m \u001b[43mexample_gen_chain\u001b[49m\u001b[38;5;241;43m.\u001b[39;49m\u001b[43mapply_and_parse\u001b[49m\u001b[43m(\u001b[49m\n\u001b[0;32m      4\u001b[0m \u001b[43m    \u001b[49m\u001b[43m[\u001b[49m\u001b[43m{\u001b[49m\u001b[38;5;124;43m\"\u001b[39;49m\u001b[38;5;124;43mdoc\u001b[39;49m\u001b[38;5;124;43m\"\u001b[39;49m\u001b[43m:\u001b[49m\u001b[43m \u001b[49m\u001b[43mt\u001b[49m\u001b[43m}\u001b[49m\u001b[43m \u001b[49m\u001b[38;5;28;43;01mfor\u001b[39;49;00m\u001b[43m \u001b[49m\u001b[43mt\u001b[49m\u001b[43m \u001b[49m\u001b[38;5;129;43;01min\u001b[39;49;00m\u001b[43m \u001b[49m\u001b[43mdata\u001b[49m\u001b[43m[\u001b[49m\u001b[43m:\u001b[49m\u001b[38;5;241;43m9\u001b[39;49m\u001b[43m]\u001b[49m\u001b[43m]\u001b[49m\n\u001b[0;32m      5\u001b[0m \u001b[43m)\u001b[49m\n",
      "File \u001b[1;32m~\\miniconda3\\lib\\site-packages\\langchain\\chains\\llm.py:257\u001b[0m, in \u001b[0;36mLLMChain.apply_and_parse\u001b[1;34m(self, input_list, callbacks)\u001b[0m\n\u001b[0;32m    255\u001b[0m \u001b[38;5;250m\u001b[39m\u001b[38;5;124;03m\"\"\"Call apply and then parse the results.\"\"\"\u001b[39;00m\n\u001b[0;32m    256\u001b[0m result \u001b[38;5;241m=\u001b[39m \u001b[38;5;28mself\u001b[39m\u001b[38;5;241m.\u001b[39mapply(input_list, callbacks\u001b[38;5;241m=\u001b[39mcallbacks)\n\u001b[1;32m--> 257\u001b[0m \u001b[38;5;28;01mreturn\u001b[39;00m \u001b[38;5;28;43mself\u001b[39;49m\u001b[38;5;241;43m.\u001b[39;49m\u001b[43m_parse_result\u001b[49m\u001b[43m(\u001b[49m\u001b[43mresult\u001b[49m\u001b[43m)\u001b[49m\n",
      "File \u001b[1;32m~\\miniconda3\\lib\\site-packages\\langchain\\chains\\llm.py:263\u001b[0m, in \u001b[0;36mLLMChain._parse_result\u001b[1;34m(self, result)\u001b[0m\n\u001b[0;32m    259\u001b[0m \u001b[38;5;28;01mdef\u001b[39;00m \u001b[38;5;21m_parse_result\u001b[39m(\n\u001b[0;32m    260\u001b[0m     \u001b[38;5;28mself\u001b[39m, result: List[Dict[\u001b[38;5;28mstr\u001b[39m, \u001b[38;5;28mstr\u001b[39m]]\n\u001b[0;32m    261\u001b[0m ) \u001b[38;5;241m-\u001b[39m\u001b[38;5;241m>\u001b[39m Sequence[Union[\u001b[38;5;28mstr\u001b[39m, List[\u001b[38;5;28mstr\u001b[39m], Dict[\u001b[38;5;28mstr\u001b[39m, \u001b[38;5;28mstr\u001b[39m]]]:\n\u001b[0;32m    262\u001b[0m     \u001b[38;5;28;01mif\u001b[39;00m \u001b[38;5;28mself\u001b[39m\u001b[38;5;241m.\u001b[39mprompt\u001b[38;5;241m.\u001b[39moutput_parser \u001b[38;5;129;01mis\u001b[39;00m \u001b[38;5;129;01mnot\u001b[39;00m \u001b[38;5;28;01mNone\u001b[39;00m:\n\u001b[1;32m--> 263\u001b[0m         \u001b[38;5;28;01mreturn\u001b[39;00m [\n\u001b[0;32m    264\u001b[0m             \u001b[38;5;28mself\u001b[39m\u001b[38;5;241m.\u001b[39mprompt\u001b[38;5;241m.\u001b[39moutput_parser\u001b[38;5;241m.\u001b[39mparse(res[\u001b[38;5;28mself\u001b[39m\u001b[38;5;241m.\u001b[39moutput_key]) \u001b[38;5;28;01mfor\u001b[39;00m res \u001b[38;5;129;01min\u001b[39;00m result\n\u001b[0;32m    265\u001b[0m         ]\n\u001b[0;32m    266\u001b[0m     \u001b[38;5;28;01melse\u001b[39;00m:\n\u001b[0;32m    267\u001b[0m         \u001b[38;5;28;01mreturn\u001b[39;00m result\n",
      "File \u001b[1;32m~\\miniconda3\\lib\\site-packages\\langchain\\chains\\llm.py:264\u001b[0m, in \u001b[0;36m<listcomp>\u001b[1;34m(.0)\u001b[0m\n\u001b[0;32m    259\u001b[0m \u001b[38;5;28;01mdef\u001b[39;00m \u001b[38;5;21m_parse_result\u001b[39m(\n\u001b[0;32m    260\u001b[0m     \u001b[38;5;28mself\u001b[39m, result: List[Dict[\u001b[38;5;28mstr\u001b[39m, \u001b[38;5;28mstr\u001b[39m]]\n\u001b[0;32m    261\u001b[0m ) \u001b[38;5;241m-\u001b[39m\u001b[38;5;241m>\u001b[39m Sequence[Union[\u001b[38;5;28mstr\u001b[39m, List[\u001b[38;5;28mstr\u001b[39m], Dict[\u001b[38;5;28mstr\u001b[39m, \u001b[38;5;28mstr\u001b[39m]]]:\n\u001b[0;32m    262\u001b[0m     \u001b[38;5;28;01mif\u001b[39;00m \u001b[38;5;28mself\u001b[39m\u001b[38;5;241m.\u001b[39mprompt\u001b[38;5;241m.\u001b[39moutput_parser \u001b[38;5;129;01mis\u001b[39;00m \u001b[38;5;129;01mnot\u001b[39;00m \u001b[38;5;28;01mNone\u001b[39;00m:\n\u001b[0;32m    263\u001b[0m         \u001b[38;5;28;01mreturn\u001b[39;00m [\n\u001b[1;32m--> 264\u001b[0m             \u001b[38;5;28;43mself\u001b[39;49m\u001b[38;5;241;43m.\u001b[39;49m\u001b[43mprompt\u001b[49m\u001b[38;5;241;43m.\u001b[39;49m\u001b[43moutput_parser\u001b[49m\u001b[38;5;241;43m.\u001b[39;49m\u001b[43mparse\u001b[49m\u001b[43m(\u001b[49m\u001b[43mres\u001b[49m\u001b[43m[\u001b[49m\u001b[38;5;28;43mself\u001b[39;49m\u001b[38;5;241;43m.\u001b[39;49m\u001b[43moutput_key\u001b[49m\u001b[43m]\u001b[49m\u001b[43m)\u001b[49m \u001b[38;5;28;01mfor\u001b[39;00m res \u001b[38;5;129;01min\u001b[39;00m result\n\u001b[0;32m    265\u001b[0m         ]\n\u001b[0;32m    266\u001b[0m     \u001b[38;5;28;01melse\u001b[39;00m:\n\u001b[0;32m    267\u001b[0m         \u001b[38;5;28;01mreturn\u001b[39;00m result\n",
      "File \u001b[1;32m~\\miniconda3\\lib\\site-packages\\langchain\\output_parsers\\regex.py:28\u001b[0m, in \u001b[0;36mRegexParser.parse\u001b[1;34m(self, text)\u001b[0m\n\u001b[0;32m     26\u001b[0m \u001b[38;5;28;01melse\u001b[39;00m:\n\u001b[0;32m     27\u001b[0m     \u001b[38;5;28;01mif\u001b[39;00m \u001b[38;5;28mself\u001b[39m\u001b[38;5;241m.\u001b[39mdefault_output_key \u001b[38;5;129;01mis\u001b[39;00m \u001b[38;5;28;01mNone\u001b[39;00m:\n\u001b[1;32m---> 28\u001b[0m         \u001b[38;5;28;01mraise\u001b[39;00m \u001b[38;5;167;01mValueError\u001b[39;00m(\u001b[38;5;124mf\u001b[39m\u001b[38;5;124m\"\u001b[39m\u001b[38;5;124mCould not parse output: \u001b[39m\u001b[38;5;132;01m{\u001b[39;00mtext\u001b[38;5;132;01m}\u001b[39;00m\u001b[38;5;124m\"\u001b[39m)\n\u001b[0;32m     29\u001b[0m     \u001b[38;5;28;01melse\u001b[39;00m:\n\u001b[0;32m     30\u001b[0m         \u001b[38;5;28;01mreturn\u001b[39;00m {\n\u001b[0;32m     31\u001b[0m             key: text \u001b[38;5;28;01mif\u001b[39;00m key \u001b[38;5;241m==\u001b[39m \u001b[38;5;28mself\u001b[39m\u001b[38;5;241m.\u001b[39mdefault_output_key \u001b[38;5;28;01melse\u001b[39;00m \u001b[38;5;124m\"\u001b[39m\u001b[38;5;124m\"\u001b[39m\n\u001b[0;32m     32\u001b[0m             \u001b[38;5;28;01mfor\u001b[39;00m key \u001b[38;5;129;01min\u001b[39;00m \u001b[38;5;28mself\u001b[39m\u001b[38;5;241m.\u001b[39moutput_keys\n\u001b[0;32m     33\u001b[0m         }\n",
      "\u001b[1;31mValueError\u001b[0m: Could not parse output: QUESTION: What is the organization that operates the National Renewable Energy Laboratory (NREL)?\n\nANSWER: The Alliance for Sustainable Energy, LLC operates the National Renewable Energy Laboratory (NREL)."
     ]
    }
   ],
   "source": [
    "# Get back dictionary of question/answer pairs to evaluate\n",
    "#\n",
    "new_examples = example_gen_chain.apply_and_parse(\n",
    "    [{\"doc\": t} for t in data[:9]]\n",
    ")"
   ]
  },
  {
   "cell_type": "code",
   "execution_count": 11,
   "id": "3416dfe6",
   "metadata": {},
   "outputs": [
    {
     "name": "stdout",
     "output_type": "stream",
     "text": [
      "\n",
      "\n",
      "\u001b[1m> Entering new RetrievalQA chain...\u001b[0m\n",
      "\n",
      "\u001b[1m> Finished chain.\u001b[0m\n"
     ]
    },
    {
     "data": {
      "text/plain": [
       "\"Since the publication of the 2021 Annual Evaluation, there have been a total of 8 new Open-Retail hydrogen fueling stations added to California's network, 6 of which opened in 2022.\""
      ]
     },
     "execution_count": 11,
     "metadata": {},
     "output_type": "execute_result"
    }
   ],
   "source": [
    "# See example\n",
    "new_examples[9]\n",
    "\n",
    "examples = []\n",
    "examples += new_examples\n",
    "\n",
    "qa.run(examples[9][\"query\"])"
   ]
  },
  {
   "cell_type": "code",
   "execution_count": 15,
   "id": "69b17e87",
   "metadata": {},
   "outputs": [],
   "source": []
  },
  {
   "cell_type": "code",
   "execution_count": 16,
   "id": "3b51a07b",
   "metadata": {},
   "outputs": [
    {
     "name": "stdout",
     "output_type": "stream",
     "text": [
      "\n",
      "\n",
      "\u001b[1m> Entering new RetrievalQA chain...\u001b[0m\n",
      "\n",
      "\u001b[1m> Finished chain.\u001b[0m\n"
     ]
    },
    {
     "data": {
      "text/plain": [
       "\"Since the 2021 Annual Evaluation was published, a total of 8 new Open-Retail hydrogen fueling stations have been added to California's network, 6 of which opened in 2022.\""
      ]
     },
     "execution_count": 16,
     "metadata": {},
     "output_type": "execute_result"
    }
   ],
   "source": []
  },
  {
   "cell_type": "markdown",
   "id": "289ecafa",
   "metadata": {},
   "source": [
    "# Manual Evaluation"
   ]
  },
  {
   "cell_type": "code",
   "execution_count": 12,
   "id": "40993c30",
   "metadata": {},
   "outputs": [],
   "source": [
    "import langchain\n",
    "langchain.debug = True"
   ]
  },
  {
   "cell_type": "code",
   "execution_count": 13,
   "id": "638d5879",
   "metadata": {},
   "outputs": [
    {
     "name": "stdout",
     "output_type": "stream",
     "text": [
      "\u001b[32;1m\u001b[1;3m[chain/start]\u001b[0m \u001b[1m[1:chain:RetrievalQA] Entering Chain run with input:\n",
      "\u001b[0m{\n",
      "  \"query\": \"Where was the source of the document located?\"\n",
      "}\n",
      "\u001b[32;1m\u001b[1;3m[chain/start]\u001b[0m \u001b[1m[1:chain:RetrievalQA > 2:chain:StuffDocumentsChain] Entering Chain run with input:\n",
      "\u001b[0m[inputs]\n",
      "\u001b[32;1m\u001b[1;3m[chain/start]\u001b[0m \u001b[1m[1:chain:RetrievalQA > 2:chain:StuffDocumentsChain > 3:chain:LLMChain] Entering Chain run with input:\n",
      "\u001b[0m{\n",
      "  \"question\": \"Where was the source of the document located?\",\n",
      "  \"context\": \"by-product sources.<<<<>>>>>information. Web posting. Summaries. \\nVerDate Sep 11 2014 12:25 Dec 28, 2021 Jkt 029139 PO 00058 Frm 00314 Fmt 6580 Sfmt 6581 E:\\\\PUBLAW\\\\PUBL058.117 PUBL058whamilton on LAPJF8D0R2PROD with PUBLAW<<<<>>>>>note. Records. Estimate. \\nVerDate Sep 11 2014 12:25 Dec 28, 2021 Jkt 029139 PO 00058 Frm 00345 Fmt 6580 Sfmt 6581 E:\\\\PUBLAW\\\\PUBL058.117 PUBL058whamilton on LAPJF8D0R2PROD with PUBLAW<<<<>>>>>1992 -UC-38; Pacific Northwest Laborator y: Richland, W A; 1976 .\"\n",
      "}\n",
      "\u001b[32;1m\u001b[1;3m[llm/start]\u001b[0m \u001b[1m[1:chain:RetrievalQA > 2:chain:StuffDocumentsChain > 3:chain:LLMChain > 4:llm:ChatOpenAI] Entering LLM run with input:\n",
      "\u001b[0m{\n",
      "  \"prompts\": [\n",
      "    \"System: Use the following pieces of context to answer the users question. \\nIf you don't know the answer, just say that you don't know, don't try to make up an answer.\\n----------------\\nby-product sources.<<<<>>>>>information. Web posting. Summaries. \\nVerDate Sep 11 2014 12:25 Dec 28, 2021 Jkt 029139 PO 00058 Frm 00314 Fmt 6580 Sfmt 6581 E:\\\\PUBLAW\\\\PUBL058.117 PUBL058whamilton on LAPJF8D0R2PROD with PUBLAW<<<<>>>>>note. Records. Estimate. \\nVerDate Sep 11 2014 12:25 Dec 28, 2021 Jkt 029139 PO 00058 Frm 00345 Fmt 6580 Sfmt 6581 E:\\\\PUBLAW\\\\PUBL058.117 PUBL058whamilton on LAPJF8D0R2PROD with PUBLAW<<<<>>>>>1992 -UC-38; Pacific Northwest Laborator y: Richland, W A; 1976 .\\nHuman: Where was the source of the document located?\"\n",
      "  ]\n",
      "}\n",
      "\u001b[36;1m\u001b[1;3m[llm/end]\u001b[0m \u001b[1m[1:chain:RetrievalQA > 2:chain:StuffDocumentsChain > 3:chain:LLMChain > 4:llm:ChatOpenAI] [2.33s] Exiting LLM run with output:\n",
      "\u001b[0m{\n",
      "  \"generations\": [\n",
      "    [\n",
      "      {\n",
      "        \"text\": \"The source of the document is not specified.\",\n",
      "        \"generation_info\": null,\n",
      "        \"message\": {\n",
      "          \"content\": \"The source of the document is not specified.\",\n",
      "          \"additional_kwargs\": {},\n",
      "          \"example\": false\n",
      "        }\n",
      "      }\n",
      "    ]\n",
      "  ],\n",
      "  \"llm_output\": {\n",
      "    \"token_usage\": {\n",
      "      \"prompt_tokens\": 260,\n",
      "      \"completion_tokens\": 9,\n",
      "      \"total_tokens\": 269\n",
      "    },\n",
      "    \"model_name\": \"gpt-3.5-turbo\"\n",
      "  },\n",
      "  \"run\": null\n",
      "}\n",
      "\u001b[36;1m\u001b[1;3m[chain/end]\u001b[0m \u001b[1m[1:chain:RetrievalQA > 2:chain:StuffDocumentsChain > 3:chain:LLMChain] [2.33s] Exiting Chain run with output:\n",
      "\u001b[0m{\n",
      "  \"text\": \"The source of the document is not specified.\"\n",
      "}\n",
      "\u001b[36;1m\u001b[1;3m[chain/end]\u001b[0m \u001b[1m[1:chain:RetrievalQA > 2:chain:StuffDocumentsChain] [2.33s] Exiting Chain run with output:\n",
      "\u001b[0m{\n",
      "  \"output_text\": \"The source of the document is not specified.\"\n",
      "}\n",
      "\u001b[36;1m\u001b[1;3m[chain/end]\u001b[0m \u001b[1m[1:chain:RetrievalQA] [2.96s] Exiting Chain run with output:\n",
      "\u001b[0m{\n",
      "  \"result\": \"The source of the document is not specified.\"\n",
      "}\n"
     ]
    },
    {
     "data": {
      "text/plain": [
       "'The source of the document is not specified.'"
      ]
     },
     "execution_count": 13,
     "metadata": {},
     "output_type": "execute_result"
    }
   ],
   "source": [
    "qa.run(examples[4][\"query\"])"
   ]
  },
  {
   "cell_type": "code",
   "execution_count": 86,
   "id": "f86eb6c8",
   "metadata": {},
   "outputs": [],
   "source": [
    "langchain.debug = False"
   ]
  },
  {
   "cell_type": "code",
   "execution_count": 19,
   "id": "24c92c18",
   "metadata": {},
   "outputs": [
    {
     "name": "stdout",
     "output_type": "stream",
     "text": [
      "\n",
      "\n",
      "\u001b[1m> Entering new RetrievalQA chain...\u001b[0m\n",
      "\n",
      "\u001b[1m> Finished chain.\u001b[0m\n",
      "\n",
      "\n",
      "\u001b[1m> Entering new RetrievalQA chain...\u001b[0m\n",
      "\n",
      "\u001b[1m> Finished chain.\u001b[0m\n",
      "\n",
      "\n",
      "\u001b[1m> Entering new RetrievalQA chain...\u001b[0m\n",
      "\n",
      "\u001b[1m> Finished chain.\u001b[0m\n",
      "\n",
      "\n",
      "\u001b[1m> Entering new RetrievalQA chain...\u001b[0m\n",
      "\n",
      "\u001b[1m> Finished chain.\u001b[0m\n",
      "\n",
      "\n",
      "\u001b[1m> Entering new RetrievalQA chain...\u001b[0m\n",
      "\n",
      "\u001b[1m> Finished chain.\u001b[0m\n",
      "\n",
      "\n",
      "\u001b[1m> Entering new RetrievalQA chain...\u001b[0m\n",
      "\n",
      "\u001b[1m> Finished chain.\u001b[0m\n",
      "\n",
      "\n",
      "\u001b[1m> Entering new RetrievalQA chain...\u001b[0m\n",
      "\n",
      "\u001b[1m> Finished chain.\u001b[0m\n",
      "\n",
      "\n",
      "\u001b[1m> Entering new RetrievalQA chain...\u001b[0m\n",
      "\n",
      "\u001b[1m> Finished chain.\u001b[0m\n",
      "\n",
      "\n",
      "\u001b[1m> Entering new RetrievalQA chain...\u001b[0m\n",
      "\n",
      "\u001b[1m> Finished chain.\u001b[0m\n",
      "\n",
      "\n",
      "\u001b[1m> Entering new RetrievalQA chain...\u001b[0m\n",
      "\n",
      "\u001b[1m> Finished chain.\u001b[0m\n"
     ]
    }
   ],
   "source": [
    "predictions = qa.apply(examples)"
   ]
  },
  {
   "cell_type": "code",
   "execution_count": 20,
   "id": "e67f1ee8",
   "metadata": {},
   "outputs": [],
   "source": [
    "# QAEvalChain evaluates question answer pairs\n",
    "from langchain.evaluation.qa import QAEvalChain"
   ]
  },
  {
   "cell_type": "code",
   "execution_count": 21,
   "id": "5176ada8",
   "metadata": {},
   "outputs": [],
   "source": [
    "# Create above chain with language model. LLM will help do evaluation\n",
    "llm = ChatOpenAI(temperature=0)\n",
    "eval_chain = QAEvalChain.from_llm(llm)"
   ]
  },
  {
   "cell_type": "code",
   "execution_count": 22,
   "id": "062691fd",
   "metadata": {},
   "outputs": [
    {
     "ename": "NameError",
     "evalue": "name 'examples' is not defined",
     "output_type": "error",
     "traceback": [
      "\u001b[1;31m---------------------------------------------------------------------------\u001b[0m",
      "\u001b[1;31mNameError\u001b[0m                                 Traceback (most recent call last)",
      "Cell \u001b[1;32mIn[22], line 2\u001b[0m\n\u001b[0;32m      1\u001b[0m \u001b[38;5;66;03m# Get back graded outputs\u001b[39;00m\n\u001b[1;32m----> 2\u001b[0m graded_outputs \u001b[38;5;241m=\u001b[39m eval_chain\u001b[38;5;241m.\u001b[39mevaluate(\u001b[43mexamples\u001b[49m, predictions)\n",
      "\u001b[1;31mNameError\u001b[0m: name 'examples' is not defined"
     ]
    }
   ],
   "source": [
    "# Get back graded outputs\n",
    "graded_outputs = eval_chain.evaluate(examples, predictions)"
   ]
  },
  {
   "cell_type": "code",
   "execution_count": 23,
   "id": "74e0bee0",
   "metadata": {
    "scrolled": true
   },
   "outputs": [
    {
     "name": "stdout",
     "output_type": "stream",
     "text": [
      "Example 0:\n",
      "Question: What is the title of the report and what legislation is it pursuant to?\n",
      "Real Answer: The title of the report is \"2022 Annual Evaluation of Fuel Cell Electric Vehicle Deployment and Hydrogen Fuel Station Network Development\" and it is pursuant to Assembly Bill 8, also known as Perea, Chapter 401, Statutes of 2013.\n",
      "Predicted Answer: The context does not provide a clear answer to this question. However, it mentions several reports that the Secretary and Chiefs are required to submit to Congress, including a report with recommendations to Congress relating to the Program, a report describing methods, and additional reports for fiscal years 2022 and 2023. The legislation that these reports are pursuant to is also not specified in the context.\n",
      "Predicted Grade: INCORRECT\n",
      "\n",
      "Example 1:\n",
      "Question: Who reviewed and approved the report for publication?\n",
      "Real Answer: The staff of the California Air Resources Board (CARB) reviewed and approved the report for publication.\n",
      "Predicted Answer: The report was reviewed by a panel of expert peer reviewers, including Professor Jack Brouwer, Professor Michael Kuby, Dr. Marc Melaina, Professor Joan Ogden, and Michael Penev, MBA, as well as several other reviewers listed in the context. However, it is not specified who approved the report for publication.\n",
      "Predicted Grade: INCORRECT\n",
      "\n",
      "Example 2:\n",
      "Question: What is CARB's mission statement?\n",
      "Real Answer: CARB's mission is to promote and protect public health, welfare, and ecological resources through effective reduction of air pollutants while recognizing and considering effects on the economy.\n",
      "Predicted Answer: CARB's mission is to promote and protect public health, welfare, and ecological resources through effective reduction of air pollutants while recognizing and considering effects on the economy. CARB is the lead agency for climate change programs and oversees all air pollution control efforts in California to attain and maintain health-based air quality standards.\n",
      "Predicted Grade: CORRECT\n",
      "\n",
      "Example 3:\n",
      "Question: What is the purpose of the document mentioned in the metadata?\n",
      "Real Answer: The purpose of the document mentioned in the metadata is to provide information and analysis on the progress, provisions, and developments related to hydrogen fueling infrastructure in California.\n",
      "Predicted Answer: I'm sorry, but I cannot determine the document you are referring to as there is no mention of a specific document in the metadata provided. The metadata only includes snippets of text from different sections of different documents, making it difficult to determine the purpose of any specific document. Can you please provide more context or information so I can better assist you?\n",
      "Predicted Grade: CORRECT\n",
      "\n",
      "Example 4:\n",
      "Question: Where was the source of the document located?\n",
      "Real Answer: The source of the document was located in the file path '\\\\Users\\\\markc\\\\Hydrogen\\\\AB-8-Report-2022_CARB.pdf'.\n",
      "Predicted Answer: The source of the document is not specified.\n",
      "Predicted Grade: INCORRECT\n",
      "\n",
      "Example 5:\n",
      "Question: What does the acronym \"LCFS\" stand for?\n",
      "Real Answer: \"LCFS\" stands for \"Low Carbon Fuel Standard\".\n",
      "Predicted Answer: The acronym \"LCFS\" stands for \"Low Carbon Fuel Standard\".\n",
      "Predicted Grade: CORRECT\n",
      "\n",
      "Example 6:\n",
      "Question: What is the source of the document and on which page is the content located?\n",
      "Real Answer: The source of the document is '\\\\Users\\\\markc\\\\Hydrogen\\\\AB-8-Report-2022_CARB.pdf' and the content is located on page 6.\n",
      "Predicted Answer: The source of the document is not specified and there is no content located on the page as it is intentionally left blank.\n",
      "Predicted Grade: INCORRECT\n",
      "\n",
      "Example 7:\n",
      "Question: What is the goal of the Advanced Clean Cars II (ACC II) regulation proposed by the California Air Resources Board (CARB)?\n",
      "Real Answer: The goal of the Advanced Clean Cars II (ACC II) regulation proposed by the California Air Resources Board (CARB) is to achieve 100 percent zero-emission vehicle (ZEV) sales of new light-duty vehicles in California by 2035, as outlined in Governor Newsom’s Executive Order (EO) N-79-20.\n",
      "Predicted Answer: The goal of the Advanced Clean Cars II (ACC II) regulation proposed by the California Air Resources Board (CARB) is to achieve 100 percent zero-emission vehicle (ZEV) sales of new light-duty vehicles in California by 2035, as outlined by Governor Newsom's Executive Order (EO) N-79-20. This regulation aims to enable a transition to zero-emission transportation across all transportation sectors in California, including light-duty, medium-duty, heavy-duty, on-road, and off-road vehicles.\n",
      "Predicted Grade: CORRECT\n",
      "\n",
      "Example 8:\n",
      "Question: What is the purpose of California's Assembly Bill 8?\n",
      "Real Answer: California's Assembly Bill 8 (AB 8) provides the Energy Commission with up to $20 million annually through the end of 2023 to co-fund the development of hydrogen fueling stations in California. The goal is to address the hurdle of fueling infrastructure and ensure that FCEV use expands and becomes a viable ZEV option for an increasing number of Californians in the future. AB 8 requires that reports provide analysis of current and projected future FCEV deployment and hydrogen fueling station development and identify needs for further hydrogen station network development.\n",
      "Predicted Answer: The purpose of California's Assembly Bill 8 is to provide a financial resource to several programs through a fee applied to vehicle and vessel registrations, and to support the development and deployment of advanced transportation and fuel technologies, including supporting infrastructure for both hydrogen-fueled fuel cell electric vehicles (FCEVs) and electrically charged battery electric vehicles. The program was extended in 2013 with new provisions to co-fund the development of public hydrogen fueling stations.\n",
      "Predicted Grade: CORRECT\n",
      "\n",
      "Example 9:\n",
      "Question: How many new hydrogen fueling stations achieved Open-Retail status in California since the publication of the 2021 Annual Evaluation?\n",
      "Real Answer: Eight new hydrogen fueling stations achieved Open-Retail status in California since the publication of the 2021 Annual Evaluation.\n",
      "Predicted Answer: Since the publication of the 2021 Annual Evaluation, there have been a total of 8 new Open-Retail hydrogen fueling stations added to California's network, 6 of which opened in 2022.\n",
      "Predicted Grade: CORRECT\n",
      "\n"
     ]
    }
   ],
   "source": [
    "# All below are output by the language mdoel\n",
    "for i, eg in enumerate(examples):\n",
    "    print(f\"Example {i}:\")\n",
    "    print(\"Question: \" + predictions[i]['query'])\n",
    "    print(\"Real Answer: \" + predictions[i]['answer'])\n",
    "    print(\"Predicted Answer: \" + predictions[i]['result'])\n",
    "    print(\"Predicted Grade: \" + graded_outputs[i]['text'])\n",
    "    print()"
   ]
  },
  {
   "cell_type": "markdown",
   "id": "c0544ae3",
   "metadata": {},
   "source": [
    "## Key Questions/Concerns for Dev"
   ]
  },
  {
   "cell_type": "code",
   "execution_count": 69,
   "id": "175e4298",
   "metadata": {},
   "outputs": [],
   "source": [
    "# What to do if predicted answers incorrect?\n",
    "# QAEvalChain spit out the same question multiple times\n",
    "# Try to access the UI that tracks what is going on \n",
    "#  under the hood (from langchain plus)\n",
    "# --generate flywheel of datapoints to learn from!!!!\n",
    "\n"
   ]
  },
  {
   "cell_type": "markdown",
   "id": "c5dbfce8",
   "metadata": {},
   "source": [
    "### Try to query this new vectorstor database"
   ]
  },
  {
   "cell_type": "code",
   "execution_count": 17,
   "id": "5680fa5c",
   "metadata": {},
   "outputs": [],
   "source": [
    "query = \"What system design results in the lowest hydrogen breakeven cost? \\\n",
    "What is that cost in USD/kg? Is this with or without subsidies? Use markdown to describe.\"\n",
    "\n",
    "# Decent answer. High level, but limited by propmt."
   ]
  },
  {
   "cell_type": "code",
   "execution_count": 18,
   "id": "860a705b",
   "metadata": {},
   "outputs": [],
   "source": [
    "query2 = \"What are the major challenges to deploying hydrogen and how can they become overcome?. \\\n",
    "Use bulleted markdown list to describe.\"\n",
    "\n",
    "# Decent answer. Relatively high level. Same as ChatGPT."
   ]
  },
  {
   "cell_type": "code",
   "execution_count": 19,
   "id": "7f797b4e",
   "metadata": {},
   "outputs": [],
   "source": [
    "query3 = \"I wish to deploy hydrogen production in California. What technology should I use, where shoult it be placed,  \\\n",
    "what commercial models are suggested, and what federal or state incentives are applicable? Use markdown to describe.\"\n",
    "\n",
    "# Not a good answer. Very generic."
   ]
  },
  {
   "cell_type": "code",
   "execution_count": 20,
   "id": "f568fd40",
   "metadata": {},
   "outputs": [],
   "source": [
    "query4 = \"What federal incentives exist for hydrogen production? \\\n",
    "Use markdown to describe.\"\n",
    "\n",
    "# Not specific enough answer. ChatGPT has better answer."
   ]
  },
  {
   "cell_type": "code",
   "execution_count": 21,
   "id": "b561445a",
   "metadata": {},
   "outputs": [],
   "source": [
    "query5 = \"What are ideal conditions for hydrogen in use as long duration storage? \\\n",
    "Use markdown to describe in fewer than 800 words in bulleted list and list hydrogen's top competitors.\"\n",
    "\n",
    "# Good answer."
   ]
  },
  {
   "cell_type": "code",
   "execution_count": 22,
   "id": "83e6eb5d",
   "metadata": {},
   "outputs": [],
   "source": [
    "query6 = \"You are an investor. What are ideal conditions and locations for hydrogen for use as long duration storage? \\\n",
    "Use markdown to describe in fewer than 800 words.\""
   ]
  },
  {
   "cell_type": "code",
   "execution_count": 23,
   "id": "763e34d5",
   "metadata": {},
   "outputs": [],
   "source": [
    "query7 = \"Please describe how a PEM electrolyzer, alkaline electrolyzer, and solid oxide electrolyzer work. What are advantages and disadvantages for each? \\\n",
    "What is the average levelized cost of hydrogen production (in USD/kg) for each? Use markdown to describe in fewer than 1000 words.\"\n",
    "\n",
    "# Good answer"
   ]
  },
  {
   "cell_type": "code",
   "execution_count": 24,
   "id": "9f463bde",
   "metadata": {},
   "outputs": [],
   "source": [
    "# Trying to gauge breadth and depth of model's knowledge\n",
    "\n",
    "query8 = \"Please tell me the most cost-effective, scalable ways to decarbonize with hydrogen and \\\n",
    "the applications which hydrogen is most competitive in  decarbonizing. Do this in markdown in a bulleted list.\"\n",
    "\n",
    "# Decent answer. Lacks a bit of detail."
   ]
  },
  {
   "cell_type": "code",
   "execution_count": 25,
   "id": "87d4f73a",
   "metadata": {},
   "outputs": [],
   "source": [
    "query9 = \"Please list the highest TRL hydrogen production methods and the range of their levelized cost of production in USD/kg. \\\n",
    "Do this in markdown in a bulleted list.\"\n",
    "\n",
    "#Good response. Same as ChatGPT"
   ]
  },
  {
   "cell_type": "code",
   "execution_count": 26,
   "id": "c21ab7af",
   "metadata": {},
   "outputs": [],
   "source": [
    "query10 = \"What clean energy technologies are most competitive with hydrogen? \\\n",
    "What technologies are complementary to hydrogen? Display results in markdown in a table.\"\n",
    "\n",
    "#Poor response - probably due to knowledge base"
   ]
  },
  {
   "cell_type": "code",
   "execution_count": 27,
   "id": "b82d98aa",
   "metadata": {},
   "outputs": [],
   "source": [
    "query11 = \"What are the main hydrogen provisions in the Clean Hydrogen Act? \\\n",
    "Create a bulleted list with short description. Display results in markdown in a table.\"\n",
    "\n",
    "#Poor response - probably due to knowledge base"
   ]
  },
  {
   "cell_type": "markdown",
   "id": "d796d08b",
   "metadata": {},
   "source": [
    "### Added questions with larger database"
   ]
  },
  {
   "cell_type": "code",
   "execution_count": 28,
   "id": "33253d5d",
   "metadata": {},
   "outputs": [],
   "source": [
    "query12 = \"Describe in details what the optimal path is to decarbonize California's grid. \\\n",
    "provide detail in no more than 1000 words and use a bulleted list in markdown to describe. \\\n",
    "What are the main renewable technologies California plans to use?\"\n",
    "\n",
    "# Decent answer, but very high level. Might be a result of information"
   ]
  },
  {
   "cell_type": "code",
   "execution_count": 29,
   "id": "16afa30f",
   "metadata": {},
   "outputs": [],
   "source": [
    "query13 = \"What are the major challenges in using hydrogen in existing existing oil & gas infrastructure? \\\n",
    " Provide a response in fewer than 1500 words using markdown.\"\n",
    "\n",
    "# Great answer. Slightly better than ChatGPT."
   ]
  },
  {
   "cell_type": "code",
   "execution_count": 30,
   "id": "6cbddfb3",
   "metadata": {},
   "outputs": [],
   "source": [
    "query14 = \"Describe hydrogen's main physical characteristics such as flammability range, energy density, ignition energy, etc. \\\n",
    "Include the top 10 most cited physical characteristics and output in markdwon table.\"\n",
    "\n",
    "# Wow! Great answer. Same as ChatGPT."
   ]
  },
  {
   "cell_type": "code",
   "execution_count": 31,
   "id": "d69335ae",
   "metadata": {},
   "outputs": [],
   "source": [
    "query15 = \"How does the cost of producing hydrogen from electrolysis compare with SMR w/CCS? \\\n",
    "Are there any particular regions in the US where electrolytic hydrogen is more cost effective? What makes that so? \\\n",
    "Provide an answer in bulleted list form in markdown. \"\n",
    "\n",
    "# Not a great answer. I feel prompt may be too generic."
   ]
  },
  {
   "cell_type": "code",
   "execution_count": 32,
   "id": "3c203c82",
   "metadata": {},
   "outputs": [],
   "source": [
    "query16 = \"How should I think about deploying cost-effective electrolytic hydrogen? What are the major considerations? \\\n",
    "Provide an answer in bulleted list form in markdown. \"\n",
    "\n",
    "# Good answer. Same as ChatGPT"
   ]
  },
  {
   "cell_type": "code",
   "execution_count": 33,
   "id": "c1919d35",
   "metadata": {},
   "outputs": [],
   "source": [
    "query17 = \"What are some ways to invest in the hydrogen market? Briefly describe each opportunity \\\n",
    "Provide an answer in bulleted list form in markdown in fewer than 1000 words. \"\n",
    "\n",
    "# Good answer. Nearly same as ChatGPT."
   ]
  },
  {
   "cell_type": "code",
   "execution_count": 34,
   "id": "90b18ceb",
   "metadata": {},
   "outputs": [],
   "source": [
    "query18 = \"Describe how CCS and CCUS work. What is the approximate cost of each technology? How do they pair with  \\\n",
    "hydrogen technologies? Provide an answer in bulleted list form in markdown in fewer than 1000 words. \"\n",
    "\n",
    "# Good answer"
   ]
  },
  {
   "cell_type": "code",
   "execution_count": 35,
   "id": "4ad041fc",
   "metadata": {},
   "outputs": [],
   "source": [
    "query19 = \"Describe the key differences between SMR and ATR. What are they? Which process is more efficient? \\\n",
    "Which technology is more cost effective? Provide an answer in bulleted list form in markdown in fewer than 1000 words. \"\n",
    "\n",
    "# Good answer. About same as ChatGPT."
   ]
  },
  {
   "cell_type": "code",
   "execution_count": 36,
   "id": "604e7c4a",
   "metadata": {},
   "outputs": [],
   "source": [
    "query20 = \"What carbon capture technologies should I consider for a SMR unit? How about for an ATR unit? \\\n",
    "What are the advantages and disadvantages for each carbon capture technology when paired with SMR or ATR? \\\n",
    "Provide an answer in bulleted list form in markdown in fewer than 2000 words. \"\n",
    "\n",
    "# Good answer"
   ]
  },
  {
   "cell_type": "code",
   "execution_count": 37,
   "id": "7d73c954",
   "metadata": {},
   "outputs": [],
   "source": [
    "query21 = \"How much does it cost to construct a natural gas pipeline? How about a hydrogen pipeline? \\\n",
    "What are the major differenences between the two? \\\n",
    "Provide an answer in bulleted list in markdown in fewer than 2000 words. \"\n",
    "\n",
    "# very mediocre answer. Need more depth here in this topic."
   ]
  },
  {
   "cell_type": "code",
   "execution_count": 38,
   "id": "d8c847d2",
   "metadata": {},
   "outputs": [],
   "source": [
    "query22 = \"How does liquefaction of hydrogen work? What is the cost of liquefaction at various scales? \\\n",
    "In what scenarios is gaseous delivery of hydrogen less economic the delivery of liquid hydrogen? \\\n",
    "Provide an answer in a bulleted list form in markdown in fewer than 1500 words. \"\n",
    "\n",
    "# Pretty good 1st order answer"
   ]
  },
  {
   "cell_type": "code",
   "execution_count": 39,
   "id": "bfb14eb7",
   "metadata": {},
   "outputs": [],
   "source": [
    "query23 = \"Provide an overview of the various hydrogen carriers that could be used to transport hydrogen. \\\n",
    "How do the costs of each carrier compare? In what scnearios is one carrier favored over others? \\\n",
    "Provide an answer in a table form in markdown in fewer than 1500 words. \"\n",
    "\n",
    "# Pretty good 1st order answer. About the same as ChatGPT"
   ]
  },
  {
   "cell_type": "code",
   "execution_count": 40,
   "id": "8cb016dd",
   "metadata": {},
   "outputs": [],
   "source": [
    "query24 = \"Provide an overview of how natural hydrogen is produced. What are the processes? Where can it be found? \\\n",
    "Provide an answer in a table form in markdown in fewer than 1500 words. \"\n",
    "\n",
    "# Pretty good 1st order answer"
   ]
  },
  {
   "cell_type": "code",
   "execution_count": 41,
   "id": "346126c0",
   "metadata": {},
   "outputs": [],
   "source": [
    "query25 = \"Provide an in-depth review of how natural hydrogen occurs. What are the different processes? Where can it be found? \\\n",
    "Provide an answer in a table form in markdown in fewer than 3000 words. \"\n",
    "\n",
    "# Not a great answer. Why is this? ChatGPT's answer is far worse."
   ]
  },
  {
   "cell_type": "code",
   "execution_count": 43,
   "id": "4faf4dfa",
   "metadata": {},
   "outputs": [
    {
     "name": "stdout",
     "output_type": "stream",
     "text": [
      "6.103835105895996\n"
     ]
    },
    {
     "data": {
      "text/markdown": [
       "- SMR (Steam Methane Reforming) and ATR (Autothermal Reforming) are both technologies used for hydrogen production from natural gas.\n",
       "- In SMR, natural gas is combusted with a portion of it being used as fuel for the process, while the rest is split into hydrogen and concentrated CO2. A diluted CO2 stream is produced in this process.\n",
       "- In ATR, the required heat is produced within the reformer itself, resulting in all the CO2 being produced inside the reactor. This allows for higher CO2 recovery rates compared to SMR.\n",
       "- ATR also allows for the capture of emissions at a lower cost than SMR because the emissions are more concentrated.\n",
       "- SMR is the most widespread technology for large-scale hydrogen production due to its favorable economics and the large number of SMR units in operation.\n",
       "- CCUS (Carbon Capture, Utilization, and Storage) can be applied to both SMR and ATR hydrogen production, leading to a reduction in carbon emissions of up to 90%.\n",
       "- Several SMR-CCUS plants are already operational, producing low-carbon hydrogen.\n",
       "- A number of studies have shown that the costs of SMR with capture rates exceeding 90% are higher than that of a comparable ATR system.\n",
       "- A large share of global ammonia and methanol production combines SMR with ATR technology.\n",
       "- The announced HyNet and H21 projects in the United Kingdom plan to use ATR with CCUS instead of SMR.\n",
       "- The efficiency of SMR and ATR in terms of hydrogen production is not explicitly mentioned in the given context.\n",
       "- The cost effectiveness of SMR and ATR is not explicitly mentioned in the given context."
      ],
      "text/plain": [
       "<IPython.core.display.Markdown object>"
      ]
     },
     "metadata": {},
     "output_type": "display_data"
    }
   ],
   "source": [
    "start_time = time.time()\n",
    "response = index.query(query19, llm=llm)\n",
    "#response = qa_stuff.run(query)\n",
    "\n",
    "run_time = time.time()-start_time\n",
    "print(run_time)\n",
    "\n",
    "display(Markdown(response))"
   ]
  },
  {
   "cell_type": "markdown",
   "id": "31d7658d",
   "metadata": {},
   "source": [
    "### Section to test out returning citations"
   ]
  },
  {
   "cell_type": "code",
   "execution_count": 44,
   "id": "514ca65d",
   "metadata": {},
   "outputs": [],
   "source": [
    "from langchain.chains import RetrievalQAWithSourcesChain"
   ]
  },
  {
   "cell_type": "code",
   "execution_count": 45,
   "id": "7d8fadbe",
   "metadata": {},
   "outputs": [],
   "source": [
    "qa_with_sources = RetrievalQAWithSourcesChain.from_chain_type(llm=llm, \n",
    "                                chain_type=\"stuff\",\n",
    "                                retriever=index.vectorstore.as_retriever(),\n",
    "                                return_source_documents=False)"
   ]
  },
  {
   "cell_type": "code",
   "execution_count": 46,
   "id": "7d67aecd",
   "metadata": {},
   "outputs": [
    {
     "data": {
      "text/plain": [
       "{'question': 'How does the cost of producing hydrogen from electrolysis compare with SMR w/CCS? Are there any particular regions in the US where electrolytic hydrogen is more cost effective? What makes that so? Provide an answer in bulleted list form in markdown. ',\n",
       " 'answer': '- The production cost of grid-based electrolytic hydrogen in the United States is already cost-effective today. (Source: \\\\Users\\\\markc\\\\Hydrogen_mini\\\\Guerra et al - 2019 - Cost Competitiveness of Electrolytic Hydrogen.pdf)\\n- CO2-free renewables, such as renewable electricity, could be among the cheapest hydrogen sources, but only in very particular situations. (Source: \\\\Users\\\\markc\\\\Hydrogen_mini\\\\Hydrogen A renewable energy perspective.pdf)\\n- The cost of producing hydrogen from electrolysis varies by region and depends on factors such as local regulations, financial aspects, and the price of renewable power and fossil fuels. (Source: \\\\Users\\\\markc\\\\Hydrogen_mini\\\\Hydrogen A renewable energy perspective.pdf)\\n- The cost of producing hydrogen in California using electrolyzers and current retail electricity tariff options offered by utilities has been analyzed. (Source: \\\\Users\\\\markc\\\\Hydrogen_mini\\\\Guerra_HydrogenIntegration.pdf)\\n',\n",
       " 'sources': '\\n- \\\\Users\\\\markc\\\\Hydrogen_mini\\\\FutureofHydrogen_IEA2019.pdf\\n- \\\\Users\\\\markc\\\\Hydrogen_mini\\\\Guerra et al - 2019 - Cost Competitiveness of Electrolytic Hydrogen.pdf\\n- \\\\Users\\\\markc\\\\Hydrogen_mini\\\\Hydrogen A renewable energy perspective.pdf\\n- \\\\Users\\\\markc\\\\Hydrogen_mini\\\\Guerra_HydrogenIntegration.pdf'}"
      ]
     },
     "execution_count": 46,
     "metadata": {},
     "output_type": "execute_result"
    }
   ],
   "source": [
    "qa_with_sources(query15)"
   ]
  },
  {
   "cell_type": "markdown",
   "id": "41f8fd8d",
   "metadata": {},
   "source": [
    "####  Key Question/Concerns for Dev"
   ]
  },
  {
   "cell_type": "code",
   "execution_count": null,
   "id": "2551381d",
   "metadata": {},
   "outputs": [],
   "source": [
    "# Getting unclear answers when combining all four reports\n",
    "# Does not seem to be correctly parsing through the data\n",
    "# Can it not read tables?\n",
    "# Why can't it generate more accurate answers?\n",
    "\n",
    "# QAGenerateChain.from_llm -> generates same questions. How to get higher fidelity questions?"
   ]
  },
  {
   "cell_type": "markdown",
   "id": "c362a4a2",
   "metadata": {},
   "source": [
    "### List of topics to add\n",
    "\n",
    "* Transportation economics\n",
    "* Natural hydrogen"
   ]
  },
  {
   "cell_type": "code",
   "execution_count": null,
   "id": "63dcc193",
   "metadata": {},
   "outputs": [],
   "source": []
  }
 ],
 "metadata": {
  "kernelspec": {
   "display_name": "Python 3 (ipykernel)",
   "language": "python",
   "name": "python3"
  },
  "language_info": {
   "codemirror_mode": {
    "name": "ipython",
    "version": 3
   },
   "file_extension": ".py",
   "mimetype": "text/x-python",
   "name": "python",
   "nbconvert_exporter": "python",
   "pygments_lexer": "ipython3",
   "version": "3.10.8"
  }
 },
 "nbformat": 4,
 "nbformat_minor": 5
}
