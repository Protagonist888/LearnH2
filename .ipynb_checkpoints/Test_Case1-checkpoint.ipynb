{
 "cells": [
  {
   "cell_type": "code",
   "execution_count": 85,
   "id": "9330177f",
   "metadata": {},
   "outputs": [
    {
     "name": "stdout",
     "output_type": "stream",
     "text": [
      "OpenAI API Key:········\n"
     ]
    }
   ],
   "source": [
    "import os\n",
    "import getpass\n",
    "import openai\n",
    "import time\n",
    "\n",
    "from dotenv import load_dotenv, find_dotenv\n",
    "_ = load_dotenv(find_dotenv()) # read local .env file\n",
    "\n",
    "os.environ['OPENAI_API_KEY'] = getpass.getpass('OpenAI API Key:')"
   ]
  },
  {
   "cell_type": "code",
   "execution_count": 15,
   "id": "3bc0d138",
   "metadata": {},
   "outputs": [],
   "source": [
    "# from openpyxl import load_workbook"
   ]
  },
  {
   "cell_type": "code",
   "execution_count": 73,
   "id": "ca0d7607",
   "metadata": {},
   "outputs": [],
   "source": [
    "from langchain.chains import RetrievalQA\n",
    "from langchain.chat_models import ChatOpenAI\n",
    "from langchain.document_loaders import PyPDFLoader\n",
    "from langchain.vectorstores import DocArrayInMemorySearch\n",
    "from IPython.display import display, Markdown"
   ]
  },
  {
   "cell_type": "code",
   "execution_count": 74,
   "id": "3bd70295",
   "metadata": {},
   "outputs": [],
   "source": [
    "file = 'C:/Users/markc/Hydrogen/H2_Scale_Ruth.pdf'\n",
    "loader = PyPDFLoader(file_path=file)\n",
    "pages = loader.load_and_split()"
   ]
  },
  {
   "cell_type": "code",
   "execution_count": 19,
   "id": "409ee1c8",
   "metadata": {},
   "outputs": [
    {
     "data": {
      "text/plain": [
       "Document(page_content='28 \\nThis report is available at no cost from the National Renewable Energy Laboratory at www.nrel.gov/publications.  4 Hydrogen  Production  \\nHydrogen can be produced from different technology pathways  and diverse resources. Currently, \\nmost  hydrogen in the U nited States  is produced via natural gas  SMR , totaling about  10 MMT /yr. \\nSMR is the most economic technology available in most cases, primarily owing  to an abundance \\nof low -cost natural gas. However,  alternative hydrogen production technologies with differing \\ncosts and levels of maturity are available or under development. For example, interest in \\nelectrolysis —the splitting of water into hydrogen and oxygen using electricity —has grown in \\nrecent years . Electrolysis offers distinct advantages over  SMR, and , although current electrolytic \\nproduction costs are high, further R&D —in addition to increased availability  of low -cost \\nrenewable electricity —is expected to reduce costs . Electrolyzer s vary by material and operating \\ntemperature; in addition to the electro lyte or membrane  material, LTE (<  100°  C) use s only \\nelectric power  for hydrogen production, and HTE  (> 600°  C) u ses electricity and heat . \\nGasification of biomass or coal provides other hydrogen production pathway s. Hydrogen can \\nalso be produced via other methods —such as photoelectrical, biochemical, and high- temperature \\nthermochemical  methods —but these technologies are at  a preliminary level of development .  \\nIn this section , we detail the five hydrogen production technologies considered in this analysis: \\nnatural gas  SMR , LTE using VRE, HTE  using nuclear -generated heat, gasification of biomass, \\nand gasification of coal. We do not consider hybrid methods such as HTE with other sources of \\nheat owing to the variety of possible options. We focus on large -scale production technologies \\n(often called  central production technologies) , because this analysis focuse s on large markets. \\nDelivery costs are added as discussed in Section 4.1, and distribution costs are subtracted from spatially dispersed demands (such as LDVs,  discussed in Section 3.7) . A discussion of emerging \\ntechnologies is included in Section 4.6. \\nWe calculate a technical potential for each technology  based on total reserves for fossil and \\nnuclear resources and annual resource availability for VRE and biomass.  In addition, we \\ncalculate s upply curves for SMR , biomass gasification, LTE, and HTE. We d o not develop \\nsupply curves for hydrogen produced via coal gasification , because the high costs are not \\ncompetitive with the other technologies included (see Section 4.5) . The technology- specific \\nsupply curves are used to calculate the aggregated economic potential of hydrogen described in \\nSection  6. \\n4.1 Steam Methane Reforming of Natural Gas   \\nThe SMR process involves a catalytic conversion of natural gas and steam to carbon dioxide and hydrogen. Oil r efining and ammonia production are the major consumers of SMR hydrogen;  they \\ncurrently use around 10 MMT of hydrogen produced on purpose in addition to about 4 MMT of \\nbyproduct hydrogen per year  (Connelly, Elgowainy, and Ruth 2019) .', metadata={'source': 'C:/Users/markc/Hydrogen/H2_Scale_Ruth.pdf', 'page': 50})"
      ]
     },
     "execution_count": 19,
     "metadata": {},
     "output_type": "execute_result"
    }
   ],
   "source": [
    "pages[59]"
   ]
  },
  {
   "cell_type": "code",
   "execution_count": 20,
   "id": "2d05385d",
   "metadata": {},
   "outputs": [
    {
     "name": "stdout",
     "output_type": "stream",
     "text": [
      "49: 27 \n",
      "This report is available at no cost from the National Renewable Energy Laboratory at www.nrel.gov/publications.  Regional demand is  estimated according to the same distribution used for LDVs.\n",
      "30: 8 \n",
      "This report is available at no cost from the National Renewable Energy Laboratory at www.nrel.gov/publications.  (IRENA 2019) . Bloomberg New Energy Finance  estimate s a theoretical global max\n",
      "37: 15 \n",
      "This report is available at no cost from the National Renewable Energy Laboratory at www.nrel.gov/publications.  3 Potential  Hydrogen Demands  \n",
      "Hydrogen can provi de value across a multitude \n",
      "132: 110 \n",
      "This report is available at no cost from the National Renewable Energy Laboratory at www.nrel.gov/publications.  7 Conclusions  \n",
      "This initial analysis indicates that the H2@Scale concept coul\n",
      "41: 19 \n",
      "This report is available at no cost from the National Renewable Energy Laboratory at www.nrel.gov/publications.  indirectly through the increased need for ammonia fertilizer in biomass product\n",
      "89: 67 \n",
      "This report is available at no cost from the National Renewable Energy Laboratory at www.nrel.gov/publications.  Table 23. Hydrogen Supply Sources and Demand Applications for Each Scenario  (M\n",
      "29: 7 \n",
      "This report is available at no cost from the National Renewable Energy Laboratory at www.nrel.gov/publications.  underway in Europe, with some in the United States as well (SoCalGas 2018; EIA 2\n",
      "133: 111 \n",
      "This report is available at no cost from the National Renewable Energy Laboratory at www.nrel.gov/publications.  H2@Scale scenarios are shown in Figure 62. These estimates are based on our as\n",
      "74: 52 \n",
      "This report is available at no cost from the National Renewable Energy Laboratory at www.nrel.gov/publications.    \n",
      "Figure 21. Locations of aggregated serviceable consumption potential s for a\n",
      "12: xii \n",
      "This report is available at no cost from the National Renewable Energy Laboratory at www.nrel.gov/publications.  growth for ammonia and methanol by driving the hydrogen price up. As in  the R\n"
     ]
    }
   ],
   "source": [
    "# This is used to pull Metadata from PDF for document loading to build knowledge database\n",
    "# FAISS = Facebook AI Similarity Search - library for efficient similarity search of dense vectors\n",
    "# - Containts algorithms that search in sets of vectors of any size, up to ones that possibly do not fit in RAM.\n",
    "\n",
    "# k specifies number of similar vectors to be returned\n",
    "\n",
    "from langchain.vectorstores import FAISS\n",
    "from langchain.embeddings.openai import OpenAIEmbeddings\n",
    "\n",
    "faiss_index = FAISS.from_documents(pages, OpenAIEmbeddings())\n",
    "docs = faiss_index.similarity_search(\"How large is hydrogen demand today?\", k=10)\n",
    "for doc in docs:\n",
    "    print(str(doc.metadata[\"page\"]) + \":\", doc.page_content[:196])\n",
    "\n"
   ]
  },
  {
   "cell_type": "code",
   "execution_count": 21,
   "id": "ff79265f",
   "metadata": {},
   "outputs": [],
   "source": [
    "from langchain.indexes import VectorstoreIndexCreator"
   ]
  },
  {
   "cell_type": "code",
   "execution_count": 22,
   "id": "333ead41",
   "metadata": {},
   "outputs": [],
   "source": [
    "# Vector store created from \"loader\" docs. Can now start querying data.\n",
    "index = VectorstoreIndexCreator(\n",
    "    vectorstore_cls=DocArrayInMemorySearch).from_loaders([loader])"
   ]
  },
  {
   "cell_type": "code",
   "execution_count": 29,
   "id": "c5d7282e",
   "metadata": {},
   "outputs": [],
   "source": [
    "query =\"Please summarize this report in fewer than 1000 words and use markdown to break out the top 5 key takeaways.\""
   ]
  },
  {
   "cell_type": "code",
   "execution_count": 30,
   "id": "5e2f1aa4",
   "metadata": {},
   "outputs": [],
   "source": [
    "response = index.query(query)"
   ]
  },
  {
   "cell_type": "code",
   "execution_count": 31,
   "id": "d4d6ec30",
   "metadata": {},
   "outputs": [
    {
     "data": {
      "text/markdown": [
       " This report provides an analysis of the potential for hydrogen demand and supply options, as well as the economic, energy, and emissions impacts. It was written by Cullen, Scott McWhorter, Jonathan Zimmerman, and Rod Borup, with input from Matt Pellow, Ron Kent, Andrew Martinez, Ugi Otgonbaatar, Joe Powell, Bryan Chapman, Jeongwoo Han, Ian Sutherland, Trevor Brown, Scott Swartz, Brad Williams, Mark O’Malley, and Mary Biddy. \n",
       "\n",
       "**Key Takeaways:**\n",
       "1. Hydrogen has potential to be a sustainable pathway for the global energy transition.\n",
       "2. The report provides an analysis of the potential for hydrogen demand and supply options, as well as the economic, energy, and emissions impacts.\n",
       "3. Estimates are based on manufacturer feedback from B. James et al. 2013.\n",
       "4. The report is organized into 8 sections, including methods, demand and supply options, results, and conclusions.\n",
       "5. The report is available at no cost from the National Renewable Energy Laboratory at www.nrel.gov/publications."
      ],
      "text/plain": [
       "<IPython.core.display.Markdown object>"
      ]
     },
     "metadata": {},
     "output_type": "display_data"
    }
   ],
   "source": [
    "display(Markdown(response))"
   ]
  },
  {
   "cell_type": "code",
   "execution_count": 32,
   "id": "ae8163c4",
   "metadata": {},
   "outputs": [],
   "source": [
    "loader = PyPDFLoader(file_path=file)"
   ]
  },
  {
   "cell_type": "code",
   "execution_count": 33,
   "id": "291fe04a",
   "metadata": {},
   "outputs": [],
   "source": [
    "docs = loader.load()"
   ]
  },
  {
   "cell_type": "code",
   "execution_count": 34,
   "id": "b3b740cd",
   "metadata": {},
   "outputs": [
    {
     "data": {
      "text/plain": [
       "Document(page_content='NREL is a national laboratory of the U.S. Department of Energy  \\nOffice of Energy Efficiency & Renewable Energy  \\nOperated by the Alliance for Sustainable Energy, LLC  \\nThis report is available at no cost from the National Renewable Energy  \\nLaboratory (NREL) at www.nrel.gov/publications.   \\n Contract No. DE -AC36 -08GO28308  \\nTechnical Report  \\nNREL/TP -6A20 -77610  \\nOctober 2020    \\nThe Technical and Economic Potential \\nof the H2@Scale Concept within the \\nUnited States  \\nMark F. Ruth,1 Paige Jadun,1 Nicholas Gilroy,1 \\nElizabeth  Connelly ,1 Richard Boardman,2 A.J. Simon,3 \\nAmgad Elgowainy ,4 and Jarett Zuboy5 \\n1 National Renewable Energy Laboratory  \\n2 Idaho National Laboratory  \\n3 Lawrence Livermore National Laboratory  \\n4 Argonne National Laboratory  \\n5 Independent Contractor  ', metadata={'source': 'C:/Users/markc/Hydrogen/H2_Scale_Ruth.pdf', 'page': 0})"
      ]
     },
     "execution_count": 34,
     "metadata": {},
     "output_type": "execute_result"
    }
   ],
   "source": [
    "docs[0]"
   ]
  },
  {
   "cell_type": "code",
   "execution_count": 45,
   "id": "0beeaf0c",
   "metadata": {},
   "outputs": [],
   "source": [
    "# Attempt to use Embeddings on report. ???\n",
    "\n",
    "from langchain.embeddings import OpenAIEmbeddings\n",
    "embeddings = OpenAIEmbeddings()"
   ]
  },
  {
   "cell_type": "markdown",
   "id": "c55acd0e",
   "metadata": {},
   "source": [
    "##### To see what/how embeddings work"
   ]
  },
  {
   "cell_type": "code",
   "execution_count": 38,
   "id": "f1f4ef29",
   "metadata": {},
   "outputs": [],
   "source": [
    "embed = embeddings.embed_query(\"Hi my name is Iron Man\")"
   ]
  },
  {
   "cell_type": "code",
   "execution_count": 39,
   "id": "ec37e7bf",
   "metadata": {},
   "outputs": [
    {
     "name": "stdout",
     "output_type": "stream",
     "text": [
      "1536\n"
     ]
    }
   ],
   "source": [
    "print(len(embed))"
   ]
  },
  {
   "cell_type": "code",
   "execution_count": 44,
   "id": "51857d12",
   "metadata": {},
   "outputs": [
    {
     "name": "stdout",
     "output_type": "stream",
     "text": [
      "[-0.03388969227671623, -0.03518833592534065, -0.022326737642288208, -0.030867839232087135, 0.0024131108075380325]\n"
     ]
    }
   ],
   "source": [
    "print(embed[:5])"
   ]
  },
  {
   "cell_type": "markdown",
   "id": "3920ca4e",
   "metadata": {},
   "source": [
    "###### Attempt to create embeddings with all content in doc and store in vectorstor."
   ]
  },
  {
   "cell_type": "code",
   "execution_count": 46,
   "id": "6f0f477e",
   "metadata": {},
   "outputs": [],
   "source": [
    "# Creates a DB with that searches for similarities given query.\n",
    "# This happens under the hood, the user sees nothing so far.\n",
    "db = DocArrayInMemorySearch.from_documents(docs, embeddings)"
   ]
  },
  {
   "cell_type": "code",
   "execution_count": 47,
   "id": "0d3d29ff",
   "metadata": {},
   "outputs": [],
   "source": [
    "query = \"How is hydrogen primarily used today?\""
   ]
  },
  {
   "cell_type": "code",
   "execution_count": 48,
   "id": "e587f2f7",
   "metadata": {},
   "outputs": [],
   "source": [
    "docs = db.similarity_search(query)"
   ]
  },
  {
   "cell_type": "code",
   "execution_count": 49,
   "id": "5f69277d",
   "metadata": {},
   "outputs": [
    {
     "data": {
      "text/plain": [
       "4"
      ]
     },
     "execution_count": 49,
     "metadata": {},
     "output_type": "execute_result"
    }
   ],
   "source": [
    "len(docs)"
   ]
  },
  {
   "cell_type": "code",
   "execution_count": 54,
   "id": "3b9216e3",
   "metadata": {},
   "outputs": [
    {
     "data": {
      "text/plain": [
       "Document(page_content='7 \\nThis report is available at no cost from the National Renewable Energy Laboratory at www.nrel.gov/publications.  underway in Europe, with some in the United States as well (SoCalGas 2018; EIA 2015c; \\nEuropean Power to Gas 2018) . \\n \\nFigure 6. U.S. transportation energy sources  (based on energy content), 201 9 (EIA 2020d)  \\nHydrogen has many existing and potential new applications specific to the industrial sector . In \\nsome of these applications, such as oil refining, hydrogen is an essential feedstock. In others, such as iron refining, its use can improve process efficiency (Green 2018) . Oil refineries \\nconsume —for processes including heavy oil hydrocracking and hydrotreating and \\ndesulfurization of sour crude —about two  thirds of the approximately 10 million metric tons \\n(MMT) of  on-purpose  feedstock hydrogen produced and consumed in the United States each \\nyear (see Section 3.1) . The remainder is used for ammonia, methanol and other alcohol \\nproduction, the food industry, metals refining, glass production, and electronics fabrication, with a small amount used in industrial vehicles such as fuel cell powered forklifts . Potential new \\napplications include small ammonia plants that are based on alternative s to the Haber -Bosch \\nprocess, biofuel upgrading, hydrogenation of  carbon dioxide  for chemical and fuel synthesis, \\niron ore reduction for steel processing, and combustion for its heating value (e.g., in power generation) . Hydrogen demand as a feedstock for ammonia could also grow owing to expansion \\nof energy -crop agriculture and the use of ammonia and amides in combustion emission control \\nsystems for stationary and transportation applications. \\nMost  previous studies of hydrogen futures  have used expert elicit ation to estimate the potential \\nfor hydrogen markets  and focus on hydrogen markets without a deep analysis of resource \\nlimitations . The Hydrogen Council developed a vision that includes 550 MMT/yr (78 exajoules \\n[EJ]/yr) of global hydrogen demand in 2050, based on estimates from industry experts of market \\nshares for hydrogen technologies in industrial feedstock and energy, building heating and power, \\ntransportation, and dispatchable power generation (Hydrogen Council 2017) . Another Hydrogen \\nCouncil report  compares the total cost of ownership for hydrogen technologies with the cost of \\nconventional and low -carbon alternatives , finding that 40 technologies in 35 applications could \\nbe cost -competitive by 2050 based on technology development and scaling for the application \\nand for hydrogen production and delivery (Hydrogen Council 2020) . Compar ed with the \\nHydrogen Council’s estimate  of 18% of final energy consumption, the International Renewable \\nEnergy Agency estimates a lower shar e: 6% in 2050 of  which is  up from the current 4% share \\n', metadata={'source': 'C:/Users/markc/Hydrogen/H2_Scale_Ruth.pdf', 'page': 29})"
      ]
     },
     "execution_count": 54,
     "metadata": {},
     "output_type": "execute_result"
    }
   ],
   "source": [
    "docs[0]"
   ]
  },
  {
   "cell_type": "code",
   "execution_count": 55,
   "id": "7c0f8489",
   "metadata": {},
   "outputs": [],
   "source": [
    "# Need to retrieve information from Vectorstor to pass back to user\n",
    "retriever = db.as_retriever()"
   ]
  },
  {
   "cell_type": "code",
   "execution_count": 56,
   "id": "86a9b512",
   "metadata": {},
   "outputs": [],
   "source": [
    "# Use language model because we want to return text\n",
    "llm = ChatOpenAI(temperature = 0.0)"
   ]
  },
  {
   "cell_type": "code",
   "execution_count": 57,
   "id": "61206e7b",
   "metadata": {},
   "outputs": [],
   "source": [
    "# Join all relevant documents from vectorstor\n",
    "qdocs = \"\".join([docs[i].page_content for i in range(len(docs))])\n"
   ]
  },
  {
   "cell_type": "code",
   "execution_count": 58,
   "id": "1c451f5e",
   "metadata": {},
   "outputs": [],
   "source": [
    "response = llm.call_as_llm(f\"{qdocs} Question: Please summarize this report in fewer than 1000 words \\\n",
    "and use markdown to break out the top 5 key takeaways.\") \n"
   ]
  },
  {
   "cell_type": "code",
   "execution_count": 59,
   "id": "2a8ee792",
   "metadata": {},
   "outputs": [
    {
     "data": {
      "text/markdown": [
       "# Summary of \"Hydrogen Demand and Potential for the H2@Scale Initiative\"\n",
       "\n",
       "This report explores the potential for hydrogen as an energy carrier and the role of the H2@Scale initiative in supporting its development. The report covers various applications of hydrogen, including transportation, industrial feedstocks, and energy storage. \n",
       "\n",
       "## Key Takeaways\n",
       "\n",
       "1. Hydrogen has many existing and potential new applications specific to the industrial sector, including oil refining, iron refining, and ammonia production. \n",
       "\n",
       "2. The transportation sector is evolving to include advanced, high-efficiency powertrains, including fuel cell electric vehicles (FCEVs) and fuel cell buses and trucks. \n",
       "\n",
       "3. Hydrogen can be used in the production of synthetic fuels or in blends with conventional fuels, and many \"power to gas\" demonstration projects are underway in Europe and the United States. \n",
       "\n",
       "4. The H2@Scale system can support the U.S. electricity sector by enhancing the affordability of renewable power and supporting critical baseload nuclear generation. \n",
       "\n",
       "5. The report estimates the serviceable consumption potential for each demand opportunity, competitive hydrogen price points, and demand locations for various potential hydrogen demands, including oil refining, metals refining, ammonia, biofuels, synthetic HC, natural gas supplementation, seasonal energy storage for the electrical grid, and FCEVs."
      ],
      "text/plain": [
       "<IPython.core.display.Markdown object>"
      ]
     },
     "metadata": {},
     "output_type": "display_data"
    }
   ],
   "source": [
    "display(Markdown(response))"
   ]
  },
  {
   "cell_type": "markdown",
   "id": "a0e297fa",
   "metadata": {},
   "source": [
    "###### All of the above can be simplified into a langchain chain below"
   ]
  },
  {
   "cell_type": "code",
   "execution_count": 98,
   "id": "06dd4656",
   "metadata": {},
   "outputs": [],
   "source": [
    "# Retrieval QA chain\n",
    "# \"stuff\" is the simplest method and stuffs all documents into context and makes one call to language model\n",
    "# !!! Review other methods such as map_reduce, refine, and map_rerank\n",
    "\n",
    "# Stuff method seems to work well for summarization and is faster retrieval time\n",
    "\n",
    "qa_stuff = RetrievalQA.from_chain_type(\n",
    "    llm=llm, \n",
    "    chain_type=\"stuff\", \n",
    "    retriever=retriever, \n",
    "    verbose=True\n",
    ")"
   ]
  },
  {
   "cell_type": "code",
   "execution_count": 99,
   "id": "e3db2239",
   "metadata": {},
   "outputs": [],
   "source": [
    "query =  \"Please summarize this report in fewer than 1000 words \\\n",
    "and use markdown to break out the top 5 key takeaways.\""
   ]
  },
  {
   "cell_type": "code",
   "execution_count": 100,
   "id": "c89482c2",
   "metadata": {},
   "outputs": [
    {
     "name": "stdout",
     "output_type": "stream",
     "text": [
      "\n",
      "\n",
      "\u001b[1m> Entering new RetrievalQA chain...\u001b[0m\n",
      "\n",
      "\u001b[1m> Finished chain.\u001b[0m\n",
      "22.224737644195557\n"
     ]
    }
   ],
   "source": [
    "start_time = time.time()\n",
    "response = qa_stuff.run(query)\n",
    "run_time = time.time()-start_time\n",
    "print(run_time)"
   ]
  },
  {
   "cell_type": "code",
   "execution_count": 101,
   "id": "39ba2bbe",
   "metadata": {},
   "outputs": [
    {
     "data": {
      "text/markdown": [
       "# Summary of Report on Hydrogen Demand and Potential Markets\n",
       "\n",
       "This report explores the potential demand for hydrogen across various industries and applications as an energy carrier for intermediate or end use. The report considers consumption of captive hydrogen (produced intentionally by the consuming industry) and merchant hydrogen (produced intentionally for sale), but does not consider captive byproduct hydrogen production. The report estimates the serviceable consumption potential for each demand opportunity, competitive hydrogen price points, and demand locations for the following potential hydrogen demands: oil refining, metals refining, ammonia, biofuels, synthetic HC, natural gas supplementation, seasonal energy storage for the electrical grid, light-duty FCEVs, and medium- and heavy-duty FCEVs.\n",
       "\n",
       "## Key Takeaways\n",
       "\n",
       "1. Hydrogen has many existing and potential new applications specific to the industrial sector. In some of these applications, such as oil refining, hydrogen is an essential feedstock. In others, such as iron refining, its use can improve process efficiency.\n",
       "2. The H2@Scale system can support the U.S. electricity sector by enhancing the affordability of renewable power and supporting critical baseload nuclear generation. The electric power sector accounts for about 40% of U.S. primary energy consumption, with the resulting electricity consumed by the industrial, residential, commercial, and transportation sectors.\n",
       "3. The potential hydrogen demand varies for each application, as does the threshold price for hydrogen in each market. The viability of alternatives to hydrogen in various markets affects the estimated threshold price. For existing hydrogen markets, such as ammonia and oil refining, the prices in the demand curves estimated here are not necessarily the prices being paid for hydrogen today; rather, they are the hydrogen prices necessary to compete against the next-best option.\n",
       "4. The success of initiatives to increase the use of zero-emission vehicles (ZEVs), including fuel cell electric vehicles (FCEVs), ultimately relies on consumer choices. The ZEV products must compare favorably with conventional vehicles in terms of cost, performance, fueling convenience, and driving range. Four FCEVs were available as of early 2020 in select locations. They have combined city/highway fuel economies of 60–66 miles per kilogram of hydrogen, driving ranges of 312–380 miles, and the ability to fill up at hydrogen dispensers in less than 5 minutes.\n",
       "5. Hydrogen can also be used in the production of synthetic fuels or in blends with conventional fuels. In some U.S. regions, financial incentives exist for such blends. For example, California’s Low Carbon Fuel Standard requires fuel producers and importers to achieve a 20% reduction in the carbon intensity of transportation fuels by 2030. This can be achieved through sale of fuels including bio-based and fossil natural gas, electricity, hydrogen, ethanol, and biodiesel. Another California policy (SB 1383) promotes use of renewable fuels by requiring a 40%–50% reduction in emissions of short-lived climate pollutants including black carbon, fluorinated gases, and methane."
      ],
      "text/plain": [
       "<IPython.core.display.Markdown object>"
      ]
     },
     "metadata": {},
     "output_type": "display_data"
    }
   ],
   "source": [
    "display(Markdown(response))"
   ]
  },
  {
   "cell_type": "markdown",
   "id": "4ed7c211",
   "metadata": {},
   "source": [
    "##### The above 5 steps could be broken down into a single simple step, but lose details in response."
   ]
  },
  {
   "cell_type": "code",
   "execution_count": 75,
   "id": "46ff7a10",
   "metadata": {},
   "outputs": [],
   "source": [
    "response = index.query(query, llm=llm)"
   ]
  },
  {
   "cell_type": "code",
   "execution_count": 76,
   "id": "39c704da",
   "metadata": {},
   "outputs": [
    {
     "data": {
      "text/markdown": [
       "I'm sorry, but I cannot summarize the report as there is no clear indication of what the report is about. The context provided only includes acknowledgments and references, but no information on the actual content of the report."
      ],
      "text/plain": [
       "<IPython.core.display.Markdown object>"
      ]
     },
     "metadata": {},
     "output_type": "display_data"
    }
   ],
   "source": [
    "display(Markdown(response))"
   ]
  },
  {
   "cell_type": "code",
   "execution_count": 77,
   "id": "a1026069",
   "metadata": {},
   "outputs": [],
   "source": [
    "index = VectorstoreIndexCreator(\n",
    "    vectorstore_cls=DocArrayInMemorySearch,\n",
    "    embedding=embeddings,\n",
    ").from_loaders([loader])"
   ]
  },
  {
   "cell_type": "code",
   "execution_count": null,
   "id": "2eb7668b",
   "metadata": {},
   "outputs": [],
   "source": [
    "# Key areas to explore/modify\n",
    "# (1) vectorstore_cls types\n",
    "# (2) chain_type"
   ]
  },
  {
   "cell_type": "code",
   "execution_count": null,
   "id": "f601463a",
   "metadata": {},
   "outputs": [],
   "source": []
  },
  {
   "cell_type": "code",
   "execution_count": null,
   "id": "a1148af0",
   "metadata": {},
   "outputs": [],
   "source": []
  },
  {
   "cell_type": "code",
   "execution_count": null,
   "id": "c1f4ffb6",
   "metadata": {},
   "outputs": [],
   "source": []
  }
 ],
 "metadata": {
  "kernelspec": {
   "display_name": "Python 3 (ipykernel)",
   "language": "python",
   "name": "python3"
  },
  "language_info": {
   "codemirror_mode": {
    "name": "ipython",
    "version": 3
   },
   "file_extension": ".py",
   "mimetype": "text/x-python",
   "name": "python",
   "nbconvert_exporter": "python",
   "pygments_lexer": "ipython3",
   "version": "3.10.8"
  }
 },
 "nbformat": 4,
 "nbformat_minor": 5
}
