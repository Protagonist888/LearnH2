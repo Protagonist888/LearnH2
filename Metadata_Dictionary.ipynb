{
 "cells": [
  {
   "cell_type": "code",
   "execution_count": 3,
   "id": "37136682",
   "metadata": {},
   "outputs": [
    {
     "name": "stdout",
     "output_type": "stream",
     "text": [
      "{'Hydrogen': {'FutureofHydrogen_IEA2019.pdf', 'HyBlend_Topolski.pdf', 'Conelly_HydrogenResource.pdf', 'AB-8-Report-2022_CARB.pdf', 'TechnoeconomicEvaluationofSolidOxideFuelCellHydrogenElectricityCoGenerationConcepts_Esslick2023.pdf', 'Techno-Economic Analysis of Integrated Gasification Fuel Cell Systems_Hackett2022P.pdf', 'hydrogen_self_sufficiency_report_CARB2021.pdf', 'FuelCellBackupPowerforGrid_Ma2019.pdf', 'HyLine_Penev2019.pdf', 'ComparisonofCommercialStateofArtFossilBasedHydrogenProductionTechnologies_Lewis2022.pdf', 'LDES_TEA_Hunter.pdf', 'Guerra_HydrogenIntegration.pdf', 'GlobalHydrogenReview2022_IEA.pdf', 'TCO_Hunter.pdf', 'HydrogenSafetyReviewforGasTurbinesSOFCandHighTemperatureHydrogenProduction_Rowan2023.pdf', 'H2_Scale_Elgowainy.pdf', 'HigherSolarUsingGasPipelineforStorage_Harrison2021.pdf', 'StatusUpdateonNETLTechnoEconomicAnalysisofSolidOxideCells_Hackett2023P.pdf', 'H2_Scale_Ruth.pdf'}}\n"
     ]
    }
   ],
   "source": [
    "import os\n",
    "import fnmatch\n",
    "from collections import defaultdict\n",
    "\n",
    "\n",
    "d=defaultdict(set)\n",
    "for path, dirs, files in os.walk('C:/Users/markc/Hydrogen'):\n",
    "   for f in fnmatch.filter(files,'*.pdf'):\n",
    "      d[os.path.basename(path)].add(f)\n",
    "\n",
    "print(dict(d))"
   ]
  },
  {
   "cell_type": "code",
   "execution_count": null,
   "id": "63b1be53",
   "metadata": {},
   "outputs": [],
   "source": []
  }
 ],
 "metadata": {
  "kernelspec": {
   "display_name": "Python 3 (ipykernel)",
   "language": "python",
   "name": "python3"
  },
  "language_info": {
   "codemirror_mode": {
    "name": "ipython",
    "version": 3
   },
   "file_extension": ".py",
   "mimetype": "text/x-python",
   "name": "python",
   "nbconvert_exporter": "python",
   "pygments_lexer": "ipython3",
   "version": "3.10.8"
  }
 },
 "nbformat": 4,
 "nbformat_minor": 5
}
